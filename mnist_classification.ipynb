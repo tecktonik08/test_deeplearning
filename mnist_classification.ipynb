{
  "nbformat": 4,
  "nbformat_minor": 0,
  "metadata": {
    "colab": {
      "name": "mnist_classification.ipynb",
      "provenance": [],
      "authorship_tag": "ABX9TyOs7H4bV3SBMMXrH0Dxpv1R"
    },
    "kernelspec": {
      "name": "python3",
      "display_name": "Python 3"
    },
    "language_info": {
      "name": "python"
    }
  },
  "cells": [
    {
      "cell_type": "code",
      "metadata": {
        "id": "Wvt898FrlulK"
      },
      "source": [
        "from tensorflow.keras.datasets.mnist import load_data"
      ],
      "execution_count": 27,
      "outputs": []
    },
    {
      "cell_type": "code",
      "metadata": {
        "colab": {
          "base_uri": "https://localhost:8080/"
        },
        "id": "bw-F8ZaXmwsE",
        "outputId": "f57f4af5-34c3-43fe-f336-a71da10144f5"
      },
      "source": [
        "(x_train, y_train), (x_test, y_test) = load_data(path='mnist.npz')\n",
        "x_train.shape, y_train.shape, x_test.shape, y_test.shape"
      ],
      "execution_count": 28,
      "outputs": [
        {
          "output_type": "execute_result",
          "data": {
            "text/plain": [
              "((60000, 28, 28), (60000,), (10000, 28, 28), (10000,))"
            ]
          },
          "metadata": {
            "tags": []
          },
          "execution_count": 28
        }
      ]
    },
    {
      "cell_type": "code",
      "metadata": {
        "id": "D55i7a-PsVZr",
        "colab": {
          "base_uri": "https://localhost:8080/"
        },
        "outputId": "bb4625d2-b9b4-48b8-8c5f-1a1fee0e6f70"
      },
      "source": [
        "# x_train[4], y_train[4]\n",
        "x_train[50000], y_train[50000]"
      ],
      "execution_count": 29,
      "outputs": [
        {
          "output_type": "execute_result",
          "data": {
            "text/plain": [
              "(array([[  0,   0,   0,   0,   0,   0,   0,   0,   0,   0,   0,   0,   0,\n",
              "           0,   0,   0,   0,   0,   0,   0,   0,   0,   0,   0,   0,   0,\n",
              "           0,   0],\n",
              "        [  0,   0,   0,   0,   0,   0,   0,   0,   0,   0,   0,   0,   0,\n",
              "           0,   0,   0,   0,   0,   0,   0,   0,   0,   0,   0,   0,   0,\n",
              "           0,   0],\n",
              "        [  0,   0,   0,   0,   0,   0,   0,   0,   0,   0,   0,   0,   0,\n",
              "           0,   0,   0,   0,   0,   0,   0,   0,   0,   0,   0,   0,   0,\n",
              "           0,   0],\n",
              "        [  0,   0,   0,   0,   0,   0,   0,   0,   0,   0,   0,   0,   0,\n",
              "           0,   0,   0,   0,   0,   0,   0,   0,   0,   0,   0,   0,   0,\n",
              "           0,   0],\n",
              "        [  0,   0,   0,   0,   0,   0,   0,   0,   0,   0,  47, 160, 195,\n",
              "         205,  71,  86,  13,   0,   0,   0,   0,   0,   0,   0,   0,   0,\n",
              "           0,   0],\n",
              "        [  0,   0,   0,   0,   0,   0,   0,   0,   0,  12, 238, 254, 254,\n",
              "         254, 254, 254, 227,  84,   0,   0,   0,   0,   0,   0,   0,   0,\n",
              "           0,   0],\n",
              "        [  0,   0,   0,   0,   0,   0,   0,   0,   0,  13, 196, 176, 127,\n",
              "         176, 207, 236, 245, 222,  23,   0,   0,   0,   0,   0,   0,   0,\n",
              "           0,   0],\n",
              "        [  0,   0,   0,   0,   0,   0,   0,   0,   0,   0,   0,   0,   0,\n",
              "           0,   0,  20, 137, 254,  95,   0,   0,   0,   0,   0,   0,   0,\n",
              "           0,   0],\n",
              "        [  0,   0,   0,   0,   0,   0,   0,   0,   0,   0,   0,   0,   0,\n",
              "           0,   0,   0,  78, 254, 144,   0,   0,   0,   0,   0,   0,   0,\n",
              "           0,   0],\n",
              "        [  0,   0,   0,   0,   0,   0,   0,   0,   0,   0,   0,   0,   0,\n",
              "           0,   0,  17, 200, 254, 170,   0,   0,   0,   0,   0,   0,   0,\n",
              "           0,   0],\n",
              "        [  0,   0,   0,   0,   0,   0,   0,   0,   0,   0,   0,   0,   0,\n",
              "           0,  47, 218, 254, 216,  29,   0,   0,   0,   0,   0,   0,   0,\n",
              "           0,   0],\n",
              "        [  0,   0,   0,   0,   0,   0,   0,   0,   0,   0,   0,   0,   0,\n",
              "          95, 225, 254, 245,  65,   0,   0,   0,   0,   0,   0,   0,   0,\n",
              "           0,   0],\n",
              "        [  0,   0,   0,   0,   0,   0,   0,   0,   0,   0,   0,  12, 128,\n",
              "         252, 254, 236,  40,   0,   0,   0,   0,   0,   0,   0,   0,   0,\n",
              "           0,   0],\n",
              "        [  0,   0,   0,   0,   0,   0,   0,   0,   0,   0,   0, 172, 254,\n",
              "         254, 170,  58,   0,   0,   0,   0,   0,   0,   0,   0,   0,   0,\n",
              "           0,   0],\n",
              "        [  0,   0,   0,   0,   0,   0,   0,   0,   0,   0,   0, 207, 254,\n",
              "         254,  65,   0,   0,   0,   0,   0,   0,   0,   0,   0,   0,   0,\n",
              "           0,   0],\n",
              "        [  0,   0,   0,   0,   0,   0,   0,   0,   0,   0,   0, 137, 254,\n",
              "         254, 251, 146,  26,   0,   0,   0,   0,   0,   0,   0,   0,   0,\n",
              "           0,   0],\n",
              "        [  0,   0,   0,   0,   0,   0,   0,   0,   0,   0,   0,   9, 173,\n",
              "         224, 254, 254, 230,  71,   0,   0,   0,   0,   0,   0,   0,   0,\n",
              "           0,   0],\n",
              "        [  0,   0,   0,   0,   0,   0,   0,   0,   0,   0,   0,   0,   8,\n",
              "          12, 254, 254, 254, 246, 104,   0,   0,   0,   0,   0,   0,   0,\n",
              "           0,   0],\n",
              "        [  0,   0,   0,   0,   0,   0,   0,   0,   0,   0,   0,   0,   0,\n",
              "           0,  46, 189, 254, 254, 224,   0,   0,   0,   0,   0,   0,   0,\n",
              "           0,   0],\n",
              "        [  0,   0,   0,   0,   0,   0,   0,   0,   0,  10,   0,   0,   0,\n",
              "           0,   0,  17, 175, 254, 254,  25,   0,   0,   0,   0,   0,   0,\n",
              "           0,   0],\n",
              "        [  0,   0,   0,   0,   0,   0,   0,   0,  35, 231, 156, 112,  87,\n",
              "         186, 191, 218, 254, 254, 219,   0,   0,   0,   0,   0,   0,   0,\n",
              "           0,   0],\n",
              "        [  0,   0,   0,   0,   0,   0,   0,   0, 120, 255, 254, 254, 254,\n",
              "         254, 255, 254, 254, 242,  67,   0,   0,   0,   0,   0,   0,   0,\n",
              "           0,   0],\n",
              "        [  0,   0,   0,   0,   0,   0,   0,   0, 139, 255, 254, 254, 254,\n",
              "         254, 255, 171,  46,  24,   0,   0,   0,   0,   0,   0,   0,   0,\n",
              "           0,   0],\n",
              "        [  0,   0,   0,   0,   0,   0,   0,   0,   5,  71, 164, 189, 174,\n",
              "         174,  66,   4,   0,   0,   0,   0,   0,   0,   0,   0,   0,   0,\n",
              "           0,   0],\n",
              "        [  0,   0,   0,   0,   0,   0,   0,   0,   0,   0,   0,   0,   0,\n",
              "           0,   0,   0,   0,   0,   0,   0,   0,   0,   0,   0,   0,   0,\n",
              "           0,   0],\n",
              "        [  0,   0,   0,   0,   0,   0,   0,   0,   0,   0,   0,   0,   0,\n",
              "           0,   0,   0,   0,   0,   0,   0,   0,   0,   0,   0,   0,   0,\n",
              "           0,   0],\n",
              "        [  0,   0,   0,   0,   0,   0,   0,   0,   0,   0,   0,   0,   0,\n",
              "           0,   0,   0,   0,   0,   0,   0,   0,   0,   0,   0,   0,   0,\n",
              "           0,   0],\n",
              "        [  0,   0,   0,   0,   0,   0,   0,   0,   0,   0,   0,   0,   0,\n",
              "           0,   0,   0,   0,   0,   0,   0,   0,   0,   0,   0,   0,   0,\n",
              "           0,   0]], dtype=uint8), 3)"
            ]
          },
          "metadata": {
            "tags": []
          },
          "execution_count": 29
        }
      ]
    },
    {
      "cell_type": "code",
      "metadata": {
        "colab": {
          "base_uri": "https://localhost:8080/",
          "height": 283
        },
        "id": "vGQ0Hko2qnVf",
        "outputId": "e2c5dba4-344f-4628-948c-f14ffe1f80ce"
      },
      "source": [
        "import matplotlib.pyplot as plt\n",
        "\n",
        "plt.imshow(x_train[50000])\n",
        "print(y_train[50000], type(y_train[50000]))"
      ],
      "execution_count": 30,
      "outputs": [
        {
          "output_type": "stream",
          "text": [
            "3 <class 'numpy.uint8'>\n"
          ],
          "name": "stdout"
        },
        {
          "output_type": "display_data",
          "data": {
            "image/png": "[encoded data removed]",
            "text/plain": [
              "<Figure size 432x288 with 1 Axes>"
            ]
          },
          "metadata": {
            "tags": [],
            "needs_background": "light"
          }
        }
      ]
    },
    {
      "cell_type": "markdown",
      "metadata": {
        "id": "8Ijf8SCfvJ1t"
      },
      "source": [
        "reshape를 통해 차원을 줄여줌"
      ]
    },
    {
      "cell_type": "code",
      "metadata": {
        "colab": {
          "base_uri": "https://localhost:8080/"
        },
        "id": "Iz9LURrutDqE",
        "outputId": "51a3f04c-c6b7-4d14-bc2a-58b892e1ed3b"
      },
      "source": [
        "x_train = x_train.reshape(-1,28*28) / 255\n",
        "x_train.shape"
      ],
      "execution_count": 31,
      "outputs": [
        {
          "output_type": "execute_result",
          "data": {
            "text/plain": [
              "(60000, 784)"
            ]
          },
          "metadata": {
            "tags": []
          },
          "execution_count": 31
        }
      ]
    },
    {
      "cell_type": "code",
      "metadata": {
        "colab": {
          "base_uri": "https://localhost:8080/"
        },
        "id": "RX4BijF4uyns",
        "outputId": "efdb691f-63ed-4687-ab56-2d429bc5131e"
      },
      "source": [
        "x_test = x_test.reshape(-1, 28*28) / 255\n",
        "x_test.shape"
      ],
      "execution_count": 32,
      "outputs": [
        {
          "output_type": "execute_result",
          "data": {
            "text/plain": [
              "(10000, 784)"
            ]
          },
          "metadata": {
            "tags": []
          },
          "execution_count": 32
        }
      ]
    },
    {
      "cell_type": "code",
      "metadata": {
        "colab": {
          "base_uri": "https://localhost:8080/"
        },
        "id": "mm7AYwYxvQk1",
        "outputId": "3f51c342-9a84-42ee-ccc7-92b7df2d7c00"
      },
      "source": [
        "y_train[2:10], y_train.shape"
      ],
      "execution_count": 33,
      "outputs": [
        {
          "output_type": "execute_result",
          "data": {
            "text/plain": [
              "(array([4, 1, 9, 2, 1, 3, 1, 4], dtype=uint8), (60000,))"
            ]
          },
          "metadata": {
            "tags": []
          },
          "execution_count": 33
        }
      ]
    },
    {
      "cell_type": "code",
      "metadata": {
        "colab": {
          "base_uri": "https://localhost:8080/"
        },
        "id": "DzDmVYa2xc02",
        "outputId": "2b859657-3170-4013-b41b-e243906c10c7"
      },
      "source": [
        "import numpy as np\n",
        "np.unique(y_train)"
      ],
      "execution_count": 34,
      "outputs": [
        {
          "output_type": "execute_result",
          "data": {
            "text/plain": [
              "array([0, 1, 2, 3, 4, 5, 6, 7, 8, 9], dtype=uint8)"
            ]
          },
          "metadata": {
            "tags": []
          },
          "execution_count": 34
        }
      ]
    },
    {
      "cell_type": "markdown",
      "metadata": {
        "id": "lz15fvowwFVX"
      },
      "source": [
        "# apply model"
      ]
    },
    {
      "cell_type": "code",
      "metadata": {
        "id": "oFxWKM1nvhzF"
      },
      "source": [
        "import tensorflow as tf"
      ],
      "execution_count": 35,
      "outputs": []
    },
    {
      "cell_type": "code",
      "metadata": {
        "id": "aCK8xIjzwXtv",
        "colab": {
          "base_uri": "https://localhost:8080/"
        },
        "outputId": "ff4c2bda-e3fb-470d-fe86-06ca396d9a79"
      },
      "source": [
        "model = tf.keras.models.Sequential()\n",
        "\n",
        "model.add(tf.keras.Input(shape=(784,))) # input layer\n",
        "model.add(tf.keras.layers.Dense(64, activation='relu')) # hidden layer\n",
        "model.add(tf.keras.layers.Dense(64, activation='relu')) # hidden layer\n",
        "# 결과값 3개 이상 softmax 사용, 결과 binary --> sigmoid 사용\n",
        "model.add(tf.keras.layers.Dense(10, activation='softmax')) # output layer\n",
        "\n",
        "# regression --> loss : mse\n",
        "# bianry classification --> loss : binary crossentropy\n",
        "# over 3 classification --> loss : categorical crossentropy(onehot encoding), spars_categorical_crossentropy(onehot encoding X)\n",
        "model.compile(optimizer='adam', loss='sparse_categorical_crossentropy', metrics=['acc'])"
      ],
      "execution_count": 36,
      "outputs": [
        {
          "output_type": "stream",
          "text": [
            "WARNING:tensorflow:Please add `keras.layers.InputLayer` instead of `keras.Input` to Sequential model. `keras.Input` is intended to be used by Functional model.\n"
          ],
          "name": "stdout"
        }
      ]
    },
    {
      "cell_type": "markdown",
      "metadata": {
        "id": "tbN7WB7AFmXZ"
      },
      "source": [
        "spars_categorical_crossentropy   -->  onehot encoding을 안 해줬을 때<br>\n",
        "categorical_crossentropy   -->  one hot encoding을 했을 때"
      ]
    },
    {
      "cell_type": "code",
      "metadata": {
        "colab": {
          "base_uri": "https://localhost:8080/"
        },
        "id": "Zvy94SKH-6fc",
        "outputId": "54c8bbf3-487b-4bc5-84b3-9fd2cf653bee"
      },
      "source": [
        "hist = model.fit(x_train, y_train, epochs=100, validation_split=0.3)"
      ],
      "execution_count": 37,
      "outputs": [
        {
          "output_type": "stream",
          "text": [
            "Epoch 1/100\n",
            "1313/1313 [==============================] - 4s 3ms/step - loss: 0.3255 - acc: 0.9055 - val_loss: 0.1718 - val_acc: 0.9484\n",
            "Epoch 2/100\n",
            "1313/1313 [==============================] - 3s 3ms/step - loss: 0.1432 - acc: 0.9571 - val_loss: 0.1423 - val_acc: 0.9582\n",
            "Epoch 3/100\n",
            "1313/1313 [==============================] - 3s 3ms/step - loss: 0.1021 - acc: 0.9693 - val_loss: 0.1254 - val_acc: 0.9618\n",
            "Epoch 4/100\n",
            "1313/1313 [==============================] - 3s 3ms/step - loss: 0.0765 - acc: 0.9763 - val_loss: 0.1124 - val_acc: 0.9666\n",
            "Epoch 5/100\n",
            "1313/1313 [==============================] - 3s 3ms/step - loss: 0.0631 - acc: 0.9798 - val_loss: 0.1091 - val_acc: 0.9685\n",
            "Epoch 6/100\n",
            "1313/1313 [==============================] - 3s 3ms/step - loss: 0.0504 - acc: 0.9840 - val_loss: 0.1107 - val_acc: 0.9687\n",
            "Epoch 7/100\n",
            "1313/1313 [==============================] - 3s 3ms/step - loss: 0.0402 - acc: 0.9869 - val_loss: 0.1077 - val_acc: 0.9706\n",
            "Epoch 8/100\n",
            "1313/1313 [==============================] - 3s 2ms/step - loss: 0.0347 - acc: 0.9882 - val_loss: 0.1245 - val_acc: 0.9671\n",
            "Epoch 9/100\n",
            "1313/1313 [==============================] - 3s 3ms/step - loss: 0.0276 - acc: 0.9908 - val_loss: 0.1221 - val_acc: 0.9687\n",
            "Epoch 10/100\n",
            "1313/1313 [==============================] - 3s 3ms/step - loss: 0.0265 - acc: 0.9915 - val_loss: 0.1343 - val_acc: 0.9665\n",
            "Epoch 11/100\n",
            "1313/1313 [==============================] - 3s 3ms/step - loss: 0.0220 - acc: 0.9926 - val_loss: 0.1221 - val_acc: 0.9704\n",
            "Epoch 12/100\n",
            "1313/1313 [==============================] - 3s 3ms/step - loss: 0.0185 - acc: 0.9940 - val_loss: 0.1372 - val_acc: 0.9682\n",
            "Epoch 13/100\n",
            "1313/1313 [==============================] - 3s 3ms/step - loss: 0.0181 - acc: 0.9938 - val_loss: 0.1441 - val_acc: 0.9683\n",
            "Epoch 14/100\n",
            "1313/1313 [==============================] - 3s 2ms/step - loss: 0.0165 - acc: 0.9949 - val_loss: 0.1474 - val_acc: 0.9682\n",
            "Epoch 15/100\n",
            "1313/1313 [==============================] - 3s 3ms/step - loss: 0.0152 - acc: 0.9950 - val_loss: 0.1522 - val_acc: 0.9675\n",
            "Epoch 16/100\n",
            "1313/1313 [==============================] - 4s 3ms/step - loss: 0.0131 - acc: 0.9956 - val_loss: 0.1552 - val_acc: 0.9682\n",
            "Epoch 17/100\n",
            "1313/1313 [==============================] - 3s 3ms/step - loss: 0.0143 - acc: 0.9952 - val_loss: 0.1512 - val_acc: 0.9719\n",
            "Epoch 18/100\n",
            "1313/1313 [==============================] - 3s 3ms/step - loss: 0.0116 - acc: 0.9957 - val_loss: 0.1430 - val_acc: 0.9726\n",
            "Epoch 19/100\n",
            "1313/1313 [==============================] - 3s 3ms/step - loss: 0.0103 - acc: 0.9968 - val_loss: 0.1499 - val_acc: 0.9714\n",
            "Epoch 20/100\n",
            "1313/1313 [==============================] - 3s 3ms/step - loss: 0.0136 - acc: 0.9956 - val_loss: 0.1714 - val_acc: 0.9683\n",
            "Epoch 21/100\n",
            "1313/1313 [==============================] - 3s 3ms/step - loss: 0.0088 - acc: 0.9973 - val_loss: 0.1465 - val_acc: 0.9731\n",
            "Epoch 22/100\n",
            "1313/1313 [==============================] - 3s 3ms/step - loss: 0.0104 - acc: 0.9965 - val_loss: 0.1852 - val_acc: 0.9683\n",
            "Epoch 23/100\n",
            "1313/1313 [==============================] - 3s 2ms/step - loss: 0.0119 - acc: 0.9959 - val_loss: 0.1741 - val_acc: 0.9695\n",
            "Epoch 24/100\n",
            "1313/1313 [==============================] - 3s 3ms/step - loss: 0.0075 - acc: 0.9976 - val_loss: 0.1855 - val_acc: 0.9691\n",
            "Epoch 25/100\n",
            "1313/1313 [==============================] - 3s 3ms/step - loss: 0.0085 - acc: 0.9969 - val_loss: 0.1752 - val_acc: 0.9704\n",
            "Epoch 26/100\n",
            "1313/1313 [==============================] - 3s 2ms/step - loss: 0.0091 - acc: 0.9969 - val_loss: 0.1854 - val_acc: 0.9709\n",
            "Epoch 27/100\n",
            "1313/1313 [==============================] - 3s 3ms/step - loss: 0.0099 - acc: 0.9966 - val_loss: 0.1874 - val_acc: 0.9705\n",
            "Epoch 28/100\n",
            "1313/1313 [==============================] - 3s 3ms/step - loss: 0.0075 - acc: 0.9974 - val_loss: 0.1840 - val_acc: 0.9707\n",
            "Epoch 29/100\n",
            "1313/1313 [==============================] - 3s 3ms/step - loss: 0.0102 - acc: 0.9964 - val_loss: 0.1909 - val_acc: 0.9706\n",
            "Epoch 30/100\n",
            "1313/1313 [==============================] - 3s 3ms/step - loss: 0.0050 - acc: 0.9984 - val_loss: 0.1753 - val_acc: 0.9732\n",
            "Epoch 31/100\n",
            "1313/1313 [==============================] - 3s 3ms/step - loss: 0.0078 - acc: 0.9974 - val_loss: 0.2288 - val_acc: 0.9671\n",
            "Epoch 32/100\n",
            "1313/1313 [==============================] - 3s 2ms/step - loss: 0.0082 - acc: 0.9973 - val_loss: 0.2101 - val_acc: 0.9719\n",
            "Epoch 33/100\n",
            "1313/1313 [==============================] - 3s 3ms/step - loss: 0.0086 - acc: 0.9971 - val_loss: 0.1927 - val_acc: 0.9717\n",
            "Epoch 34/100\n",
            "1313/1313 [==============================] - 3s 3ms/step - loss: 0.0040 - acc: 0.9989 - val_loss: 0.2058 - val_acc: 0.9718\n",
            "Epoch 35/100\n",
            "1313/1313 [==============================] - 4s 3ms/step - loss: 0.0101 - acc: 0.9970 - val_loss: 0.2079 - val_acc: 0.9715\n",
            "Epoch 36/100\n",
            "1313/1313 [==============================] - 3s 2ms/step - loss: 0.0080 - acc: 0.9974 - val_loss: 0.1863 - val_acc: 0.9733\n",
            "Epoch 37/100\n",
            "1313/1313 [==============================] - 3s 3ms/step - loss: 0.0053 - acc: 0.9980 - val_loss: 0.2153 - val_acc: 0.9703\n",
            "Epoch 38/100\n",
            "1313/1313 [==============================] - 3s 3ms/step - loss: 0.0103 - acc: 0.9969 - val_loss: 0.2157 - val_acc: 0.9719\n",
            "Epoch 39/100\n",
            "1313/1313 [==============================] - 3s 2ms/step - loss: 0.0093 - acc: 0.9970 - val_loss: 0.2009 - val_acc: 0.9727\n",
            "Epoch 40/100\n",
            "1313/1313 [==============================] - 3s 3ms/step - loss: 0.0068 - acc: 0.9978 - val_loss: 0.2209 - val_acc: 0.9703\n",
            "Epoch 41/100\n",
            "1313/1313 [==============================] - 3s 3ms/step - loss: 0.0078 - acc: 0.9973 - val_loss: 0.2241 - val_acc: 0.9703\n",
            "Epoch 42/100\n",
            "1313/1313 [==============================] - 3s 3ms/step - loss: 0.0057 - acc: 0.9984 - val_loss: 0.2273 - val_acc: 0.9689\n",
            "Epoch 43/100\n",
            "1313/1313 [==============================] - 3s 2ms/step - loss: 0.0122 - acc: 0.9966 - val_loss: 0.2314 - val_acc: 0.9697\n",
            "Epoch 44/100\n",
            "1313/1313 [==============================] - 3s 2ms/step - loss: 0.0047 - acc: 0.9985 - val_loss: 0.2325 - val_acc: 0.9702\n",
            "Epoch 45/100\n",
            "1313/1313 [==============================] - 3s 3ms/step - loss: 0.0061 - acc: 0.9983 - val_loss: 0.2332 - val_acc: 0.9717\n",
            "Epoch 46/100\n",
            "1313/1313 [==============================] - 3s 2ms/step - loss: 0.0049 - acc: 0.9985 - val_loss: 0.2229 - val_acc: 0.9725\n",
            "Epoch 47/100\n",
            "1313/1313 [==============================] - 3s 3ms/step - loss: 0.0081 - acc: 0.9976 - val_loss: 0.2270 - val_acc: 0.9718\n",
            "Epoch 48/100\n",
            "1313/1313 [==============================] - 3s 3ms/step - loss: 0.0057 - acc: 0.9982 - val_loss: 0.2607 - val_acc: 0.9701\n",
            "Epoch 49/100\n",
            "1313/1313 [==============================] - 3s 3ms/step - loss: 0.0089 - acc: 0.9974 - val_loss: 0.2503 - val_acc: 0.9696\n",
            "Epoch 50/100\n",
            "1313/1313 [==============================] - 3s 2ms/step - loss: 0.0045 - acc: 0.9986 - val_loss: 0.2570 - val_acc: 0.9676\n",
            "Epoch 51/100\n",
            "1313/1313 [==============================] - 3s 3ms/step - loss: 0.0050 - acc: 0.9987 - val_loss: 0.2534 - val_acc: 0.9686\n",
            "Epoch 52/100\n",
            "1313/1313 [==============================] - 3s 3ms/step - loss: 0.0078 - acc: 0.9978 - val_loss: 0.2379 - val_acc: 0.9722\n",
            "Epoch 53/100\n",
            "1313/1313 [==============================] - 3s 3ms/step - loss: 0.0058 - acc: 0.9983 - val_loss: 0.2547 - val_acc: 0.9704\n",
            "Epoch 54/100\n",
            "1313/1313 [==============================] - 3s 3ms/step - loss: 0.0065 - acc: 0.9981 - val_loss: 0.2320 - val_acc: 0.9704\n",
            "Epoch 55/100\n",
            "1313/1313 [==============================] - 4s 3ms/step - loss: 0.0057 - acc: 0.9982 - val_loss: 0.2468 - val_acc: 0.9717\n",
            "Epoch 56/100\n",
            "1313/1313 [==============================] - 3s 3ms/step - loss: 0.0061 - acc: 0.9981 - val_loss: 0.2577 - val_acc: 0.9726\n",
            "Epoch 57/100\n",
            "1313/1313 [==============================] - 3s 3ms/step - loss: 0.0053 - acc: 0.9984 - val_loss: 0.2370 - val_acc: 0.9740\n",
            "Epoch 58/100\n",
            "1313/1313 [==============================] - 3s 3ms/step - loss: 0.0073 - acc: 0.9980 - val_loss: 0.2709 - val_acc: 0.9708\n",
            "Epoch 59/100\n",
            "1313/1313 [==============================] - 3s 3ms/step - loss: 0.0066 - acc: 0.9981 - val_loss: 0.2413 - val_acc: 0.9727\n",
            "Epoch 60/100\n",
            "1313/1313 [==============================] - 3s 3ms/step - loss: 0.0052 - acc: 0.9985 - val_loss: 0.2626 - val_acc: 0.9709\n",
            "Epoch 61/100\n",
            "1313/1313 [==============================] - 3s 2ms/step - loss: 0.0048 - acc: 0.9985 - val_loss: 0.2730 - val_acc: 0.9693\n",
            "Epoch 62/100\n",
            "1313/1313 [==============================] - 3s 2ms/step - loss: 0.0072 - acc: 0.9977 - val_loss: 0.2537 - val_acc: 0.9716\n",
            "Epoch 63/100\n",
            "1313/1313 [==============================] - 3s 3ms/step - loss: 0.0046 - acc: 0.9986 - val_loss: 0.2830 - val_acc: 0.9697\n",
            "Epoch 64/100\n",
            "1313/1313 [==============================] - 3s 3ms/step - loss: 0.0048 - acc: 0.9985 - val_loss: 0.2586 - val_acc: 0.9733\n",
            "Epoch 65/100\n",
            "1313/1313 [==============================] - 3s 2ms/step - loss: 0.0067 - acc: 0.9980 - val_loss: 0.2605 - val_acc: 0.9725\n",
            "Epoch 66/100\n",
            "1313/1313 [==============================] - 3s 3ms/step - loss: 0.0064 - acc: 0.9981 - val_loss: 0.2766 - val_acc: 0.9723\n",
            "Epoch 67/100\n",
            "1313/1313 [==============================] - 3s 3ms/step - loss: 0.0050 - acc: 0.9985 - val_loss: 0.2759 - val_acc: 0.9716\n",
            "Epoch 68/100\n",
            "1313/1313 [==============================] - 3s 3ms/step - loss: 0.0059 - acc: 0.9984 - val_loss: 0.2564 - val_acc: 0.9714\n",
            "Epoch 69/100\n",
            "1313/1313 [==============================] - 3s 3ms/step - loss: 0.0043 - acc: 0.9988 - val_loss: 0.2846 - val_acc: 0.9713\n",
            "Epoch 70/100\n",
            "1313/1313 [==============================] - 3s 3ms/step - loss: 0.0075 - acc: 0.9979 - val_loss: 0.2613 - val_acc: 0.9728\n",
            "Epoch 71/100\n",
            "1313/1313 [==============================] - 3s 2ms/step - loss: 0.0058 - acc: 0.9984 - val_loss: 0.2572 - val_acc: 0.9725\n",
            "Epoch 72/100\n",
            "1313/1313 [==============================] - 3s 3ms/step - loss: 0.0031 - acc: 0.9989 - val_loss: 0.2715 - val_acc: 0.9721\n",
            "Epoch 73/100\n",
            "1313/1313 [==============================] - 3s 3ms/step - loss: 0.0070 - acc: 0.9980 - val_loss: 0.3082 - val_acc: 0.9711\n",
            "Epoch 74/100\n",
            "1313/1313 [==============================] - 3s 3ms/step - loss: 0.0041 - acc: 0.9986 - val_loss: 0.2779 - val_acc: 0.9725\n",
            "Epoch 75/100\n",
            "1313/1313 [==============================] - 3s 3ms/step - loss: 0.0022 - acc: 0.9992 - val_loss: 0.2978 - val_acc: 0.9724\n",
            "Epoch 76/100\n",
            "1313/1313 [==============================] - 3s 3ms/step - loss: 0.0066 - acc: 0.9981 - val_loss: 0.3109 - val_acc: 0.9719\n",
            "Epoch 77/100\n",
            "1313/1313 [==============================] - 3s 3ms/step - loss: 0.0066 - acc: 0.9983 - val_loss: 0.3291 - val_acc: 0.9717\n",
            "Epoch 78/100\n",
            "1313/1313 [==============================] - 3s 2ms/step - loss: 0.0061 - acc: 0.9984 - val_loss: 0.2839 - val_acc: 0.9738\n",
            "Epoch 79/100\n",
            "1313/1313 [==============================] - 3s 2ms/step - loss: 0.0032 - acc: 0.9990 - val_loss: 0.3479 - val_acc: 0.9694\n",
            "Epoch 80/100\n",
            "1313/1313 [==============================] - 3s 2ms/step - loss: 0.0055 - acc: 0.9984 - val_loss: 0.2984 - val_acc: 0.9724\n",
            "Epoch 81/100\n",
            "1313/1313 [==============================] - 3s 3ms/step - loss: 0.0072 - acc: 0.9984 - val_loss: 0.2945 - val_acc: 0.9722\n",
            "Epoch 82/100\n",
            "1313/1313 [==============================] - 3s 3ms/step - loss: 0.0025 - acc: 0.9993 - val_loss: 0.3090 - val_acc: 0.9719\n",
            "Epoch 83/100\n",
            "1313/1313 [==============================] - 3s 3ms/step - loss: 0.0061 - acc: 0.9984 - val_loss: 0.3053 - val_acc: 0.9717\n",
            "Epoch 84/100\n",
            "1313/1313 [==============================] - 3s 3ms/step - loss: 0.0053 - acc: 0.9988 - val_loss: 0.2995 - val_acc: 0.9716\n",
            "Epoch 85/100\n",
            "1313/1313 [==============================] - 3s 3ms/step - loss: 0.0028 - acc: 0.9991 - val_loss: 0.3144 - val_acc: 0.9725\n",
            "Epoch 86/100\n",
            "1313/1313 [==============================] - 3s 3ms/step - loss: 0.0090 - acc: 0.9979 - val_loss: 0.3414 - val_acc: 0.9683\n",
            "Epoch 87/100\n",
            "1313/1313 [==============================] - 4s 3ms/step - loss: 0.0049 - acc: 0.9988 - val_loss: 0.3065 - val_acc: 0.9741\n",
            "Epoch 88/100\n",
            "1313/1313 [==============================] - 3s 3ms/step - loss: 0.0038 - acc: 0.9990 - val_loss: 0.3137 - val_acc: 0.9717\n",
            "Epoch 89/100\n",
            "1313/1313 [==============================] - 3s 3ms/step - loss: 0.0061 - acc: 0.9985 - val_loss: 0.3279 - val_acc: 0.9726\n",
            "Epoch 90/100\n",
            "1313/1313 [==============================] - 3s 3ms/step - loss: 0.0027 - acc: 0.9992 - val_loss: 0.3726 - val_acc: 0.9696\n",
            "Epoch 91/100\n",
            "1313/1313 [==============================] - 3s 3ms/step - loss: 0.0101 - acc: 0.9979 - val_loss: 0.3559 - val_acc: 0.9711\n",
            "Epoch 92/100\n",
            "1313/1313 [==============================] - 3s 3ms/step - loss: 0.0028 - acc: 0.9993 - val_loss: 0.3283 - val_acc: 0.9713\n",
            "Epoch 93/100\n",
            "1313/1313 [==============================] - 3s 3ms/step - loss: 0.0054 - acc: 0.9987 - val_loss: 0.3366 - val_acc: 0.9726\n",
            "Epoch 94/100\n",
            "1313/1313 [==============================] - 3s 3ms/step - loss: 0.0010 - acc: 0.9996 - val_loss: 0.3513 - val_acc: 0.9718\n",
            "Epoch 95/100\n",
            "1313/1313 [==============================] - 4s 3ms/step - loss: 0.0071 - acc: 0.9982 - val_loss: 0.3433 - val_acc: 0.9717\n",
            "Epoch 96/100\n",
            "1313/1313 [==============================] - 3s 3ms/step - loss: 0.0057 - acc: 0.9985 - val_loss: 0.3438 - val_acc: 0.9721\n",
            "Epoch 97/100\n",
            "1313/1313 [==============================] - 3s 3ms/step - loss: 0.0059 - acc: 0.9986 - val_loss: 0.3735 - val_acc: 0.9710\n",
            "Epoch 98/100\n",
            "1313/1313 [==============================] - 3s 3ms/step - loss: 0.0030 - acc: 0.9991 - val_loss: 0.3489 - val_acc: 0.9725\n",
            "Epoch 99/100\n",
            "1313/1313 [==============================] - 3s 3ms/step - loss: 0.0035 - acc: 0.9991 - val_loss: 0.3542 - val_acc: 0.9728\n",
            "Epoch 100/100\n",
            "1313/1313 [==============================] - 4s 3ms/step - loss: 0.0054 - acc: 0.9989 - val_loss: 0.3670 - val_acc: 0.9719\n"
          ],
          "name": "stdout"
        }
      ]
    },
    {
      "cell_type": "markdown",
      "metadata": {
        "id": "_D64TWRXKs0V"
      },
      "source": [
        "# evaluation"
      ]
    },
    {
      "cell_type": "code",
      "metadata": {
        "colab": {
          "base_uri": "https://localhost:8080/"
        },
        "id": "wXOefnNSK_zK",
        "outputId": "e0ac4ac4-832f-487d-a01f-b4bbdabb749d"
      },
      "source": [
        "hist.history.keys()"
      ],
      "execution_count": 38,
      "outputs": [
        {
          "output_type": "execute_result",
          "data": {
            "text/plain": [
              "dict_keys(['loss', 'acc', 'val_loss', 'val_acc'])"
            ]
          },
          "metadata": {
            "tags": []
          },
          "execution_count": 38
        }
      ]
    },
    {
      "cell_type": "code",
      "metadata": {
        "colab": {
          "base_uri": "https://localhost:8080/",
          "height": 265
        },
        "id": "EkoVP8ha_Jry",
        "outputId": "8ea7f528-a55d-43cb-ff17-46b86fc713f5"
      },
      "source": [
        "import matplotlib.pyplot as plot\n",
        "\n",
        "plt.plot(hist.history['loss'], 'b--')\n",
        "plt.plot(hist.history['val_loss'])\n",
        "plt.show()"
      ],
      "execution_count": 39,
      "outputs": [
        {
          "output_type": "display_data",
          "data": {
            "image/png": "[encoded data removed]",
            "text/plain": [
              "<Figure size 432x288 with 1 Axes>"
            ]
          },
          "metadata": {
            "tags": [],
            "needs_background": "light"
          }
        }
      ]
    },
    {
      "cell_type": "code",
      "metadata": {
        "colab": {
          "base_uri": "https://localhost:8080/",
          "height": 283
        },
        "id": "VxzZGPQSLbb0",
        "outputId": "1ccd1f83-9f84-4117-d7be-fdbded2c09f6"
      },
      "source": [
        "plt.plot(hist.history['acc'], 'b--')\n",
        "plt.plot(hist.history['val_acc'], 'r')"
      ],
      "execution_count": 40,
      "outputs": [
        {
          "output_type": "execute_result",
          "data": {
            "text/plain": [
              "[<matplotlib.lines.Line2D at 0x7fdb6433de90>]"
            ]
          },
          "metadata": {
            "tags": []
          },
          "execution_count": 40
        },
        {
          "output_type": "display_data",
          "data": {
            "image/png": "[encoded data removed]",
            "text/plain": [
              "<Figure size 432x288 with 1 Axes>"
            ]
          },
          "metadata": {
            "tags": [],
            "needs_background": "light"
          }
        }
      ]
    },
    {
      "cell_type": "markdown",
      "metadata": {
        "id": "aGgVgJ_uM2dH"
      },
      "source": [
        "# service"
      ]
    },
    {
      "cell_type": "code",
      "metadata": {
        "colab": {
          "base_uri": "https://localhost:8080/"
        },
        "id": "YSghl-NgNFcz",
        "outputId": "52060a66-baa9-467f-ab23-4378fc6329da"
      },
      "source": [
        "x_test[30]"
      ],
      "execution_count": 42,
      "outputs": [
        {
          "output_type": "execute_result",
          "data": {
            "text/plain": [
              "array([0.        , 0.        , 0.        , 0.        , 0.        ,\n",
              "       0.        , 0.        , 0.        , 0.        , 0.        ,\n",
              "       0.        , 0.        , 0.        , 0.        , 0.        ,\n",
              "       0.        , 0.        , 0.        , 0.        , 0.        ,\n",
              "       0.        , 0.        , 0.        , 0.        , 0.        ,\n",
              "       0.        , 0.        , 0.        , 0.        , 0.        ,\n",
              "       0.        , 0.        , 0.        , 0.        , 0.        ,\n",
              "       0.        , 0.        , 0.        , 0.        , 0.        ,\n",
              "       0.        , 0.        , 0.        , 0.        , 0.        ,\n",
              "       0.        , 0.        , 0.        , 0.        , 0.        ,\n",
              "       0.        , 0.        , 0.        , 0.        , 0.        ,\n",
              "       0.        , 0.        , 0.        , 0.        , 0.        ,\n",
              "       0.        , 0.        , 0.        , 0.        , 0.        ,\n",
              "       0.        , 0.        , 0.        , 0.        , 0.        ,\n",
              "       0.        , 0.        , 0.        , 0.        , 0.        ,\n",
              "       0.        , 0.        , 0.        , 0.        , 0.        ,\n",
              "       0.        , 0.        , 0.        , 0.        , 0.        ,\n",
              "       0.        , 0.        , 0.        , 0.        , 0.        ,\n",
              "       0.        , 0.        , 0.        , 0.        , 0.        ,\n",
              "       0.        , 0.        , 0.        , 0.        , 0.        ,\n",
              "       0.        , 0.        , 0.        , 0.        , 0.        ,\n",
              "       0.        , 0.        , 0.        , 0.        , 0.        ,\n",
              "       0.        , 0.        , 0.        , 0.        , 0.        ,\n",
              "       0.        , 0.        , 0.        , 0.        , 0.        ,\n",
              "       0.        , 0.        , 0.        , 0.        , 0.        ,\n",
              "       0.        , 0.        , 0.        , 0.        , 0.        ,\n",
              "       0.        , 0.        , 0.        , 0.        , 0.        ,\n",
              "       0.        , 0.        , 0.        , 0.        , 0.        ,\n",
              "       0.        , 0.        , 0.        , 0.        , 0.        ,\n",
              "       0.        , 0.        , 0.        , 0.        , 0.        ,\n",
              "       0.        , 0.        , 0.        , 0.        , 0.        ,\n",
              "       0.        , 0.        , 0.        , 0.        , 0.        ,\n",
              "       0.        , 0.        , 0.        , 0.        , 0.        ,\n",
              "       0.        , 0.        , 0.        , 0.        , 0.        ,\n",
              "       0.        , 0.        , 0.        , 0.        , 0.        ,\n",
              "       0.08235294, 0.44313725, 0.75686275, 0.99607843, 0.99215686,\n",
              "       0.99607843, 0.99215686, 0.99607843, 0.6745098 , 0.32156863,\n",
              "       0.        , 0.        , 0.        , 0.        , 0.        ,\n",
              "       0.        , 0.        , 0.        , 0.        , 0.        ,\n",
              "       0.        , 0.        , 0.        , 0.        , 0.        ,\n",
              "       0.        , 0.        , 0.        , 0.71764706, 0.99215686,\n",
              "       0.98823529, 0.99215686, 0.98823529, 0.99215686, 0.98823529,\n",
              "       0.99215686, 0.98823529, 0.95294118, 0.15686275, 0.        ,\n",
              "       0.        , 0.        , 0.        , 0.        , 0.        ,\n",
              "       0.        , 0.        , 0.        , 0.        , 0.        ,\n",
              "       0.        , 0.        , 0.        , 0.        , 0.        ,\n",
              "       0.        , 0.79607843, 1.        , 0.91372549, 0.71764706,\n",
              "       0.4       , 0.79607843, 0.79607843, 0.91764706, 0.99215686,\n",
              "       0.99607843, 0.59215686, 0.        , 0.        , 0.        ,\n",
              "       0.        , 0.        , 0.        , 0.        , 0.        ,\n",
              "       0.        , 0.        , 0.        , 0.        , 0.        ,\n",
              "       0.        , 0.        , 0.        , 0.        , 0.31764706,\n",
              "       0.59215686, 0.19607843, 0.        , 0.        , 0.        ,\n",
              "       0.16078431, 0.75686275, 0.98823529, 0.99215686, 0.43529412,\n",
              "       0.        , 0.        , 0.        , 0.        , 0.        ,\n",
              "       0.        , 0.        , 0.        , 0.        , 0.        ,\n",
              "       0.        , 0.        , 0.        , 0.        , 0.        ,\n",
              "       0.        , 0.        , 0.        , 0.        , 0.        ,\n",
              "       0.        , 0.        , 0.04313725, 0.83529412, 0.99607843,\n",
              "       0.99215686, 0.79607843, 0.        , 0.        , 0.        ,\n",
              "       0.        , 0.        , 0.        , 0.        , 0.        ,\n",
              "       0.        , 0.        , 0.        , 0.        , 0.        ,\n",
              "       0.        , 0.        , 0.        , 0.        , 0.        ,\n",
              "       0.        , 0.        , 0.        , 0.        , 0.48235294,\n",
              "       0.83529412, 0.98823529, 0.99215686, 0.98823529, 0.31764706,\n",
              "       0.        , 0.        , 0.        , 0.        , 0.        ,\n",
              "       0.        , 0.        , 0.        , 0.        , 0.        ,\n",
              "       0.        , 0.        , 0.        , 0.        , 0.        ,\n",
              "       0.        , 0.        , 0.        , 0.        , 0.        ,\n",
              "       0.        , 0.2       , 0.99215686, 0.99607843, 0.99215686,\n",
              "       0.99607843, 0.59215686, 0.08235294, 0.        , 0.        ,\n",
              "       0.        , 0.        , 0.        , 0.        , 0.        ,\n",
              "       0.        , 0.        , 0.        , 0.        , 0.        ,\n",
              "       0.        , 0.        , 0.        , 0.        , 0.        ,\n",
              "       0.        , 0.        , 0.        , 0.        , 0.03921569,\n",
              "       0.83137255, 0.99215686, 0.98823529, 0.99215686, 0.90980392,\n",
              "       0.8745098 , 0.47843137, 0.32156863, 0.        , 0.        ,\n",
              "       0.        , 0.        , 0.        , 0.        , 0.        ,\n",
              "       0.        , 0.        , 0.        , 0.        , 0.        ,\n",
              "       0.        , 0.        , 0.        , 0.        , 0.        ,\n",
              "       0.        , 0.        , 0.        , 0.        , 0.48235294,\n",
              "       0.8745098 , 0.99607843, 0.99215686, 0.99607843, 0.99215686,\n",
              "       0.99607843, 0.27843137, 0.        , 0.        , 0.        ,\n",
              "       0.        , 0.        , 0.        , 0.        , 0.        ,\n",
              "       0.        , 0.        , 0.        , 0.        , 0.        ,\n",
              "       0.        , 0.        , 0.        , 0.        , 0.        ,\n",
              "       0.        , 0.        , 0.        , 0.07843137, 0.19607843,\n",
              "       0.51372549, 0.83529412, 0.98823529, 0.99215686, 0.75294118,\n",
              "       0.        , 0.        , 0.        , 0.        , 0.        ,\n",
              "       0.        , 0.        , 0.        , 0.        , 0.        ,\n",
              "       0.        , 0.        , 0.        , 0.        , 0.        ,\n",
              "       0.        , 0.        , 0.        , 0.        , 0.        ,\n",
              "       0.        , 0.        , 0.        , 0.        , 0.08235294,\n",
              "       0.63529412, 0.99607843, 0.99215686, 0.4       , 0.        ,\n",
              "       0.        , 0.        , 0.        , 0.        , 0.        ,\n",
              "       0.        , 0.        , 0.        , 0.        , 0.        ,\n",
              "       0.        , 0.        , 0.        , 0.        , 0.        ,\n",
              "       0.        , 0.        , 0.        , 0.        , 0.        ,\n",
              "       0.        , 0.        , 0.08235294, 0.79607843, 0.99215686,\n",
              "       0.98823529, 0.23921569, 0.        , 0.        , 0.        ,\n",
              "       0.        , 0.        , 0.        , 0.        , 0.        ,\n",
              "       0.        , 0.        , 0.        , 0.        , 0.        ,\n",
              "       0.        , 0.        , 0.        , 0.        , 0.        ,\n",
              "       0.        , 0.        , 0.        , 0.        , 0.        ,\n",
              "       0.51764706, 0.99215686, 0.99607843, 0.35686275, 0.        ,\n",
              "       0.        , 0.        , 0.        , 0.        , 0.        ,\n",
              "       0.        , 0.        , 0.        , 0.        , 0.        ,\n",
              "       0.        , 0.        , 0.        , 0.        , 0.        ,\n",
              "       0.        , 0.        , 0.        , 0.        , 0.        ,\n",
              "       0.        , 0.08235294, 0.55686275, 0.99215686, 0.98823529,\n",
              "       0.91372549, 0.11764706, 0.        , 0.        , 0.        ,\n",
              "       0.        , 0.        , 0.        , 0.        , 0.        ,\n",
              "       0.        , 0.        , 0.        , 0.        , 0.        ,\n",
              "       0.        , 0.        , 0.        , 0.        , 0.        ,\n",
              "       0.        , 0.        , 0.        , 0.16078431, 0.83921569,\n",
              "       0.99215686, 0.99607843, 0.83529412, 0.        , 0.        ,\n",
              "       0.        , 0.        , 0.        , 0.        , 0.        ,\n",
              "       0.        , 0.        , 0.        , 0.        , 0.        ,\n",
              "       0.        , 0.        , 0.        , 0.        , 0.        ,\n",
              "       0.        , 0.        , 0.        , 0.        , 0.        ,\n",
              "       0.63921569, 0.95294118, 0.99215686, 0.98823529, 0.6745098 ,\n",
              "       0.03921569, 0.        , 0.        , 0.        , 0.        ,\n",
              "       0.        , 0.        , 0.        , 0.        , 0.        ,\n",
              "       0.        , 0.        , 0.        , 0.        , 0.        ,\n",
              "       0.        , 0.        , 0.        , 0.        , 0.04313725,\n",
              "       0.67843137, 0.67843137, 0.99215686, 1.        , 0.99215686,\n",
              "       0.87843137, 0.31764706, 0.        , 0.        , 0.        ,\n",
              "       0.        , 0.        , 0.        , 0.        , 0.        ,\n",
              "       0.        , 0.        , 0.        , 0.        , 0.        ,\n",
              "       0.        , 0.        , 0.        , 0.        , 0.        ,\n",
              "       0.        , 0.        , 0.51764706, 0.98823529, 0.99215686,\n",
              "       0.98823529, 0.99215686, 0.67058824, 0.07843137, 0.        ,\n",
              "       0.        , 0.        , 0.        , 0.        , 0.        ,\n",
              "       0.        , 0.        , 0.        , 0.        , 0.        ,\n",
              "       0.        , 0.        , 0.        , 0.        , 0.        ,\n",
              "       0.        , 0.        , 0.        , 0.        , 0.        ,\n",
              "       0.6       , 0.99215686, 0.95686275, 0.79607843, 0.32156863,\n",
              "       0.        , 0.        , 0.        , 0.        , 0.        ,\n",
              "       0.        , 0.        , 0.        , 0.        , 0.        ,\n",
              "       0.        , 0.        , 0.        , 0.        , 0.        ,\n",
              "       0.        , 0.        , 0.        , 0.        , 0.        ,\n",
              "       0.        , 0.        , 0.        , 0.36078431, 0.75294118,\n",
              "       0.47843137, 0.        , 0.        , 0.        , 0.        ,\n",
              "       0.        , 0.        , 0.        , 0.        , 0.        ,\n",
              "       0.        , 0.        , 0.        , 0.        , 0.        ,\n",
              "       0.        , 0.        , 0.        , 0.        , 0.        ,\n",
              "       0.        , 0.        , 0.        , 0.        , 0.        ,\n",
              "       0.        , 0.        , 0.        , 0.        , 0.        ,\n",
              "       0.        , 0.        , 0.        , 0.        , 0.        ,\n",
              "       0.        , 0.        , 0.        , 0.        , 0.        ,\n",
              "       0.        , 0.        , 0.        , 0.        , 0.        ,\n",
              "       0.        , 0.        , 0.        , 0.        , 0.        ,\n",
              "       0.        , 0.        , 0.        , 0.        , 0.        ,\n",
              "       0.        , 0.        , 0.        , 0.        , 0.        ,\n",
              "       0.        , 0.        , 0.        , 0.        , 0.        ,\n",
              "       0.        , 0.        , 0.        , 0.        , 0.        ,\n",
              "       0.        , 0.        , 0.        , 0.        ])"
            ]
          },
          "metadata": {
            "tags": []
          },
          "execution_count": 42
        }
      ]
    },
    {
      "cell_type": "code",
      "metadata": {
        "colab": {
          "base_uri": "https://localhost:8080/"
        },
        "id": "8BqYZTOXM6Fr",
        "outputId": "c373b869-7a20-4195-c462-cbaaed410ad1"
      },
      "source": [
        "import numpy as np\n",
        "np.set_printoptions(precision=8)\n",
        "\n",
        "pred = model.predict(x_test[30:31])\n",
        "# model.predict([x_test[30:31]]) 이게 깔끔\n",
        "pred"
      ],
      "execution_count": 43,
      "outputs": [
        {
          "output_type": "execute_result",
          "data": {
            "text/plain": [
              "array([[0.0000000e+00, 3.2533118e-35, 0.0000000e+00, 1.0000000e+00,\n",
              "        0.0000000e+00, 4.8223997e-32, 0.0000000e+00, 0.0000000e+00,\n",
              "        4.4500715e-37, 0.0000000e+00]], dtype=float32)"
            ]
          },
          "metadata": {
            "tags": []
          },
          "execution_count": 43
        }
      ]
    },
    {
      "cell_type": "code",
      "metadata": {
        "id": "kSHJCYmQM9Qk",
        "colab": {
          "base_uri": "https://localhost:8080/"
        },
        "outputId": "8abcd797-e032-4bea-cd27-d60ae72e9cf0"
      },
      "source": [
        "np.argmax(pred, axis=1)"
      ],
      "execution_count": 44,
      "outputs": [
        {
          "output_type": "execute_result",
          "data": {
            "text/plain": [
              "array([3])"
            ]
          },
          "metadata": {
            "tags": []
          },
          "execution_count": 44
        }
      ]
    },
    {
      "cell_type": "code",
      "metadata": {
        "colab": {
          "base_uri": "https://localhost:8080/"
        },
        "id": "krut6PJ6MTeb",
        "outputId": "242001bc-e6ac-486d-fa1a-fff50a86842c"
      },
      "source": [
        "y_test[30]"
      ],
      "execution_count": 41,
      "outputs": [
        {
          "output_type": "execute_result",
          "data": {
            "text/plain": [
              "3"
            ]
          },
          "metadata": {
            "tags": []
          },
          "execution_count": 41
        }
      ]
    },
    {
      "cell_type": "markdown",
      "metadata": {
        "id": "zDOfUS899lgs"
      },
      "source": [
        "# Save"
      ]
    },
    {
      "cell_type": "code",
      "metadata": {
        "colab": {
          "base_uri": "https://localhost:8080/"
        },
        "id": "yv54U7M8kWah",
        "outputId": "a7fc1b99-abdd-49cb-abc4-a7cc6f278ab9"
      },
      "source": [
        "model.save('./model_save')"
      ],
      "execution_count": 45,
      "outputs": [
        {
          "output_type": "stream",
          "text": [
            "INFO:tensorflow:Assets written to: ./model_save/assets\n"
          ],
          "name": "stdout"
        }
      ]
    },
    {
      "cell_type": "code",
      "metadata": {
        "id": "E54vGcMz6h1O"
      },
      "source": [
        "model.save('./model_save01.h5')"
      ],
      "execution_count": 46,
      "outputs": []
    },
    {
      "cell_type": "code",
      "metadata": {
        "id": "_tOdNsGE7AuA"
      },
      "source": [
        "model_load = tf.keras.models.load_model('./model_save01.h5')"
      ],
      "execution_count": 48,
      "outputs": []
    },
    {
      "cell_type": "code",
      "metadata": {
        "colab": {
          "base_uri": "https://localhost:8080/"
        },
        "id": "UAk8aMyL8DZ6",
        "outputId": "36bd95ff-cb28-4b35-ad09-d8561cb283ce"
      },
      "source": [
        "load_pred = model_load.predict(x_test[30:31])\n",
        "load_pred, np.argmax(load_pred)"
      ],
      "execution_count": 52,
      "outputs": [
        {
          "output_type": "execute_result",
          "data": {
            "text/plain": [
              "(array([[0.0000000e+00, 3.2533118e-35, 0.0000000e+00, 1.0000000e+00,\n",
              "         0.0000000e+00, 4.8223997e-32, 0.0000000e+00, 0.0000000e+00,\n",
              "         4.4500715e-37, 0.0000000e+00]], dtype=float32), 3)"
            ]
          },
          "metadata": {
            "tags": []
          },
          "execution_count": 52
        }
      ]
    },
    {
      "cell_type": "code",
      "metadata": {
        "colab": {
          "base_uri": "https://localhost:8080/"
        },
        "id": "7GiuTWJT9NzK",
        "outputId": "b6614921-2692-4869-9fa3-c607e94c9575"
      },
      "source": [
        ""
      ],
      "execution_count": 51,
      "outputs": [
        {
          "output_type": "execute_result",
          "data": {
            "text/plain": [
              "(array([[0.0000000e+00, 3.2533118e-35, 0.0000000e+00, 1.0000000e+00,\n",
              "         0.0000000e+00, 4.8223997e-32, 0.0000000e+00, 0.0000000e+00,\n",
              "         4.4500715e-37, 0.0000000e+00]], dtype=float32), 3)"
            ]
          },
          "metadata": {
            "tags": []
          },
          "execution_count": 51
        }
      ]
    },
    {
      "cell_type": "code",
      "metadata": {
        "id": "1PZPbiQ_9dlM"
      },
      "source": [
        ""
      ],
      "execution_count": null,
      "outputs": []
    }
  ]
}