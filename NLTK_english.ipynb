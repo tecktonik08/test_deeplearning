{
  "nbformat": 4,
  "nbformat_minor": 0,
  "metadata": {
    "colab": {
      "name": "Untitled5.ipynb",
      "provenance": [],
      "mount_file_id": "1Ml-D-EK4WxrEdHKYWWbeGUxLoIS2l0vR",
      "authorship_tag": "ABX9TyMLqNQ4jipo4tkU3nMhG097"
    },
    "kernelspec": {
      "name": "python3",
      "display_name": "Python 3"
    },
    "language_info": {
      "name": "python"
    }
  },
  "cells": [
    {
      "cell_type": "code",
      "metadata": {
        "id": "PnnC8dfT2SRq"
      },
      "source": [
        "import pandas as pd"
      ],
      "execution_count": 33,
      "outputs": []
    },
    {
      "cell_type": "code",
      "metadata": {
        "colab": {
          "base_uri": "https://localhost:8080/"
        },
        "id": "1tWbIOAT6ApC",
        "outputId": "2544f6db-b7c6-405e-e58b-73ec794e7feb"
      },
      "source": [
        "!ls ./drive/MyDrive/Test/CEO3.csv"
      ],
      "execution_count": 34,
      "outputs": [
        {
          "output_type": "stream",
          "text": [
            "./drive/MyDrive/Test/CEO3.csv\n"
          ],
          "name": "stdout"
        }
      ]
    },
    {
      "cell_type": "code",
      "metadata": {
        "id": "fAyjmBHp3gyD"
      },
      "source": [
        "df = pd.read_csv('./drive/MyDrive/Test/CEO3.csv', encoding='latin')"
      ],
      "execution_count": 35,
      "outputs": []
    },
    {
      "cell_type": "code",
      "metadata": {
        "id": "_wdwnlsK3lmO",
        "colab": {
          "base_uri": "https://localhost:8080/"
        },
        "outputId": "b1f18b35-5a29-4b59-ffc2-f8a7c4b4b043"
      },
      "source": [
        "texts = df['text']\n",
        "texts[0:5]"
      ],
      "execution_count": 36,
      "outputs": [
        {
          "output_type": "execute_result",
          "data": {
            "text/plain": [
              "0    We will use beauty to change the world and bec...\n",
              "1    AMOREPACIFC Group will endeavor to become a gr...\n",
              "2    AMOREPACIFIC Group has been pursuing the path ...\n",
              "3    This year marks the 25th anniversary of the es...\n",
              "4    Since the inception, Asiana Airlines has pledg...\n",
              "Name: text, dtype: object"
            ]
          },
          "metadata": {
            "tags": []
          },
          "execution_count": 36
        }
      ]
    },
    {
      "cell_type": "code",
      "metadata": {
        "colab": {
          "base_uri": "https://localhost:8080/"
        },
        "id": "X__OWLtREon6",
        "outputId": "95e6cd1d-4acc-40be-c20f-4fc77c76cb2e"
      },
      "source": [
        "len(texts[5]), texts[5]"
      ],
      "execution_count": 37,
      "outputs": [
        {
          "output_type": "execute_result",
          "data": {
            "text/plain": [
              "(3903,\n",
              " 'All of us will do our best without stopping for sustainable growth and development. First of all, I would like to convey my sincere appreciation to our stakeholders for continued affection and trust. In the last year, we were able to reinforce our core competency and competitiveness under  he motto of ¡®new Kumho Asiana¡¯. These achievements were made possible because of the assionnd unwavering focus which we learned in our early years. We chose ¡®Flawless Operational Safety¡¯ and ¡®Regaining Customer Trust¡¯ as our top priorities because safety and service are Asiana Airlines¡¯ highest goals. We¡¯ve made improvements in flight training system and maintenance quality system to reinforce our general safety systems. Aisana Airlines has introduced A380, the next generation cutting-edge aircraft, to provide convenience for customers and put them into lA flights. In order to reinforce the competitiveness of long-haul flights, we  expanded Paris and Istanbul flights. Furthermore, we added more flights to Guangzhou, yanji and Shenzhen to take the dominance as a leading carrier in the Chinese market. Asiana Airlines has laid the groundwork for sustainability with the revitalization of organizational culture. ¡®Smile brings blessings¡¯ campaign, the meeting between executives and staffers which leads to frank exchanges of opinions, has given us the sense of belonging and strong bond by tearing down the walls between positions. Asiana Airlines is going to fulfill the management policy of the last year, new Kumho Asiana, in 2015 and will try its best to be a reliable and beautiful company under the new motto ¡°Strengthen Self without Stopping¡±. That means we are ready to stand as one and work tirelessly for the steady development and growth of the company. In addition to the safety and service items we have already promoted, an integrated safety information system will be built and bold investment for hi-tech operation equipment will be made to continuously strengthen the infrastructure for safety. This will also enhance the foundation for bringing about the awareness of safety issues. In order to reinforce our competitiveness through the latest aircraft, we confirmed the plan to introduce A350XWb and A321 nEO. We hope this will help build up the foundation for future growth. This year, we will put additional A380s into new york flights and will start a new flight to Rome to reinforce our competitiveness in long-haul flight. Also, we will speed up the plan to add our strategic air routes in China and other Asian countries. Asiana Airlines hopes to become a company that contributes to the nation and society by social and environmental activities. We are going to take responsibility for social and environmental issues with persistence and sincerity. One of such efforts is the ¡®unICEF Spare Coin Collection¡¯ which we has been working with the Korean Committee for unICEF (united nations Children¡¯s Fund). In the last year, the accumulated amount of money has exceeded 10 billion won. This fundraising campaign will be continued for the benefit of underprivileged children. There are also other activities and campaigns to promote corporate responsibility such as ¡®Social Work Volunteering In Relay¡¯, ¡®beautiful Classroom¡¯ in China, tree planting events on the reclaimed lands near metropolitan areas and various environmental activities to reduce greenhouse gases. In retrospect, Asiana Airlines has grown and evolved thanks to our stakeholders¡¯ continuous affection and support. We will make utmost efforts to raise the corporate value to the best in the business and to be a ¡®beautiful Company¡¯who is willing to take the social responsibilities by raising awareness of safety issues and differentiating the services with distinct ideas. We hope all our stakeholders will favor us with supports and expectations. Thank you.\\nSoo Cheon, Kim\\nPresident & CEO')"
            ]
          },
          "metadata": {
            "tags": []
          },
          "execution_count": 37
        }
      ]
    },
    {
      "cell_type": "code",
      "metadata": {
        "colab": {
          "base_uri": "https://localhost:8080/"
        },
        "id": "1sKNxEYuRSEY",
        "outputId": "026bf942-e9b9-4c80-fd8d-38ba348e183d"
      },
      "source": [
        "texts = pd.Series(texts[0:4])\n",
        "texts"
      ],
      "execution_count": 38,
      "outputs": [
        {
          "output_type": "execute_result",
          "data": {
            "text/plain": [
              "0    We will use beauty to change the world and bec...\n",
              "1    AMOREPACIFC Group will endeavor to become a gr...\n",
              "2    AMOREPACIFIC Group has been pursuing the path ...\n",
              "3    This year marks the 25th anniversary of the es...\n",
              "Name: text, dtype: object"
            ]
          },
          "metadata": {
            "tags": []
          },
          "execution_count": 38
        }
      ]
    },
    {
      "cell_type": "code",
      "metadata": {
        "id": "KUqJf-ROFXs4"
      },
      "source": [
        "from nltk.tokenize import RegexpTokenizer # space key를 기준으로 단어를 잘라냄"
      ],
      "execution_count": 39,
      "outputs": []
    },
    {
      "cell_type": "code",
      "metadata": {
        "colab": {
          "base_uri": "https://localhost:8080/"
        },
        "id": "6abrKju2FmBv",
        "outputId": "dc0a984e-bce5-41f4-87f4-fc1fbd46c43d"
      },
      "source": [
        "tokenizer = RegexpTokenizer(r'\\w+')\n",
        "tokenizer"
      ],
      "execution_count": 40,
      "outputs": [
        {
          "output_type": "execute_result",
          "data": {
            "text/plain": [
              "RegexpTokenizer(pattern='\\\\w+', gaps=False, discard_empty=True, flags=<RegexFlag.UNICODE|DOTALL|MULTILINE: 56>)"
            ]
          },
          "metadata": {
            "tags": []
          },
          "execution_count": 40
        }
      ]
    },
    {
      "cell_type": "code",
      "metadata": {
        "colab": {
          "base_uri": "https://localhost:8080/"
        },
        "id": "A7FcKiOKHctz",
        "outputId": "9c9ef711-32a2-4b4d-aff1-0111b83c5acf"
      },
      "source": [
        "texts.values"
      ],
      "execution_count": 41,
      "outputs": [
        {
          "output_type": "execute_result",
          "data": {
            "text/plain": [
              "array(['We will use beauty to change the world and become a company that customers love. To our stakeholders, During the past 67 years, AMOREPACIFIC has embarked on a long journey of beauty to provide happiness and pleasure to people all around the world with AMOREPACIFIC¡¯s creation of beauty products. We have stood the test of numerous crises resulting from uncertain management conditions to achieve continuous growth by caring about our customers and taking quick actions to seek new opportunities. Even at this very moment, AMOREPACIFIC is striving to satisfy global customers by discovering the values of sustainable beauty found in Asia¡¯s profound wisdom, while also making concerted efforts to create a sustainable company. AMOREPACIFIC has minimized the negative impacts on the environment and strengthened the development of sustainable products and packaging materials to deliver the values of environment-friendly consumption to customers. We continually expanded the Beautiful Fair Trade to acquire outstanding local raw materials and support the local communities and concentrated the corporate competency on developing eco-friendly packages that used botanical raw materials and recycled materials. Also, the AMOREPACIFIC beauty production site equipped with production and logistics systems of global standards acquired the certifications for eco-friendly building and CGMP (Cosmetics Good Manufacturing Practice) and we constructed a botanical garden of raw materials, which is an environment-friendly natural park. Based on these efforts, we will become a beauty creator to the world by providing high-quality products with the best raw materials for our customers and contributing to the environment and local communities. The global brand company that AMOREPACIFIC is seeking to achieve will be realized by talented people who are ready to challenge on the world stage. Therefore, AMOREPACIFIC has worked towards developing the global competencies of employees based on its management philosophy of valuing people above everything else and creating a workplace where employees can grow as individuals. Through the Smart Work and Happy Plus campaigns, we increased employee engagement to be more devoted to customers and helped find a balance between work and personal life. Also, we consolidate the dreams and vocations of a variety of talented employees into one by implementing a corporate culture activity of One AMOREPACIFIC from a global perspective. AMOREPACIFIC has continually strengthened a win-win relationship with business partners to create a healthy business ecosystem. To strengthen the competitiveness of business partners, we expanded the Supplier Support Fund for suppliers and opened a win-win portal site for suppliers to effectively resolve complaints from business partners. As a result, AMOREPACIFIC and its business partners will maintain a beautiful relationship where they will help each other to achieve growth. Furthermore, in order to fulfill our responsibility as a global citizen, we support the ten principles of UN Global Compact (UNGC), including human rights, labor, environment and anticorruption. We will continually work towards reflecting these principles in AMOREPACIFIC¡¯s management activities. To our stakeholders, The management policy of AMOREPACIFIC for 2013 is ¡®TEAM Together¡¯. It shows AMOREPACIFIC¡¯s commitment to look from the apex of where two points meet together instead of dividing the world into what is mine and others, thereby walking side by side with our partners in the business ecosystem, including suppliers. Furthermore, if we walk together with the world and the society, we can grow much faster and healthier. AMOREPACIFIC has the dream of changing the world with our beauty products. All employees at AMOREPACIFIC will make concerted efforts to achieve the dream and become a company that customers love the most in Asia. Thank you.\\nChairman & CEO,\\nAMOREPACIFIC Corporation\\nKyung-bae Suh',\n",
              "       'AMOREPACIFC Group will endeavor to become a great global company that brings brighter future to the\\nnext generation by changing the world into a more beautiful and healthier place.\\nHonoring our founder¡¯s philosophy of contributing to mankind by creating beauty and health through\\ntechnology and heartfelt sincerity, AMOREPACIFIC Group has continued the journey of beauty for the\\npast 70 years to change the world with our unique Asian beauty. Under our mission to spread the essence\\nof Asian beauty around the world as the Asian Beauty Creator, we have been fully devoted to discover\\nthe value of harmony and beauty based on Asian wisdom and deliver them to our customers all\\nover the world.\\nDespite the fast-changing global business environment and economic uncertainties in the recent few\\nyears, we have never ceased to grow by constantly innovating ourselves to provide better products and\\nservices based on the voices of our customers and by always reminding ourselves to stay humble and learn\\nfrom our customers. Today¡¯s success could not have been possible without the great support from our customers\\nas well as the society in which we have been working together and the nature that we owe to the\\nnext generations. For this reason, we have engaged in various sustainable activities in order to promote\\nharmonious co-existence and co-prosperity between our customers, society and natural environment.First, as part of these efforts, we have established and implemented strategies to minimize social and\\nenvironmental impact in the entire life cycle of our products from technological development to disposal.\\nIn addition, we will maximize the customer value by continuing to launch innovative products that\\nconsider the diverse preferences shown by our customers around the world, and offering differentiated\\nshopping experiences through digital innovation.\\nSecond, we are engaging in various green activities to reduce the environmental impact of our corporate\\nactivities and protect our planet. In response to the global issues of climate change and water scarcity, we\\nare not only trying to reduce carbon emissions and water consumption, but also strengthened our safety\\nand environmental management systems. We also made efforts to preserve biodiversity by conducting\\nresearch on the recovery and efficacy of rare indigenous plant species.\\nThird, we are reinforcing our win-win relationships with our executives, employees and partners. We\\nheightened our education and training standards to foster global talents and enhance the competencies\\nof our executives and employees. Also, we are committed to creating a pleasant working environment\\nthat helps our employees maintain a good balance between their work and personal life. Meanwhile,\\nto ensure a harmonious mutual growth with our business partners, clients and beauty partners, we\\nstrengthened financial and educational support, and prepared the foundation to promote open communication\\nand active participation.\\nFourth, we, as a responsible corporate citizen, are dedicated to fulfilling our corporate social responsibility\\nby helping women and the members of local communities to realize beautiful and healthy lives,\\nthereby creating a prosperous society. By spreading the value of beauty in three areas- women, natural\\necosystem and culture, we will discover and create new values that can be shared with society, and\\nspread those values beyond our national borders across the whole world.\\nLastly, as a global citizen, we will support and adhere to the 10 principles of the UN Global Compact\\n(UNGC) regarding the human rights, labor, environment and anti-corruption, and we will continue to\\nadvance with respect to these principles in our management practices.\\nHonorable stakeholders\\n2015 is a meaningful year as it marks the 70th anniversary of AMOREPACIFIC Group¡¯s foundation. Now\\nis also a time of transition as our 70-year journey that has travelled through a pond, stream and river has\\nfinally set sail for the greater ocean. AMOREPACIFIC Group will never cease its efforts to make a positive\\nimpact on people¡¯s lives through beauty and health, and engage in sustainable management to become\\na great global company that is trusted and supported by customers throughout the world.\\nThank you.',\n",
              "       'AMOREPACIFIC Group has been pursuing the path of beauty for the last 70 years to respond to customers¡¯ high expectations of our products and\\nservices. Answering our vocation to be ¡°Asian beauty creators¡±, we have made every effort to transform the world through beauty by sharing with\\ncustomers and stakeholders those unique beauty products that our company is best at creating.\\nIn 2015, despite a global economic slowdown and an outbreak of the Middle East Respiratory Syndrome (MERS) which affected social and\\ncorporate activities in Korea, we continued to emphasize innovation, retail sales, and global expansion. As a result, we were able to celebrate our\\n70th anniversary closer than ever to reaching our dream of becoming a great global brand company. AMOREPACIFIC Group has journeyed\\nthrough a pond, a stream, and a river and is now at the confluence, from which we will set sail upon the great ocean. Our great journey across the\\nocean cannot be made alone and done hastily. Rather, we shall travel hand-in-hand with others to endure and complete our far-reaching journey.\\nThat is why we are committed to fulfilling our responsibilities as an ethical corporate citizen. Throughout the year, AMOREPACIFIC Group has\\nundertaken the following activities for our employees, customers, stakeholders, the environment, and society.First, we are implementing rigorous strategies designed to reduce our social and environmental footprint throughout the entire lifecycle of our\\nproducts, from research and development to the end-user stage. As beauty maestros, we will continue to maximize the customers¡¯ value and\\nexperience by continuing to launch highly competitive, innovative products reflecting the diverse preferences of our customers around the world,\\nand we will offer differentiated shopping experiences through digital innovation and mobile applications.\\nSecond, in line with our commitment to protecting the planet, we are undertaking a range of activities to preserve nature and reduce the\\nenvironmental effects of our corporate activities. Specifically, in response to global environmental priorities such as climate change and water\\nscarcity, we will emphasize reducing our greenhouse-gas emissions, optimizing water use, and systematically improving our environmental safety\\nmeasures. To contribute to biodiversity, we will engage in activities to restore rare, indigenous plant species.\\nThird, we are further strengthening our win-win partnership with employees and business partners from the start to the end of our supply chain.\\nWe have heightened our education and training standards to foster global talent and enhance the global professional competencies of our\\nemployees and management. We have rolled out programs to help create a great global company that respects work-life balance. In addition, to\\nensure win-win growth with our business partners, we have expanded financial and educational support and have prepared a foundation upon\\nwhich to promote open communication and active participation.\\nFourth, as responsible corporate citizens, we are supporting various programs that enrich the lives of women and community groups. In particular,\\nour corporate social-responsibility activities focused on women, natural ecosystems, and culture aim to integrate our emphasis on healthy beauty\\nwith creating shared values with businesses and society worldwide.\\nFinally, as global citizens, we support the 10 principles of the United Nations Global Compact regarding human rights, labor, the environment,\\nand anti-corruption, and we are putting every effort into fully integrating these principles into our corporate strategies and operations.\\nOur sustainable business practices reflect our commitment and grand vision to bring about a happier today and a more beautiful tomorrow for\\nour customers and stakeholders. We have just begun the 70th year of our journey to transform the world through beauty. We thank you all for\\nshowing your support during our journey, and we count on your continued interest and engagement.',\n",
              "       'This year marks the 25th anniversary of the establishment of Asiana Airlines since it embarked on its journey to a\\nbrighter future. We are truly grateful to all stakeholders who have loved and rooted for us for the past 25 years. Thanks\\nto your support, Asiana Airlines was able to become the 1st airline to be named as the Airline of the Year for five\\nconsecutive times.\\nAsiana Airlines has unwavering commitment to its responsibility as Beautiful Company that creates the best\\ncorporate value in the industry, achieving customer satisfaction through the safest, superior service.\\nDespite adverse external conditions including the economic recession triggered by the developed countries and\\nspread to Korea, Asiana Airlines achieved positive performance by carrying more than 11million passengers for the\\nyear, generating KRW 5 trillion 638.1 billion in revenue and KRW 132.5 billion in EBIT driven in part by the growth\\nof the Chinese market and increasing demand for leisure activities in 2012. In addition, Asiana has continued\\nintroducing the latest equipment and facilities including nine passenger jets and two cargo jets to operate a total of\\n80 airplanes while upgrading plane seats and facilities for two Boeing 777 airplanes. Asiana also launched a flight to\\nVladivostok completing the triangle route to the Far East by connecting it with the flights to Khabarovsk and Sakhalin,\\nand increased flights to Haneda, Hong Kong, Honolulu and Paris to increase customer convenience.\\nIn parallel with this, Asiana Airlines has introduced a wide array of initiatives for a ¡®Beautiful World¡¯ to create prosperity\\nfor everyone. The company is faithfully complying with 10 principles of the UN Global Compact on various issues\\nsuch as human rights, labor, environment and anti-corruption while expanding the scope of Eco-Flight, the distinct\\ngreen operation program of the company, and promoting a family-friendly work environment and inclusive growth. It\\nis also making remarkable strides in social contribution, with initiatives that go beyond the national boundary such as\\ndonating books to multi-cultural families in Korea, opening ¡®Beautiful Class¡¯ to sister schools in China, and launching\\nthe ¡®Love House¡¯ initiative in Vietnam. Such strenuous endeavor has earned Asiana the recognition as no.1 airline\\nin the Dow Jones Sustainability Index for four consecutive years, the grand prize at the 1st Family Friendly Employer\\nAward, and the no. 1 airline in the Korean Sustainability Index.\\nGoing forward, Asiana people will exert their best endeavors, building on its achievement during the past 25 years\\nto fly beyond the competition. We hope all stakeholders to continue to give their support on our journey towards the\\nbeautiful future.\\nThank you.'],\n",
              "      dtype=object)"
            ]
          },
          "metadata": {
            "tags": []
          },
          "execution_count": 41
        }
      ]
    },
    {
      "cell_type": "code",
      "metadata": {
        "id": "6aiu86sLJ2YB"
      },
      "source": [
        "from nltk.stem import WordNetLemmatizer\n",
        "lemmatizer = WordNetLemmatizer()"
      ],
      "execution_count": 42,
      "outputs": []
    },
    {
      "cell_type": "code",
      "metadata": {
        "id": "XV8A9o98LOLa"
      },
      "source": [
        "import nltk\n",
        "from nltk import wordnet"
      ],
      "execution_count": 43,
      "outputs": []
    },
    {
      "cell_type": "code",
      "metadata": {
        "colab": {
          "base_uri": "https://localhost:8080/"
        },
        "id": "-w_DXiIqLb7a",
        "outputId": "d57b7b85-800a-4d17-9609-9089709a33a5"
      },
      "source": [
        "nltk.download('wordnet')"
      ],
      "execution_count": 44,
      "outputs": [
        {
          "output_type": "stream",
          "text": [
            "[nltk_data] Downloading package wordnet to /root/nltk_data...\n",
            "[nltk_data]   Package wordnet is already up-to-date!\n"
          ],
          "name": "stdout"
        },
        {
          "output_type": "execute_result",
          "data": {
            "text/plain": [
              "True"
            ]
          },
          "metadata": {
            "tags": []
          },
          "execution_count": 44
        }
      ]
    },
    {
      "cell_type": "code",
      "metadata": {
        "colab": {
          "base_uri": "https://localhost:8080/"
        },
        "id": "37LfQmHcUHLj",
        "outputId": "b61b0b26-fba8-4e3f-ea33-1f3a29ed5492"
      },
      "source": [
        "nltk.download('stopwords')"
      ],
      "execution_count": 50,
      "outputs": [
        {
          "output_type": "stream",
          "text": [
            "[nltk_data] Downloading package stopwords to /root/nltk_data...\n",
            "[nltk_data]   Unzipping corpora/stopwords.zip.\n"
          ],
          "name": "stdout"
        },
        {
          "output_type": "execute_result",
          "data": {
            "text/plain": [
              "True"
            ]
          },
          "metadata": {
            "tags": []
          },
          "execution_count": 50
        }
      ]
    },
    {
      "cell_type": "code",
      "metadata": {
        "colab": {
          "base_uri": "https://localhost:8080/"
        },
        "id": "DvI_sQpGUTAD",
        "outputId": "50889c29-757f-4c4e-8185-3bde52a0f3f9"
      },
      "source": [
        "from nltk.corpus import stopwords\n",
        "\n",
        "stop_words = stopwords.words('english')\n",
        "stop_words.extend(['employer']) # 불필요한 단어 제거\n",
        "stop_words[0:5], len(stop_words)"
      ],
      "execution_count": 52,
      "outputs": [
        {
          "output_type": "execute_result",
          "data": {
            "text/plain": [
              "(['i', 'me', 'my', 'myself', 'we'], 180)"
            ]
          },
          "metadata": {
            "tags": []
          },
          "execution_count": 52
        }
      ]
    },
    {
      "cell_type": "markdown",
      "metadata": {
        "id": "32IO3rZYVpjQ"
      },
      "source": [
        "employer 180개가 제거"
      ]
    },
    {
      "cell_type": "code",
      "metadata": {
        "colab": {
          "base_uri": "https://localhost:8080/"
        },
        "id": "8zoUO4lSH1fQ",
        "outputId": "270ebffe-f2d5-48a0-8061-d5db0bf9fbf5"
      },
      "source": [
        "preprocessed_texts = list()\n",
        "for text in texts.values:\n",
        "  tokenized_text = tokenizer.tokenize(text)\n",
        "  # print(type(tokenized_text),len(tokenized_text),tokenized_text)\n",
        "  lemmatized_list = list()\n",
        "  for token in tokenized_text:\n",
        "    lemmatized_text = lemmatizer.lemmatize(token)\n",
        "    # print(type(lemmatized_text), lemmatized_text)\n",
        "    lemmatized_list.append(lemmatized_text)\n",
        "\n",
        "for tok in lemmatized_list:\n",
        "  if tok not in stop_words:\n",
        "    preprocessed_texts.append(tok)\n",
        "\n",
        "print(len(preprocessed_texts),preprocessed_texts)"
      ],
      "execution_count": 53,
      "outputs": [
        {
          "output_type": "stream",
          "text": [
            "283 ['This', 'year', 'mark', '25th', 'anniversary', 'establishment', 'Asiana', 'Airlines', 'since', 'embarked', 'journey', 'brighter', 'future', 'We', 'truly', 'grateful', 'stakeholder', 'loved', 'rooted', 'u', 'past', '25', 'year', 'Thanks', 'support', 'Asiana', 'Airlines', 'wa', 'able', 'become', '1st', 'airline', 'named', 'Airline', 'Year', 'five', 'consecutive', 'time', 'Asiana', 'Airlines', 'ha', 'unwavering', 'commitment', 'responsibility', 'Beautiful', 'Company', 'creates', 'best', 'corporate', 'value', 'industry', 'achieving', 'customer', 'satisfaction', 'safest', 'superior', 'service', 'Despite', 'adverse', 'external', 'condition', 'including', 'economic', 'recession', 'triggered', 'developed', 'country', 'spread', 'Korea', 'Asiana', 'Airlines', 'achieved', 'positive', 'performance', 'carrying', '11million', 'passenger', 'year', 'generating', 'KRW', '5', 'trillion', '638', '1', 'billion', 'revenue', 'KRW', '132', '5', 'billion', 'EBIT', 'driven', 'part', 'growth', 'Chinese', 'market', 'increasing', 'demand', 'leisure', 'activity', '2012', 'In', 'addition', 'Asiana', 'ha', 'continued', 'introducing', 'latest', 'equipment', 'facility', 'including', 'nine', 'passenger', 'jet', 'two', 'cargo', 'jet', 'operate', 'total', '80', 'airplane', 'upgrading', 'plane', 'seat', 'facility', 'two', 'Boeing', '777', 'airplane', 'Asiana', 'also', 'launched', 'flight', 'Vladivostok', 'completing', 'triangle', 'route', 'Far', 'East', 'connecting', 'flight', 'Khabarovsk', 'Sakhalin', 'increased', 'flight', 'Haneda', 'Hong', 'Kong', 'Honolulu', 'Paris', 'increase', 'customer', 'convenience', 'In', 'parallel', 'Asiana', 'Airlines', 'ha', 'introduced', 'wide', 'array', 'initiative', 'Beautiful', 'World', 'create', 'prosperity', 'everyone', 'The', 'company', 'faithfully', 'complying', '10', 'principle', 'UN', 'Global', 'Compact', 'various', 'issue', 'human', 'right', 'labor', 'environment', 'anti', 'corruption', 'expanding', 'scope', 'Eco', 'Flight', 'distinct', 'green', 'operation', 'program', 'company', 'promoting', 'family', 'friendly', 'work', 'environment', 'inclusive', 'growth', 'It', 'also', 'making', 'remarkable', 'stride', 'social', 'contribution', 'initiative', 'go', 'beyond', 'national', 'boundary', 'donating', 'book', 'multi', 'cultural', 'family', 'Korea', 'opening', 'Beautiful', 'Class', 'sister', 'school', 'China', 'launching', 'Love', 'House', 'initiative', 'Vietnam', 'Such', 'strenuous', 'endeavor', 'ha', 'earned', 'Asiana', 'recognition', '1', 'airline', 'Dow', 'Jones', 'Sustainability', 'Index', 'four', 'consecutive', 'year', 'grand', 'prize', '1st', 'Family', 'Friendly', 'Employer', 'Award', '1', 'airline', 'Korean', 'Sustainability', 'Index', 'Going', 'forward', 'Asiana', 'people', 'exert', 'best', 'endeavor', 'building', 'achievement', 'past', '25', 'year', 'fly', 'beyond', 'competition', 'We', 'hope', 'stakeholder', 'continue', 'give', 'support', 'journey', 'towards', 'beautiful', 'future', 'Thank']\n"
          ],
          "name": "stdout"
        }
      ]
    },
    {
      "cell_type": "code",
      "metadata": {
        "colab": {
          "base_uri": "https://localhost:8080/",
          "height": 35
        },
        "id": "QPAf9GkOIo3Z",
        "outputId": "7bb41085-148c-4c09-d7ac-e7a41bee49c3"
      },
      "source": [
        "tokenized_text[0]"
      ],
      "execution_count": 49,
      "outputs": [
        {
          "output_type": "execute_result",
          "data": {
            "application/vnd.google.colaboratory.intrinsic+json": {
              "type": "string"
            },
            "text/plain": [
              "'This'"
            ]
          },
          "metadata": {
            "tags": []
          },
          "execution_count": 49
        }
      ]
    },
    {
      "cell_type": "code",
      "metadata": {
        "id": "53uSoEm1PYF_"
      },
      "source": [
        "from wordcloud import WordCloud"
      ],
      "execution_count": 55,
      "outputs": []
    },
    {
      "cell_type": "code",
      "metadata": {
        "id": "gckN3Ii1YGQD"
      },
      "source": [
        ""
      ],
      "execution_count": null,
      "outputs": []
    }
  ]
}