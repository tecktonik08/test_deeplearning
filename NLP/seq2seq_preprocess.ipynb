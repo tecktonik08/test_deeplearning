{
  "nbformat": 4,
  "nbformat_minor": 0,
  "metadata": {
    "colab": {
      "name": "seq2seq_preprocess.ipynb",
      "provenance": [],
      "authorship_tag": "ABX9TyPY2TFl99RbZvFu44zGCJ33"
    },
    "kernelspec": {
      "name": "python3",
      "display_name": "Python 3"
    },
    "language_info": {
      "name": "python"
    }
  },
  "cells": [
    {
      "cell_type": "code",
      "metadata": {
        "id": "CZLeOG22FAqa"
      },
      "source": [
        "!python -m pip install konlpy"
      ],
      "execution_count": null,
      "outputs": []
    },
    {
      "cell_type": "code",
      "metadata": {
        "id": "u4Tp2RA-FYVh"
      },
      "source": [
        "# from preprocess import *\n",
        "import preprocess as pp"
      ],
      "execution_count": null,
      "outputs": []
    },
    {
      "cell_type": "code",
      "metadata": {
        "id": "VhILsB5WN09m"
      },
      "source": [
        "path_csv='./ChatBotData.csv_short'\n",
        "inputs, outputs = pp.load_data(path_csv)\n",
        "type(inputs), type(outputs)"
      ],
      "execution_count": null,
      "outputs": []
    },
    {
      "cell_type": "code",
      "metadata": {
        "id": "iDHWQSoJOKbq"
      },
      "source": [
        "inputs[7], outputs[7] # 대화내용"
      ],
      "execution_count": null,
      "outputs": []
    },
    {
      "cell_type": "code",
      "metadata": {
        "id": "Hcmoh6jlN6JS"
      },
      "source": [
        "path_vocab = './vocabulary.txt'\n",
        "char2idx, idx2char, vocab_size = pp.load_vocabulary(path_csv, path_vocab) # preprocess 내 function\n",
        "type(char2idx), type(idx2char), type(vocab_size)"
      ],
      "execution_count": null,
      "outputs": []
    },
    {
      "cell_type": "code",
      "metadata": {
        "id": "pUNvjYM_Q9Or"
      },
      "source": [
        "print(char2idx)\n",
        "print(idx2char)\n",
        "print(vocab_size)"
      ],
      "execution_count": null,
      "outputs": []
    },
    {
      "cell_type": "code",
      "metadata": {
        "id": "o3UOidv-P3Sc"
      },
      "source": [
        "idx_inputs, input_seq_len = pp.enc_processing(inputs, char2idx)\n",
        "type(idx_inputs), len(input_seq_len)"
      ],
      "execution_count": null,
      "outputs": []
    },
    {
      "cell_type": "code",
      "metadata": {
        "id": "2j3GN042SWhy"
      },
      "source": [
        "idx_inputs[3:5]"
      ],
      "execution_count": null,
      "outputs": []
    },
    {
      "cell_type": "code",
      "metadata": {
        "id": "LdVoyHl9O9Rn"
      },
      "source": [
        "idx_outputs, output_seq_len = pp.dec_output_processing(outputs. char2idx)\n",
        "type(idx_outputs), len(output_seq_len)"
      ],
      "execution_count": null,
      "outputs": []
    },
    {
      "cell_type": "code",
      "metadata": {
        "id": "VKiMvNGvSWHR"
      },
      "source": [
        "idx_outputs[3:5]"
      ],
      "execution_count": null,
      "outputs": []
    },
    {
      "cell_type": "code",
      "metadata": {
        "id": "vysz8jcBSanP"
      },
      "source": [
        "idx_targets = pp.dec_target_processing(outputs, char2idx)\n",
        "type(idx_targets), len(idx_targets)"
      ],
      "execution_count": null,
      "outputs": []
    },
    {
      "cell_type": "code",
      "metadata": {
        "id": "C6JmhV24SjN9"
      },
      "source": [
        "idx_targets[3:5]"
      ],
      "execution_count": null,
      "outputs": []
    },
    {
      "cell_type": "code",
      "metadata": {
        "id": "mpgmy8tmSlaX"
      },
      "source": [
        "data_configs = dict()"
      ],
      "execution_count": 9,
      "outputs": []
    },
    {
      "cell_type": "code",
      "metadata": {
        "id": "xXk5wUKhTpyq"
      },
      "source": [
        "data_configs['char2idx'] = char2idx\n",
        "data_configs['idx2char'] = idx2char\n",
        "data_configs['vocab_size'] = vocab_size"
      ],
      "execution_count": null,
      "outputs": []
    },
    {
      "cell_type": "code",
      "metadata": {
        "id": "Fch057HgUkvR"
      },
      "source": [
        "import numpy as np"
      ],
      "execution_count": 10,
      "outputs": []
    },
    {
      "cell_type": "code",
      "metadata": {
        "id": "5aD-78CZUksz"
      },
      "source": [
        "np.save(open('./train_inputs.npy','wb'), idx_inputs)"
      ],
      "execution_count": null,
      "outputs": []
    },
    {
      "cell_type": "code",
      "metadata": {
        "id": "umdGJiXdUrfy"
      },
      "source": [
        "!file ./train_inputs.npy"
      ],
      "execution_count": null,
      "outputs": []
    },
    {
      "cell_type": "code",
      "metadata": {
        "id": "HTc04OYoUrdi"
      },
      "source": [
        "np.save(open('./train_outputs.npy','wb'), idx_outputs)"
      ],
      "execution_count": null,
      "outputs": []
    },
    {
      "cell_type": "code",
      "metadata": {
        "id": "9jeuLQU4VT92"
      },
      "source": [
        "data_configs['char2idx'] = char2idx\n",
        "data_configs['idx2char'] = idx2char\n",
        "data_configs['vocab_size'] = vocab_size\n",
        "\n",
        "data_configs['pad_symbol'] = PAD\n",
        "data_configs['std_symbol'] = STD\n",
        "data_configs['end_symbol'] = END\n",
        "data_configs['unk_symbol'] = UNK"
      ],
      "execution_count": null,
      "outputs": []
    },
    {
      "cell_type": "code",
      "metadata": {
        "id": "zwejk2fHVTcf"
      },
      "source": [
        "pp.json.dump(data_configs, open('./data_configs.json', 'w'))"
      ],
      "execution_count": null,
      "outputs": []
    }
  ]
}