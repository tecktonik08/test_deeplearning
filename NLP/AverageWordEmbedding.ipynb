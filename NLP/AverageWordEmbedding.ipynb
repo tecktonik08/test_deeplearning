{
  "nbformat": 4,
  "nbformat_minor": 0,
  "metadata": {
    "colab": {
      "name": "AverageWordEmbedding.ipynb",
      "provenance": [],
      "authorship_tag": "ABX9TyNSQVgGWELtlPJimPl8BHSw"
    },
    "kernelspec": {
      "name": "python3",
      "display_name": "Python 3"
    },
    "language_info": {
      "name": "python"
    }
  },
  "cells": [
    {
      "cell_type": "code",
      "metadata": {
        "id": "vtS5ZjkdzRqJ"
      },
      "source": [
        "from tensorflow.keras.datasets import imdb"
      ],
      "execution_count": null,
      "outputs": []
    },
    {
      "cell_type": "code",
      "metadata": {
        "id": "HyJ1isEY3JtC",
        "colab": {
          "base_uri": "https://localhost:8080/"
        },
        "outputId": "18c9d9d0-03e3-4ee2-e788-a944cf482456"
      },
      "source": [
        "vocab_size = 2000\n",
        "(x_train, y_train), (x_test, y_test) = imdb.load_data(num_words=vocab_size)"
      ],
      "execution_count": null,
      "outputs": [
        {
          "output_type": "stream",
          "text": [
            "Downloading data from https://storage.googleapis.com/tensorflow/tf-keras-datasets/imdb.npz\n",
            "17465344/17464789 [==============================] - 0s 0us/step\n",
            "17473536/17464789 [==============================] - 0s 0us/step\n"
          ],
          "name": "stdout"
        }
      ]
    },
    {
      "cell_type": "code",
      "metadata": {
        "colab": {
          "base_uri": "https://localhost:8080/"
        },
        "id": "TUQw-DFM9o8d",
        "outputId": "ae87d6cf-ff61-4182-fe50-ec0a93e75d98"
      },
      "source": [
        "print(x_train[1])"
      ],
      "execution_count": null,
      "outputs": [
        {
          "output_type": "stream",
          "text": [
            "[1, 194, 1153, 194, 2, 78, 228, 5, 6, 1463, 2, 2, 134, 26, 4, 715, 8, 118, 1634, 14, 394, 20, 13, 119, 954, 189, 102, 5, 207, 110, 2, 21, 14, 69, 188, 8, 30, 23, 7, 4, 249, 126, 93, 4, 114, 9, 2, 1523, 5, 647, 4, 116, 9, 35, 2, 4, 229, 9, 340, 1322, 4, 118, 9, 4, 130, 2, 19, 4, 1002, 5, 89, 29, 952, 46, 37, 4, 455, 9, 45, 43, 38, 1543, 1905, 398, 4, 1649, 26, 2, 5, 163, 11, 2, 2, 4, 1153, 9, 194, 775, 7, 2, 2, 349, 2, 148, 605, 2, 2, 15, 123, 125, 68, 2, 2, 15, 349, 165, 2, 98, 5, 4, 228, 9, 43, 2, 1157, 15, 299, 120, 5, 120, 174, 11, 220, 175, 136, 50, 9, 2, 228, 2, 5, 2, 656, 245, 2, 5, 4, 2, 131, 152, 491, 18, 2, 32, 2, 1212, 14, 9, 6, 371, 78, 22, 625, 64, 1382, 9, 8, 168, 145, 23, 4, 1690, 15, 16, 4, 1355, 5, 28, 6, 52, 154, 462, 33, 89, 78, 285, 16, 145, 95]\n"
          ],
          "name": "stdout"
        }
      ]
    },
    {
      "cell_type": "code",
      "metadata": {
        "colab": {
          "base_uri": "https://localhost:8080/"
        },
        "id": "E8AFhSOu90-S",
        "outputId": "2afce14f-d213-4bd9-9204-34b296e6c0a8"
      },
      "source": [
        "len(x_train[1]), len(x_train[200])"
      ],
      "execution_count": null,
      "outputs": [
        {
          "output_type": "execute_result",
          "data": {
            "text/plain": [
              "(189, 160)"
            ]
          },
          "metadata": {},
          "execution_count": 11
        }
      ]
    },
    {
      "cell_type": "code",
      "metadata": {
        "id": "6NREugLF-LFO"
      },
      "source": [
        "from tensorflow.keras.preprocessing.sequence import pad_sequences"
      ],
      "execution_count": null,
      "outputs": []
    },
    {
      "cell_type": "code",
      "metadata": {
        "id": "0rvw-oEb-bhG"
      },
      "source": [
        "X_train = pad_sequences(x_train, maxlen=300)"
      ],
      "execution_count": null,
      "outputs": []
    },
    {
      "cell_type": "code",
      "metadata": {
        "id": "bqK2ANSjALHK"
      },
      "source": [
        "import numpy as np"
      ],
      "execution_count": null,
      "outputs": []
    },
    {
      "cell_type": "code",
      "metadata": {
        "colab": {
          "base_uri": "https://localhost:8080/"
        },
        "id": "yypwCY2uAPVU",
        "outputId": "b0da9d39-5c07-4f5c-be6f-fbd8ae0349a7"
      },
      "source": [
        "np.unique(y_train)"
      ],
      "execution_count": null,
      "outputs": [
        {
          "output_type": "execute_result",
          "data": {
            "text/plain": [
              "array([0, 1])"
            ]
          },
          "metadata": {},
          "execution_count": 16
        }
      ]
    },
    {
      "cell_type": "code",
      "metadata": {
        "id": "8u4T75vy-w2X"
      },
      "source": [
        "import tensorflow as tf"
      ],
      "execution_count": null,
      "outputs": []
    },
    {
      "cell_type": "code",
      "metadata": {
        "id": "QKKxcr7x-3WW"
      },
      "source": [
        "model = tf.keras.models.Sequential()\n",
        "\n",
        "model.add(tf.keras.layers.Embedding(input_dim=vocab_size, output_dim=50, input_length=300)) # input\n",
        "model.add(tf.keras.layers.GlobalAveragePooling1D()) # hidden\n",
        "model.add(tf.keras.layers.Dense(1, activation='sigmoid')) # output\n",
        "\n",
        "model.compile(optimizer='adam', loss='binary_crossentropy')"
      ],
      "execution_count": null,
      "outputs": []
    },
    {
      "cell_type": "code",
      "metadata": {
        "colab": {
          "base_uri": "https://localhost:8080/"
        },
        "id": "cbhKTgXhA64Y",
        "outputId": "7748258d-0449-4db3-f9dc-972033fbc1d9"
      },
      "source": [
        "hist = model.fit(X_train, y_train, epochs=10, batch_size=128, validation_split=0.2)"
      ],
      "execution_count": null,
      "outputs": [
        {
          "output_type": "stream",
          "text": [
            "Epoch 1/10\n",
            "157/157 [==============================] - 3s 16ms/step - loss: 0.6811 - val_loss: 0.6594\n",
            "Epoch 2/10\n",
            "157/157 [==============================] - 2s 14ms/step - loss: 0.6281 - val_loss: 0.5893\n",
            "Epoch 3/10\n",
            "157/157 [==============================] - 3s 17ms/step - loss: 0.5548 - val_loss: 0.5194\n",
            "Epoch 4/10\n",
            "157/157 [==============================] - 3s 18ms/step - loss: 0.4889 - val_loss: 0.4638\n",
            "Epoch 5/10\n",
            "157/157 [==============================] - 3s 21ms/step - loss: 0.4368 - val_loss: 0.4244\n",
            "Epoch 6/10\n",
            "157/157 [==============================] - 3s 20ms/step - loss: 0.4000 - val_loss: 0.3971\n",
            "Epoch 7/10\n",
            "157/157 [==============================] - 4s 23ms/step - loss: 0.3725 - val_loss: 0.3766\n",
            "Epoch 8/10\n",
            "157/157 [==============================] - 3s 18ms/step - loss: 0.3521 - val_loss: 0.3615\n",
            "Epoch 9/10\n",
            "157/157 [==============================] - 3s 17ms/step - loss: 0.3360 - val_loss: 0.3513\n",
            "Epoch 10/10\n",
            "157/157 [==============================] - 3s 16ms/step - loss: 0.3234 - val_loss: 0.3422\n"
          ],
          "name": "stdout"
        }
      ]
    },
    {
      "cell_type": "code",
      "metadata": {
        "colab": {
          "base_uri": "https://localhost:8080/"
        },
        "id": "sgdvLscnBMmu",
        "outputId": "2c72c187-1531-44d5-b781-99c5810ba4c2"
      },
      "source": [
        "model.predict(X_train[5:6])"
      ],
      "execution_count": null,
      "outputs": [
        {
          "output_type": "execute_result",
          "data": {
            "text/plain": [
              "array([[0.4251022]], dtype=float32)"
            ]
          },
          "metadata": {},
          "execution_count": 19
        }
      ]
    },
    {
      "cell_type": "markdown",
      "metadata": {
        "id": "U7RExV5JDDn8"
      },
      "source": [
        "## Callback EarlyStopping"
      ]
    },
    {
      "cell_type": "code",
      "metadata": {
        "id": "PqFQ1jasBbj0"
      },
      "source": [
        "es = tf.keras.callbacks.EarlyStopping(monitor='val_loss', patience=4, mode='min', verbose=1)\n",
        "es  # 과적합을 방지 loss가 올라갈 때에서 stop"
      ],
      "execution_count": null,
      "outputs": []
    },
    {
      "cell_type": "code",
      "metadata": {
        "colab": {
          "base_uri": "https://localhost:8080/"
        },
        "id": "7ssZ9uD1ELtB",
        "outputId": "1fd08015-d00e-4b5a-8b31-11f23a210bc7"
      },
      "source": [
        "hist = model.fit(X_train, y_train, epochs=20, batch_size=128, validation_split=0.2, callbacks=[es])"
      ],
      "execution_count": null,
      "outputs": [
        {
          "output_type": "stream",
          "text": [
            "Epoch 1/20\n",
            "157/157 [==============================] - 2s 15ms/step - loss: 0.3126 - val_loss: 0.3351\n",
            "Epoch 2/20\n",
            "157/157 [==============================] - 2s 13ms/step - loss: 0.3035 - val_loss: 0.3293\n",
            "Epoch 3/20\n",
            "157/157 [==============================] - 2s 14ms/step - loss: 0.2959 - val_loss: 0.3253\n",
            "Epoch 4/20\n",
            "157/157 [==============================] - 2s 13ms/step - loss: 0.2890 - val_loss: 0.3218\n",
            "Epoch 5/20\n",
            "157/157 [==============================] - 2s 14ms/step - loss: 0.2833 - val_loss: 0.3199\n",
            "Epoch 6/20\n",
            "157/157 [==============================] - 2s 14ms/step - loss: 0.2782 - val_loss: 0.3159\n",
            "Epoch 7/20\n",
            "157/157 [==============================] - 2s 13ms/step - loss: 0.2737 - val_loss: 0.3150\n",
            "Epoch 8/20\n",
            "157/157 [==============================] - 2s 13ms/step - loss: 0.2692 - val_loss: 0.3128\n",
            "Epoch 9/20\n",
            "157/157 [==============================] - 2s 13ms/step - loss: 0.2657 - val_loss: 0.3126\n",
            "Epoch 10/20\n",
            "157/157 [==============================] - 2s 13ms/step - loss: 0.2626 - val_loss: 0.3111\n",
            "Epoch 11/20\n",
            "157/157 [==============================] - 2s 14ms/step - loss: 0.2595 - val_loss: 0.3107\n",
            "Epoch 12/20\n",
            "157/157 [==============================] - 2s 14ms/step - loss: 0.2571 - val_loss: 0.3107\n",
            "Epoch 13/20\n",
            "157/157 [==============================] - 2s 13ms/step - loss: 0.2542 - val_loss: 0.3118\n",
            "Epoch 14/20\n",
            "157/157 [==============================] - 2s 13ms/step - loss: 0.2518 - val_loss: 0.3103\n",
            "Epoch 15/20\n",
            "157/157 [==============================] - 2s 14ms/step - loss: 0.2500 - val_loss: 0.3107\n",
            "Epoch 16/20\n",
            "157/157 [==============================] - 2s 14ms/step - loss: 0.2479 - val_loss: 0.3117\n",
            "Epoch 17/20\n",
            "157/157 [==============================] - 2s 13ms/step - loss: 0.2468 - val_loss: 0.3116\n",
            "Epoch 18/20\n",
            "157/157 [==============================] - 2s 12ms/step - loss: 0.2449 - val_loss: 0.3121\n",
            "Epoch 00018: early stopping\n"
          ],
          "name": "stdout"
        }
      ]
    },
    {
      "cell_type": "code",
      "metadata": {
        "id": "YU7Q3uSeEbpG"
      },
      "source": [
        ""
      ],
      "execution_count": null,
      "outputs": []
    }
  ]
}