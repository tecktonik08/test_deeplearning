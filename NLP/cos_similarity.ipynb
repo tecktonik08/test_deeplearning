{
  "nbformat": 4,
  "nbformat_minor": 0,
  "metadata": {
    "colab": {
      "name": "cos_similarity.ipynb",
      "provenance": [],
      "authorship_tag": "ABX9TyNrvRZvT3BKM7QwEhwFIml8"
    },
    "kernelspec": {
      "name": "python3",
      "display_name": "Python 3"
    },
    "language_info": {
      "name": "python"
    }
  },
  "cells": [
    {
      "cell_type": "code",
      "metadata": {
        "id": "RbEvcSxZBFkL"
      },
      "source": [
        "import pandas as pd"
      ],
      "execution_count": 1,
      "outputs": []
    },
    {
      "cell_type": "code",
      "metadata": {
        "id": "RTF58__EBltC"
      },
      "source": [
        "df = pd.read_csv('smtph_total.csv')\n",
        "df.head(5)"
      ],
      "execution_count": null,
      "outputs": []
    },
    {
      "cell_type": "code",
      "metadata": {
        "colab": {
          "base_uri": "https://localhost:8080/"
        },
        "id": "DMOsMf5EBuvE",
        "outputId": "d0ddce53-1614-4bd9-f822-b351e23a702d"
      },
      "source": [
        "posts = df['Title'] + ['Description']\n",
        "type(posts)"
      ],
      "execution_count": 4,
      "outputs": [
        {
          "output_type": "execute_result",
          "data": {
            "text/plain": [
              "pandas.core.series.Series"
            ]
          },
          "metadata": {},
          "execution_count": 4
        }
      ]
    },
    {
      "cell_type": "code",
      "metadata": {
        "colab": {
          "base_uri": "https://localhost:8080/"
        },
        "id": "lQLR6r5tCeBS",
        "outputId": "73910b7b-8456-44af-889e-7878d087f6a4"
      },
      "source": [
        "posts.max(), posts.min()"
      ],
      "execution_count": 5,
      "outputs": [
        {
          "output_type": "execute_result",
          "data": {
            "text/plain": [
              "('휴대폰 스마트폰클리너 필터온 일회용 멀티클리너Description',\n",
              " '&lt;집에서 찍는 스마트폰 제품사진&gt; 출간!Description')"
            ]
          },
          "metadata": {},
          "execution_count": 5
        }
      ]
    },
    {
      "cell_type": "code",
      "metadata": {
        "id": "2uSvtKnTCgdS"
      },
      "source": [
        "!python3 -m pip install konlpy\n"
      ],
      "execution_count": null,
      "outputs": []
    },
    {
      "cell_type": "code",
      "metadata": {
        "id": "eXbEk4aFCxTK"
      },
      "source": [
        "from konlpy.tag import Okt\n",
        "tagger = Okt()"
      ],
      "execution_count": 9,
      "outputs": []
    },
    {
      "cell_type": "code",
      "metadata": {
        "id": "k3CEK57ID7sb"
      },
      "source": [
        "stop_words = ['강,', '글,', '애', '미', '번', '은', '이', '것', '등', '더', '를', '좀', '즉', '인', '옹', '때', '만', '원', '이때', '개']"
      ],
      "execution_count": 12,
      "outputs": []
    },
    {
      "cell_type": "code",
      "metadata": {
        "colab": {
          "base_uri": "https://localhost:8080/"
        },
        "id": "gIf-gSgvDiy0",
        "outputId": "58112440-6249-4ddc-b5d6-a2bf273331f3"
      },
      "source": [
        "posts_noun = []\n",
        "for post in posts:\n",
        "  # print(tagger.nouns(post))\n",
        "  for noun in tagger.nouns(post):\n",
        "    posts_noun.append(noun)\n",
        "\n",
        "len(posts_noun)"
      ],
      "execution_count": 17,
      "outputs": [
        {
          "output_type": "execute_result",
          "data": {
            "text/plain": [
              "6083"
            ]
          },
          "metadata": {},
          "execution_count": 17
        }
      ]
    },
    {
      "cell_type": "code",
      "metadata": {
        "id": "GSW-SWpMV61V"
      },
      "source": [
        "from collections import Counter"
      ],
      "execution_count": 14,
      "outputs": []
    },
    {
      "cell_type": "code",
      "metadata": {
        "id": "mQ9pqTibWcZA"
      },
      "source": [
        "noun_counter = Counter(posts_noun)\n",
        "noun_counter, type(noun_counter)"
      ],
      "execution_count": null,
      "outputs": []
    },
    {
      "cell_type": "code",
      "metadata": {
        "id": "f-cY1abIWfVh"
      },
      "source": [
        "top_30_nouns = noun_counter.most_common(30) # 상위 30개만 추출\n",
        "type(top_30_nouns), top_30_nouns"
      ],
      "execution_count": null,
      "outputs": []
    },
    {
      "cell_type": "code",
      "metadata": {
        "id": "6BwYhhfJYy-m"
      },
      "source": [
        "top_mouns_dict = dict(top_30_nouns)  # dict형으로 type 변경\n",
        "top_mouns_dict, type(top_mouns_dict)"
      ],
      "execution_count": null,
      "outputs": []
    },
    {
      "cell_type": "code",
      "metadata": {
        "id": "v6f3JhKoZATe"
      },
      "source": [
        "from wordcloud import WordCloud"
      ],
      "execution_count": 23,
      "outputs": []
    },
    {
      "cell_type": "code",
      "metadata": {
        "id": "yOpRaaoSZQm5"
      },
      "source": [
        "nouns_wordcloud = WordCloud()"
      ],
      "execution_count": 25,
      "outputs": []
    },
    {
      "cell_type": "code",
      "metadata": {
        "colab": {
          "base_uri": "https://localhost:8080/"
        },
        "id": "QhOdbLp7Zg3A",
        "outputId": "3079d6a4-8a02-414b-ef79-1f72a23932a8"
      },
      "source": [
        "nouns_wordcloud.generate_from_frequencies(top_mouns_dict)"
      ],
      "execution_count": 26,
      "outputs": [
        {
          "output_type": "execute_result",
          "data": {
            "text/plain": [
              "<wordcloud.wordcloud.WordCloud at 0x7f42f340fd90>"
            ]
          },
          "metadata": {},
          "execution_count": 26
        }
      ]
    },
    {
      "cell_type": "code",
      "metadata": {
        "id": "U6q8FK8tZw4p"
      },
      "source": [
        "import matplotlib.pyplot as plt"
      ],
      "execution_count": 30,
      "outputs": []
    },
    {
      "cell_type": "code",
      "metadata": {
        "colab": {
          "base_uri": "https://localhost:8080/",
          "height": 237
        },
        "id": "FyQB9gNgZ8rD",
        "outputId": "f22452fd-9b7c-487f-ddac-812a9d885f1b"
      },
      "source": [
        "plt.imshow(nouns_wordcloud)"
      ],
      "execution_count": 31,
      "outputs": [
        {
          "output_type": "execute_result",
          "data": {
            "text/plain": [
              "<matplotlib.image.AxesImage at 0x7f42f33c0b90>"
            ]
          },
          "metadata": {},
          "execution_count": 31
        },
        {
          "output_type": "display_data",
          "data": {
            "image/png": "[encoded data removed]",
            "text/plain": [
              "<Figure size 432x288 with 1 Axes>"
            ]
          },
          "metadata": {
            "needs_background": "light"
          }
        }
      ]
    },
    {
      "cell_type": "code",
      "metadata": {
        "id": "Y6OKMis3aIkf"
      },
      "source": [
        "from sklearn.feature_extraction.text import CountVectorizer"
      ],
      "execution_count": 32,
      "outputs": []
    },
    {
      "cell_type": "code",
      "metadata": {
        "id": "N1bLOP5qfXd3"
      },
      "source": [
        "corpus = [\n",
        "    'you know I want your love',\n",
        "    'I like you',\n",
        "    'what should I do ',    \n",
        "]\n"
      ],
      "execution_count": 33,
      "outputs": []
    },
    {
      "cell_type": "code",
      "metadata": {
        "colab": {
          "base_uri": "https://localhost:8080/"
        },
        "id": "shM283bjfe03",
        "outputId": "16e1d725-ccd4-4196-f7f2-d1fac2dfd263"
      },
      "source": [
        "countvectorizer = CountVectorizer()\n",
        "countvectorizer.fit_transform(corpus).toarray()"
      ],
      "execution_count": 35,
      "outputs": [
        {
          "output_type": "execute_result",
          "data": {
            "text/plain": [
              "array([[0, 1, 0, 1, 0, 1, 0, 1, 1],\n",
              "       [0, 0, 1, 0, 0, 0, 0, 1, 0],\n",
              "       [1, 0, 0, 0, 1, 0, 1, 0, 0]])"
            ]
          },
          "metadata": {},
          "execution_count": 35
        }
      ]
    },
    {
      "cell_type": "code",
      "metadata": {
        "colab": {
          "base_uri": "https://localhost:8080/"
        },
        "id": "7XIk-uUif4mq",
        "outputId": "3a171271-111d-4e86-db35-62fdb8dcd039"
      },
      "source": [
        "countvectorizer.vocabulary_"
      ],
      "execution_count": 37,
      "outputs": [
        {
          "output_type": "execute_result",
          "data": {
            "text/plain": [
              "{'do': 0,\n",
              " 'know': 1,\n",
              " 'like': 2,\n",
              " 'love': 3,\n",
              " 'should': 4,\n",
              " 'want': 5,\n",
              " 'what': 6,\n",
              " 'you': 7,\n",
              " 'your': 8}"
            ]
          },
          "metadata": {},
          "execution_count": 37
        }
      ]
    },
    {
      "cell_type": "code",
      "metadata": {
        "id": "Xfpi3X1rgDf_"
      },
      "source": [
        "from sklearn.feature_extraction.text import TfidfVectorizer"
      ],
      "execution_count": 39,
      "outputs": []
    },
    {
      "cell_type": "code",
      "metadata": {
        "colab": {
          "base_uri": "https://localhost:8080/"
        },
        "id": "O_CKfGEJjW_z",
        "outputId": "015a5730-0504-440c-ff09-ee3d286d1bad"
      },
      "source": [
        "tfidf = TfidfVectorizer()\n",
        "tfidf.fit_transform(corpus).toarray() # 문장을 대표하는 단어"
      ],
      "execution_count": 40,
      "outputs": [
        {
          "output_type": "execute_result",
          "data": {
            "text/plain": [
              "array([[0.        , 0.46735098, 0.        , 0.46735098, 0.        ,\n",
              "        0.46735098, 0.        , 0.35543247, 0.46735098],\n",
              "       [0.        , 0.        , 0.79596054, 0.        , 0.        ,\n",
              "        0.        , 0.        , 0.60534851, 0.        ],\n",
              "       [0.57735027, 0.        , 0.        , 0.        , 0.57735027,\n",
              "        0.        , 0.57735027, 0.        , 0.        ]])"
            ]
          },
          "metadata": {},
          "execution_count": 40
        }
      ]
    },
    {
      "cell_type": "code",
      "metadata": {
        "colab": {
          "base_uri": "https://localhost:8080/"
        },
        "id": "8BTBNm2Uj1uk",
        "outputId": "d192fb07-2b7e-4930-b78e-caea942c95fb"
      },
      "source": [
        "tfidf.vocabulary_"
      ],
      "execution_count": 41,
      "outputs": [
        {
          "output_type": "execute_result",
          "data": {
            "text/plain": [
              "{'do': 0,\n",
              " 'know': 1,\n",
              " 'like': 2,\n",
              " 'love': 3,\n",
              " 'should': 4,\n",
              " 'want': 5,\n",
              " 'what': 6,\n",
              " 'you': 7,\n",
              " 'your': 8}"
            ]
          },
          "metadata": {},
          "execution_count": 41
        }
      ]
    },
    {
      "cell_type": "markdown",
      "metadata": {
        "id": "6nxtoVCt0Tqo"
      },
      "source": [
        "## 유사한 영화 추천"
      ]
    },
    {
      "cell_type": "markdown",
      "metadata": {
        "id": "QHEairJmmWkO"
      },
      "source": [
        "## Recommand Movie with cos simularity\n",
        "<br>dataset from https://www.kaggle.com/rounakbanik/the-movies-dataset/version/7?select=movies_metadata.csv"
      ]
    },
    {
      "cell_type": "code",
      "metadata": {
        "id": "DGBop0YSj5YS"
      },
      "source": [
        "import pandas as pd\n",
        "df_data = pd.read_csv('movies_metadata.csv')\n",
        "df_data.head(3)"
      ],
      "execution_count": null,
      "outputs": []
    },
    {
      "cell_type": "code",
      "metadata": {
        "colab": {
          "base_uri": "https://localhost:8080/"
        },
        "id": "na-1qWxJnBn-",
        "outputId": "94195128-bb74-4fba-805e-49eae7c40822"
      },
      "source": [
        "df_data.columns"
      ],
      "execution_count": 45,
      "outputs": [
        {
          "output_type": "execute_result",
          "data": {
            "text/plain": [
              "Index(['adult', 'belongs_to_collection', 'budget', 'genres', 'homepage', 'id',\n",
              "       'imdb_id', 'original_language', 'original_title', 'overview',\n",
              "       'popularity', 'poster_path', 'production_companies',\n",
              "       'production_countries', 'release_date', 'revenue', 'runtime',\n",
              "       'spoken_languages', 'status', 'tagline', 'title', 'video',\n",
              "       'vote_average', 'vote_count'],\n",
              "      dtype='object')"
            ]
          },
          "metadata": {},
          "execution_count": 45
        }
      ]
    },
    {
      "cell_type": "code",
      "metadata": {
        "id": "0qasYrIHngPh"
      },
      "source": [
        "data = df_data.head(10000)  # 10000개 데이터만 추출"
      ],
      "execution_count": 46,
      "outputs": []
    },
    {
      "cell_type": "code",
      "metadata": {
        "id": "Kov9ESg3n2uq"
      },
      "source": [
        "data = data.dropna()  # N/A 삭제"
      ],
      "execution_count": 47,
      "outputs": []
    },
    {
      "cell_type": "code",
      "metadata": {
        "id": "j2njQXvjn-sT"
      },
      "source": [
        "data.info()"
      ],
      "execution_count": null,
      "outputs": []
    },
    {
      "cell_type": "code",
      "metadata": {
        "id": "FdNA6561oA61"
      },
      "source": [
        "from sklearn.feature_extraction.text import TfidfVectorizer"
      ],
      "execution_count": 49,
      "outputs": []
    },
    {
      "cell_type": "code",
      "metadata": {
        "colab": {
          "base_uri": "https://localhost:8080/"
        },
        "id": "89taoeTJofI4",
        "outputId": "9071a8f1-c48e-41a8-dad7-47091f60e352"
      },
      "source": [
        "tfidf = TfidfVectorizer() # 초기화\n",
        "tfidf_matrix = tfidf.fit_transform(data['overview'])\n",
        "tfidf_matrix.shape"
      ],
      "execution_count": 50,
      "outputs": [
        {
          "output_type": "execute_result",
          "data": {
            "text/plain": [
              "(158, 2696)"
            ]
          },
          "metadata": {},
          "execution_count": 50
        }
      ]
    },
    {
      "cell_type": "code",
      "metadata": {
        "colab": {
          "base_uri": "https://localhost:8080/"
        },
        "id": "X_1IhR6NpE95",
        "outputId": "a0de58ef-3131-4def-aca0-b7ee2a700a26"
      },
      "source": [
        "len(tfidf.vocabulary_)"
      ],
      "execution_count": 52,
      "outputs": [
        {
          "output_type": "execute_result",
          "data": {
            "text/plain": [
              "2696"
            ]
          },
          "metadata": {},
          "execution_count": 52
        }
      ]
    },
    {
      "cell_type": "code",
      "metadata": {
        "colab": {
          "base_uri": "https://localhost:8080/"
        },
        "id": "gjc5gO9_pG_r",
        "outputId": "88a3317a-c609-45b0-be48-9087b0156474"
      },
      "source": [
        "tfidf_matrix[4].toarray()"
      ],
      "execution_count": 53,
      "outputs": [
        {
          "output_type": "execute_result",
          "data": {
            "text/plain": [
              "array([[0., 0., 0., ..., 0., 0., 0.]])"
            ]
          },
          "metadata": {},
          "execution_count": 53
        }
      ]
    },
    {
      "cell_type": "code",
      "metadata": {
        "id": "2bTvX4A1pW4M"
      },
      "source": [
        "from sklearn.metrics.pairwise import linear_kernel"
      ],
      "execution_count": 54,
      "outputs": []
    },
    {
      "cell_type": "code",
      "metadata": {
        "colab": {
          "base_uri": "https://localhost:8080/"
        },
        "id": "9VyFXlJBqFRF",
        "outputId": "acea3df8-8d10-4860-8076-ba9a6eec7349"
      },
      "source": [
        "cosin_sim = linear_kernel(tfidf_matrix, tfidf_matrix)\n",
        "type(cosin_sim), cosin_sim.shape"
      ],
      "execution_count": 55,
      "outputs": [
        {
          "output_type": "execute_result",
          "data": {
            "text/plain": [
              "(numpy.ndarray, (158, 158))"
            ]
          },
          "metadata": {},
          "execution_count": 55
        }
      ]
    },
    {
      "cell_type": "code",
      "metadata": {
        "id": "YVMuejGLqrz9"
      },
      "source": [
        "cosin_sim[3]"
      ],
      "execution_count": null,
      "outputs": []
    },
    {
      "cell_type": "code",
      "metadata": {
        "colab": {
          "base_uri": "https://localhost:8080/"
        },
        "id": "nSzCsWjLqtXT",
        "outputId": "34cab66c-1aee-453a-b007-886ccf23021a"
      },
      "source": [
        "indeces = pd.Series(data.index, index=data['title']).drop_duplicates()\n",
        "indeces.head(5)"
      ],
      "execution_count": 59,
      "outputs": [
        {
          "output_type": "execute_result",
          "data": {
            "text/plain": [
              "title\n",
              "GoldenEye                                    9\n",
              "Friday                                      68\n",
              "From Dusk Till Dawn                         69\n",
              "Blue in the Face                           153\n",
              "Mighty Morphin Power Rangers: The Movie    178\n",
              "dtype: int64"
            ]
          },
          "metadata": {},
          "execution_count": 59
        }
      ]
    },
    {
      "cell_type": "code",
      "metadata": {
        "colab": {
          "base_uri": "https://localhost:8080/"
        },
        "id": "_WAtW1Z-rmzp",
        "outputId": "1d21752b-d2ad-4416-ef05-ea01670c9c7e"
      },
      "source": [
        "indeces['From Dusk Till Dawn']"
      ],
      "execution_count": 61,
      "outputs": [
        {
          "output_type": "execute_result",
          "data": {
            "text/plain": [
              "69"
            ]
          },
          "metadata": {},
          "execution_count": 61
        }
      ]
    },
    {
      "cell_type": "code",
      "metadata": {
        "colab": {
          "base_uri": "https://localhost:8080/"
        },
        "id": "TTg85T6YsRa6",
        "outputId": "c2f420d1-6905-4f75-afeb-ecd76bfbd0ac"
      },
      "source": [
        "sorted(list(cosin_sim[69]), reverse=True)[1:11] # 69번 'From Dusk Till Dawn' 각각의 영화의 유사도"
      ],
      "execution_count": 64,
      "outputs": [
        {
          "output_type": "execute_result",
          "data": {
            "text/plain": [
              "[0.15998660887787308,\n",
              " 0.14772757089625846,\n",
              " 0.13396597843861469,\n",
              " 0.12763954217361856,\n",
              " 0.12396013932603699,\n",
              " 0.1189225068324697,\n",
              " 0.11846245157106666,\n",
              " 0.11163546861489206,\n",
              " 0.10414294242114651,\n",
              " 0.1021239662265584]"
            ]
          },
          "metadata": {},
          "execution_count": 64
        }
      ]
    },
    {
      "cell_type": "code",
      "metadata": {
        "colab": {
          "base_uri": "https://localhost:8080/"
        },
        "id": "NRoVBCdvxhUc",
        "outputId": "d33d5f36-235d-4993-ece9-9a8c80eaf80d"
      },
      "source": [
        "cosin_list = list(enumerate(cosin_sim[69])) # 앞의 숫자 만들기\n",
        "cosin_list"
      ],
      "execution_count": 65,
      "outputs": [
        {
          "output_type": "execute_result",
          "data": {
            "text/plain": [
              "[(0, 0.0727441763199051),\n",
              " (1, 0.02892051203972273),\n",
              " (2, 0.02996503077446317),\n",
              " (3, 0.037174758464543475),\n",
              " (4, 0.02346836061741026),\n",
              " (5, 0.021246298385504493),\n",
              " (6, 0.03633447712794377),\n",
              " (7, 0.02409510202753557),\n",
              " (8, 0.06229400104850713),\n",
              " (9, 0.03702937763287602),\n",
              " (10, 0.02266926258350839),\n",
              " (11, 0.03550986180781372),\n",
              " (12, 0.04067791017893172),\n",
              " (13, 0.02258712427618866),\n",
              " (14, 0.055681642758578426),\n",
              " (15, 0.03285809837552814),\n",
              " (16, 0.008864996791036644),\n",
              " (17, 0.051654345203359445),\n",
              " (18, 0.036543295302026296),\n",
              " (19, 0.05436611020060969),\n",
              " (20, 0.033444124944652376),\n",
              " (21, 0.034369941078449484),\n",
              " (22, 0.015738855191422714),\n",
              " (23, 0.04867096565015526),\n",
              " (24, 0.0165640075249569),\n",
              " (25, 0.045349328897193536),\n",
              " (26, 0.046479507343680074),\n",
              " (27, 0.02335116601519331),\n",
              " (28, 0.03414460067128391),\n",
              " (29, 0.01880098894929399),\n",
              " (30, 0.03749684968923591),\n",
              " (31, 0.03495873912734175),\n",
              " (32, 0.028904142549040543),\n",
              " (33, 0.07653702067400137),\n",
              " (34, 0.0420053856954951),\n",
              " (35, 0.01887417858509342),\n",
              " (36, 0.03899075747625005),\n",
              " (37, 0.018905351270920575),\n",
              " (38, 0.0581371686844761),\n",
              " (39, 0.06256835081107805),\n",
              " (40, 0.06418018781492944),\n",
              " (41, 0.02818557476486423),\n",
              " (42, 0.012636801969483472),\n",
              " (43, 0.03411513362071413),\n",
              " (44, 0.022011528214427596),\n",
              " (45, 0.04084155794601536),\n",
              " (46, 0.023258756302241734),\n",
              " (47, 0.019434400902220792),\n",
              " (48, 0.011090334694260625),\n",
              " (49, 0.03129096914175193),\n",
              " (50, 0.04968739277034367),\n",
              " (51, 0.03873771943547791),\n",
              " (52, 0.034845850090862746),\n",
              " (53, 0.03605364586541966),\n",
              " (54, 0.0548995128641066),\n",
              " (55, 0.02896844624837778),\n",
              " (56, 0.12396013932603699),\n",
              " (57, 0.017560212468627247),\n",
              " (58, 0.022379533800444853),\n",
              " (59, 0.016716442893773248),\n",
              " (60, 0.028666856516304462),\n",
              " (61, 0.012784701549151406),\n",
              " (62, 0.1021239662265584),\n",
              " (63, 0.03605753708829086),\n",
              " (64, 0.01856145411679454),\n",
              " (65, 0.007536792238047464),\n",
              " (66, 0.03627565301897282),\n",
              " (67, 0.14772757089625846),\n",
              " (68, 0.07863939654572888),\n",
              " (69, 1.0000000000000002),\n",
              " (70, 0.06490919638216405),\n",
              " (71, 0.11846245157106666),\n",
              " (72, 0.06759477729852406),\n",
              " (73, 0.007901538716347259),\n",
              " (74, 0.11163546861489206),\n",
              " (75, 0.01962351198325638),\n",
              " (76, 0.01181452076934861),\n",
              " (77, 0.018959047441475984),\n",
              " (78, 0.0777240551998175),\n",
              " (79, 0.051627310335658996),\n",
              " (80, 0.06704982880658902),\n",
              " (81, 0.028672356399621114),\n",
              " (82, 0.07708831666547515),\n",
              " (83, 0.15998660887787308),\n",
              " (84, 0.06751206299021836),\n",
              " (85, 0.10414294242114651),\n",
              " (86, 0.04845924109409865),\n",
              " (87, 0.0717245949157262),\n",
              " (88, 0.10207971087196481),\n",
              " (89, 0.03816176849889954),\n",
              " (90, 0.09094390029051094),\n",
              " (91, 0.06753700009620281),\n",
              " (92, 0.049070838287092515),\n",
              " (93, 0.034855063923446575),\n",
              " (94, 0.024062479484665455),\n",
              " (95, 0.030183934970486534),\n",
              " (96, 0.06296895414834959),\n",
              " (97, 0.023769001423475638),\n",
              " (98, 0.030156580008166636),\n",
              " (99, 0.03376180402655872),\n",
              " (100, 0.061113241865163405),\n",
              " (101, 0.037795124213644886),\n",
              " (102, 0.013543880450032412),\n",
              " (103, 0.05214196347976607),\n",
              " (104, 0.017136047440244224),\n",
              " (105, 0.0545485044703303),\n",
              " (106, 0.03825794763419014),\n",
              " (107, 0.04060438050660771),\n",
              " (108, 0.03959379257603307),\n",
              " (109, 0.007428128800515271),\n",
              " (110, 0.04368412791359948),\n",
              " (111, 0.03345980038521615),\n",
              " (112, 0.07328169202429911),\n",
              " (113, 0.0689153492778048),\n",
              " (114, 0.04811438035541243),\n",
              " (115, 0.04703552901593579),\n",
              " (116, 0.014362995369105555),\n",
              " (117, 0.014307027867566774),\n",
              " (118, 0.06985103392068573),\n",
              " (119, 0.029171828881181305),\n",
              " (120, 0.006024975732732928),\n",
              " (121, 0.014747555638018852),\n",
              " (122, 0.030870304828824347),\n",
              " (123, 0.030274526518226395),\n",
              " (124, 0.053070918929712795),\n",
              " (125, 0.011049442309096387),\n",
              " (126, 0.05400170634573909),\n",
              " (127, 0.019459697602779054),\n",
              " (128, 0.016100559847618837),\n",
              " (129, 0.03879250264403164),\n",
              " (130, 0.028407275208326067),\n",
              " (131, 0.023713241492282357),\n",
              " (132, 0.04701350455478659),\n",
              " (133, 0.1189225068324697),\n",
              " (134, 0.055885332432776914),\n",
              " (135, 0.020799280936346448),\n",
              " (136, 0.04803360538836958),\n",
              " (137, 0.13396597843861469),\n",
              " (138, 0.12763954217361856),\n",
              " (139, 0.08967898602019628),\n",
              " (140, 0.07594087445235678),\n",
              " (141, 0.02408693980023397),\n",
              " (142, 0.08666987642376395),\n",
              " (143, 0.06478599766441434),\n",
              " (144, 0.028746339265731016),\n",
              " (145, 0.03514313566038776),\n",
              " (146, 0.0534815153722194),\n",
              " (147, 0.021863433525886794),\n",
              " (148, 0.05246406756710896),\n",
              " (149, 0.0948290631705181),\n",
              " (150, 0.006121010082791553),\n",
              " (151, 0.026997757361824554),\n",
              " (152, 0.03204387494829313),\n",
              " (153, 0.019101143576897628),\n",
              " (154, 0.041909783109255964),\n",
              " (155, 0.03110393121739402),\n",
              " (156, 0.042092553084743786),\n",
              " (157, 0.044729912840070066)]"
            ]
          },
          "metadata": {},
          "execution_count": 65
        }
      ]
    },
    {
      "cell_type": "code",
      "metadata": {
        "colab": {
          "base_uri": "https://localhost:8080/"
        },
        "id": "ux5dETR8se0P",
        "outputId": "8ac78bf6-c5a7-4e7e-e87b-fb9629060d48"
      },
      "source": [
        "cosin_index = sorted(cosin_list, key=lambda x:x[1], reverse=True)\n",
        "cosin_index[1:11]"
      ],
      "execution_count": 68,
      "outputs": [
        {
          "output_type": "execute_result",
          "data": {
            "text/plain": [
              "[(83, 0.15998660887787308),\n",
              " (67, 0.14772757089625846),\n",
              " (137, 0.13396597843861469),\n",
              " (138, 0.12763954217361856),\n",
              " (56, 0.12396013932603699),\n",
              " (133, 0.1189225068324697),\n",
              " (71, 0.11846245157106666),\n",
              " (74, 0.11163546861489206),\n",
              " (85, 0.10414294242114651),\n",
              " (62, 0.1021239662265584)]"
            ]
          },
          "metadata": {},
          "execution_count": 68
        }
      ]
    },
    {
      "cell_type": "code",
      "metadata": {
        "colab": {
          "base_uri": "https://localhost:8080/"
        },
        "id": "78JjFnEKyRcE",
        "outputId": "82d818b6-66c6-475a-c80d-5cb38e022448"
      },
      "source": [
        "[i[0] for i in cosin_index[1:11]]"
      ],
      "execution_count": 69,
      "outputs": [
        {
          "output_type": "execute_result",
          "data": {
            "text/plain": [
              "[83, 67, 137, 138, 56, 133, 71, 74, 85, 62]"
            ]
          },
          "metadata": {},
          "execution_count": 69
        }
      ]
    },
    {
      "cell_type": "code",
      "metadata": {
        "id": "FKKwr8SNzhwO"
      },
      "source": [
        "movie_indices = [i[0] for i in cosin_index[1:11]]"
      ],
      "execution_count": 70,
      "outputs": []
    },
    {
      "cell_type": "code",
      "metadata": {
        "colab": {
          "base_uri": "https://localhost:8080/"
        },
        "id": "-P8TvIqtzw1X",
        "outputId": "c8c87f90-7d60-4a38-9672-7fa61341e575"
      },
      "source": [
        "data['title'].iloc[movie_indices]"
      ],
      "execution_count": 72,
      "outputs": [
        {
          "output_type": "execute_result",
          "data": {
            "text/plain": [
              "3513                      The Spy Who Loved Me\n",
              "2832                     From Russia with Love\n",
              "7329                       You Only Live Twice\n",
              "7330                                 Octopussy\n",
              "2263                          A View to a Kill\n",
              "7192    Agent Cody Banks 2: Destination London\n",
              "2875                          Live and Let Die\n",
              "2965                   The World Is Not Enough\n",
              "3517               The Man with the Golden Gun\n",
              "2572                                    Tarzan\n",
              "Name: title, dtype: object"
            ]
          },
          "metadata": {},
          "execution_count": 72
        }
      ]
    },
    {
      "cell_type": "code",
      "metadata": {
        "id": "LC-YO5fX0L0W"
      },
      "source": [
        ""
      ],
      "execution_count": null,
      "outputs": []
    }
  ]
}