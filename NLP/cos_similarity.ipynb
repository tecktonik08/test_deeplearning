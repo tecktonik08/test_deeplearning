{
  "nbformat": 4,
  "nbformat_minor": 0,
  "metadata": {
    "colab": {
      "name": "cos_similarity.ipynb",
      "provenance": [],
      "authorship_tag": "ABX9TyO5jKWClXkcayTjTVGdT1EL"
    },
    "kernelspec": {
      "name": "python3",
      "display_name": "Python 3"
    },
    "language_info": {
      "name": "python"
    }
  },
  "cells": [
    {
      "cell_type": "markdown",
      "metadata": {
        "id": "MzMH6Q8yWV7O"
      },
      "source": [
        "## 유사한 영화 추천"
      ]
    },
    {
      "cell_type": "markdown",
      "metadata": {
        "id": "_yNok0aGWV4M"
      },
      "source": [
        "## Recommand Movie with cos simularity\n",
        "<br>dataset from https://www.kaggle.com/rounakbanik/the-movies-dataset/version/7?select=movies_metadata.csv"
      ]
    },
    {
      "cell_type": "code",
      "metadata": {
        "id": "sUk-Iz3TWC4R"
      },
      "source": [
        "import pandas as pd\n",
        "df_data = pd.read_csv('movies_metadata.csv')\n",
        "df_data.head(3)"
      ],
      "execution_count": null,
      "outputs": []
    },
    {
      "cell_type": "code",
      "metadata": {
        "id": "lUGRw0zkWn7Z"
      },
      "source": [
        "df_data.columns"
      ],
      "execution_count": null,
      "outputs": []
    },
    {
      "cell_type": "code",
      "metadata": {
        "id": "-r66mqlfWqTq"
      },
      "source": [
        "data = df_data.head(10000)  # 10000개 데이터만 추출"
      ],
      "execution_count": null,
      "outputs": []
    },
    {
      "cell_type": "code",
      "metadata": {
        "id": "qYGwm6EUWqRr"
      },
      "source": [
        "data = data.dropna()  # N/A 삭제"
      ],
      "execution_count": null,
      "outputs": []
    },
    {
      "cell_type": "code",
      "metadata": {
        "id": "RxmPyhiwWqNS"
      },
      "source": [
        "data.info()"
      ],
      "execution_count": null,
      "outputs": []
    },
    {
      "cell_type": "code",
      "metadata": {
        "id": "ABnFwAT1WqK3"
      },
      "source": [
        "from sklearn.feature_extraction.text import TfidfVectorizer"
      ],
      "execution_count": null,
      "outputs": []
    },
    {
      "cell_type": "code",
      "metadata": {
        "id": "idvgPF0dWqIx"
      },
      "source": [
        "tfidf = TfidfVectorizer() # 초기화\n",
        "tfidf_matrix = tfidf.fit_transform(data['overview'])\n",
        "tfidf_matrix.shape"
      ],
      "execution_count": null,
      "outputs": []
    },
    {
      "cell_type": "code",
      "metadata": {
        "id": "-YINz-JPWqGi"
      },
      "source": [
        "len(tfidf.vocabulary_)"
      ],
      "execution_count": null,
      "outputs": []
    },
    {
      "cell_type": "code",
      "metadata": {
        "id": "B5J5CThlWqEf"
      },
      "source": [
        "tfidf_matrix[4].toarray()"
      ],
      "execution_count": null,
      "outputs": []
    },
    {
      "cell_type": "code",
      "metadata": {
        "id": "BhZT-XeuWqCI"
      },
      "source": [
        "from sklearn.metrics.pairwise import linear_kernel"
      ],
      "execution_count": null,
      "outputs": []
    },
    {
      "cell_type": "code",
      "metadata": {
        "id": "J8i7y2-mWqAC"
      },
      "source": [
        "cosin_sim = linear_kernel(tfidf_matrix, tfidf_matrix)\n",
        "type(cosin_sim), cosin_sim.shape"
      ],
      "execution_count": null,
      "outputs": []
    },
    {
      "cell_type": "code",
      "metadata": {
        "id": "TEIZr-LFWp9y"
      },
      "source": [
        "cosin_sim[3]"
      ],
      "execution_count": null,
      "outputs": []
    },
    {
      "cell_type": "code",
      "metadata": {
        "id": "DqPujem_W8WJ"
      },
      "source": [
        "indeces = pd.Series(data.index, index=data['title']).drop_duplicates()\n",
        "indeces.head(5)"
      ],
      "execution_count": null,
      "outputs": []
    },
    {
      "cell_type": "code",
      "metadata": {
        "id": "xQ7oZx6oW8T3"
      },
      "source": [
        "indeces['From Dusk Till Dawn']"
      ],
      "execution_count": null,
      "outputs": []
    },
    {
      "cell_type": "code",
      "metadata": {
        "id": "7cR8qGpvW8R3"
      },
      "source": [
        "sorted(list(cosin_sim[69]), reverse=True)[1:11] # 69번 'From Dusk Till Dawn' 각각의 영화의 유사도"
      ],
      "execution_count": null,
      "outputs": []
    },
    {
      "cell_type": "code",
      "metadata": {
        "id": "IDlTHrCrW8Pi"
      },
      "source": [
        "cosin_list = list(enumerate(cosin_sim[69])) # 앞의 숫자 만들기\n",
        "cosin_list"
      ],
      "execution_count": null,
      "outputs": []
    },
    {
      "cell_type": "code",
      "metadata": {
        "id": "S146Zu_GW8Ku"
      },
      "source": [
        "cosin_index = sorted(cosin_list, key=lambda x:x[1], reverse=True)\n",
        "cosin_index[1:11]"
      ],
      "execution_count": null,
      "outputs": []
    },
    {
      "cell_type": "code",
      "metadata": {
        "id": "4hptKSlAW8Iw"
      },
      "source": [
        "[i[0] for i in cosin_index[1:11]]"
      ],
      "execution_count": null,
      "outputs": []
    },
    {
      "cell_type": "code",
      "metadata": {
        "id": "RhUCopu_W8EP"
      },
      "source": [
        "movie_indices = [i[0] for i in cosin_index[1:11]]"
      ],
      "execution_count": null,
      "outputs": []
    },
    {
      "cell_type": "code",
      "metadata": {
        "id": "uXrs_FcqW8CH"
      },
      "source": [
        "data['title'].iloc[movie_indices]"
      ],
      "execution_count": null,
      "outputs": []
    },
    {
      "cell_type": "code",
      "metadata": {
        "id": "5fRubs6uW7_4"
      },
      "source": [
        ""
      ],
      "execution_count": null,
      "outputs": []
    }
  ]
}