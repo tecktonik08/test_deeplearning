{
  "nbformat": 4,
  "nbformat_minor": 0,
  "metadata": {
    "colab": {
      "name": "make_model_threeway.ipynb",
      "provenance": [],
      "authorship_tag": "ABX9TyNpueM41JuXDBdbIb0Vgqnw"
    },
    "kernelspec": {
      "name": "python3",
      "display_name": "Python 3"
    },
    "language_info": {
      "name": "python"
    }
  },
  "cells": [
    {
      "cell_type": "markdown",
      "metadata": {
        "id": "jj1lYY65W6Vp"
      },
      "source": [
        "# Sequential()"
      ]
    },
    {
      "cell_type": "markdown",
      "metadata": {
        "id": "QCC9mZLLXCeD"
      },
      "source": [
        "# Function API"
      ]
    },
    {
      "cell_type": "code",
      "metadata": {
        "id": "OCyzL7iyW3kS"
      },
      "source": [
        "import tensorflow as tf # MultiPerceptron Model 부분 functional 방식"
      ],
      "execution_count": 2,
      "outputs": []
    },
    {
      "cell_type": "code",
      "metadata": {
        "id": "PLOegJmRW5MJ"
      },
      "source": [
        "inputs = tf.keras.Input(shape=(2,)) # Input"
      ],
      "execution_count": 4,
      "outputs": []
    },
    {
      "cell_type": "code",
      "metadata": {
        "id": "NCpRUc3xX62y"
      },
      "source": [
        "hidden = tf.keras.layers.Dense(2,activation='sigmoid')(inputs)  # input + hidden"
      ],
      "execution_count": 7,
      "outputs": []
    },
    {
      "cell_type": "code",
      "metadata": {
        "id": "mNG7ty0SYNb7"
      },
      "source": [
        "outputs = tf.keras.layers.Dense(1, activation='sigmoid')(hidden) # input +hidden + output"
      ],
      "execution_count": 9,
      "outputs": []
    },
    {
      "cell_type": "code",
      "metadata": {
        "id": "LMPD7y40Yl0g"
      },
      "source": [
        "model = tf.keras.models.Model(inputs=inputs, outputs=outputs)"
      ],
      "execution_count": 11,
      "outputs": []
    },
    {
      "cell_type": "code",
      "metadata": {
        "colab": {
          "base_uri": "https://localhost:8080/",
          "height": 272
        },
        "id": "XN-d7elrZSGM",
        "outputId": "9d6cabfd-4d19-4bb9-bfb3-3b3827b79175"
      },
      "source": [
        "tf.keras.utils.plot_model(model)"
      ],
      "execution_count": 12,
      "outputs": [
        {
          "output_type": "execute_result",
          "data": {
            "image/png": "[encoded data removed]",
            "text/plain": [
              "<IPython.core.display.Image object>"
            ]
          },
          "metadata": {},
          "execution_count": 12
        }
      ]
    },
    {
      "cell_type": "code",
      "metadata": {
        "id": "WpVKybkCZfOR"
      },
      "source": [
        ""
      ],
      "execution_count": null,
      "outputs": []
    }
  ]
}