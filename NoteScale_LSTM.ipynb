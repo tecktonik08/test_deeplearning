{
  "nbformat": 4,
  "nbformat_minor": 0,
  "metadata": {
    "colab": {
      "name": "NoteScale_LSTM.ipynb",
      "provenance": [],
      "authorship_tag": "ABX9TyNJxy6TUsv+6Yd4o1FIiHAh"
    },
    "kernelspec": {
      "name": "python3",
      "display_name": "Python 3"
    },
    "language_info": {
      "name": "python"
    }
  },
  "cells": [
    {
      "cell_type": "code",
      "metadata": {
        "id": "kBMQ_S2TlFvh"
      },
      "source": [
        "note_seq = ['g8', 'e8', 'e4', 'f8', 'd8', 'd4', 'c8', 'd8', 'e8', 'f8', 'g8', 'g8', 'g4',\n",
        "       'g8', 'e8', 'e8', 'e8', 'f8', 'd8', 'd4', 'c8', 'e8', 'g8', 'g8', 'e8', 'e8', 'e4',\n",
        "       'd8', 'd8', 'd8', 'd8', 'd8', 'e8', 'f4', 'e8', 'e8', 'e8', 'e8', 'e8', 'f8', 'g4',\n",
        "       'g8', 'e8', 'e4', 'f8', 'd8', 'd4', 'c8', 'e8', 'g8', 'g8', 'e8', 'e8', 'e4']"
      ],
      "execution_count": 1,
      "outputs": []
    },
    {
      "cell_type": "code",
      "metadata": {
        "colab": {
          "base_uri": "https://localhost:8080/"
        },
        "id": "mr-zk9ryn_6R",
        "outputId": "11705e55-d395-4711-e04d-eb420a80b201"
      },
      "source": [
        "note_seq[0:4], note_seq[1:5], note_seq[2:6]"
      ],
      "execution_count": 2,
      "outputs": [
        {
          "output_type": "execute_result",
          "data": {
            "text/plain": [
              "(['g8', 'e8', 'e4', 'f8'], ['e8', 'e4', 'f8', 'd8'], ['e4', 'f8', 'd8', 'd4'])"
            ]
          },
          "metadata": {
            "tags": []
          },
          "execution_count": 2
        }
      ]
    },
    {
      "cell_type": "code",
      "metadata": {
        "id": "I2BBEqmWleTI"
      },
      "source": [
        "code2idx = {'c4':0, 'd4':1, 'e4':2, 'f4':3, 'g4':4, 'a4':5, 'b4':6,\n",
        "            'c8':7, 'd8':8, 'e8':9, 'f8':10, 'g8':11, 'a8':12, 'b8':13}"
      ],
      "execution_count": 3,
      "outputs": []
    },
    {
      "cell_type": "code",
      "metadata": {
        "colab": {
          "base_uri": "https://localhost:8080/"
        },
        "id": "R51Pgd93njQe",
        "outputId": "6410ace2-9ca4-4e9f-e493-a61209406a61"
      },
      "source": [
        "len(note_seq), range(len(note_seq)-4) # [4,8,12,...]"
      ],
      "execution_count": 6,
      "outputs": [
        {
          "output_type": "execute_result",
          "data": {
            "text/plain": [
              "(54, range(0, 50))"
            ]
          },
          "metadata": {
            "tags": []
          },
          "execution_count": 6
        }
      ]
    },
    {
      "cell_type": "code",
      "metadata": {
        "colab": {
          "base_uri": "https://localhost:8080/"
        },
        "id": "LcPseyKelf6z",
        "outputId": "2efcda09-5ecb-4c05-acb0-ef2ab7229327"
      },
      "source": [
        "dataset = list()\n",
        "for i in range(len(note_seq)-4):\n",
        "  subset = note_seq[i:i+4]\n",
        "  items = list()\n",
        "  # print(subset)\n",
        "  for item in subset:\n",
        "    # print(code2idx[item]) # item = key, value 값이 나옴\n",
        "    items.append(code2idx[item])\n",
        "  # print(items)\n",
        "  dataset.append(items)\n",
        "\n",
        "print(dataset)"
      ],
      "execution_count": 9,
      "outputs": [
        {
          "output_type": "stream",
          "text": [
            "[[11, 9, 2, 10], [9, 2, 10, 8], [2, 10, 8, 1], [10, 8, 1, 7], [8, 1, 7, 8], [1, 7, 8, 9], [7, 8, 9, 10], [8, 9, 10, 11], [9, 10, 11, 11], [10, 11, 11, 4], [11, 11, 4, 11], [11, 4, 11, 9], [4, 11, 9, 9], [11, 9, 9, 9], [9, 9, 9, 10], [9, 9, 10, 8], [9, 10, 8, 1], [10, 8, 1, 7], [8, 1, 7, 9], [1, 7, 9, 11], [7, 9, 11, 11], [9, 11, 11, 9], [11, 11, 9, 9], [11, 9, 9, 2], [9, 9, 2, 8], [9, 2, 8, 8], [2, 8, 8, 8], [8, 8, 8, 8], [8, 8, 8, 8], [8, 8, 8, 9], [8, 8, 9, 3], [8, 9, 3, 9], [9, 3, 9, 9], [3, 9, 9, 9], [9, 9, 9, 9], [9, 9, 9, 9], [9, 9, 9, 10], [9, 9, 10, 4], [9, 10, 4, 11], [10, 4, 11, 9], [4, 11, 9, 2], [11, 9, 2, 10], [9, 2, 10, 8], [2, 10, 8, 1], [10, 8, 1, 7], [8, 1, 7, 9], [1, 7, 9, 11], [7, 9, 11, 11], [9, 11, 11, 9], [11, 11, 9, 9]]\n"
          ],
          "name": "stdout"
        }
      ]
    },
    {
      "cell_type": "code",
      "metadata": {
        "id": "-Jf0mGp0V592"
      },
      "source": [
        "import numpy as np\n",
        "datasets = np.array(dataset)"
      ],
      "execution_count": 10,
      "outputs": []
    },
    {
      "cell_type": "code",
      "metadata": {
        "id": "7VYzAZwQoxUU",
        "colab": {
          "base_uri": "https://localhost:8080/"
        },
        "outputId": "5e8bb938-943f-4231-e807-afb24af90c23"
      },
      "source": [
        "x_train = datasets[:, 0:3]\n",
        "x_train.shape # --> tensorflow tensor type(tensor) (50, 3, 1)"
      ],
      "execution_count": 16,
      "outputs": [
        {
          "output_type": "execute_result",
          "data": {
            "text/plain": [
              "(50, 3)"
            ]
          },
          "metadata": {
            "tags": []
          },
          "execution_count": 16
        }
      ]
    },
    {
      "cell_type": "code",
      "metadata": {
        "colab": {
          "base_uri": "https://localhost:8080/"
        },
        "id": "h_WqQ7MFeUHB",
        "outputId": "1dc067f0-c99d-4de3-f950-8142895632dc"
      },
      "source": [
        "X_train = np.reshape(x_train, (50, 3, 1))\n",
        "X_train.shape, X_train[2]"
      ],
      "execution_count": 21,
      "outputs": [
        {
          "output_type": "execute_result",
          "data": {
            "text/plain": [
              "((50, 3, 1), array([[0.01183432],\n",
              "        [0.0591716 ],\n",
              "        [0.04733728]]))"
            ]
          },
          "metadata": {
            "tags": []
          },
          "execution_count": 21
        }
      ]
    },
    {
      "cell_type": "code",
      "metadata": {
        "colab": {
          "base_uri": "https://localhost:8080/"
        },
        "id": "_Nx6CnbsWCBW",
        "outputId": "f85a57dc-b769-4d87-da02-46aeee2984a0"
      },
      "source": [
        "y_train = datasets[:,3]\n",
        "y_train.shape"
      ],
      "execution_count": 15,
      "outputs": [
        {
          "output_type": "execute_result",
          "data": {
            "text/plain": [
              "(50,)"
            ]
          },
          "metadata": {
            "tags": []
          },
          "execution_count": 15
        }
      ]
    },
    {
      "cell_type": "code",
      "metadata": {
        "colab": {
          "base_uri": "https://localhost:8080/"
        },
        "id": "Pdy32-RDWL4F",
        "outputId": "2a447e5c-b074-406c-b3ab-c0251c72fd2f"
      },
      "source": [
        "len(code2idx)"
      ],
      "execution_count": 17,
      "outputs": [
        {
          "output_type": "execute_result",
          "data": {
            "text/plain": [
              "14"
            ]
          },
          "metadata": {
            "tags": []
          },
          "execution_count": 17
        }
      ]
    },
    {
      "cell_type": "code",
      "metadata": {
        "colab": {
          "base_uri": "https://localhost:8080/"
        },
        "id": "7lU6LVEoXYDt",
        "outputId": "a85f23da-fd6a-48f3-fa27-5d3447939023"
      },
      "source": [
        "x_train = x_train / 13\n",
        "x_train[3]"
      ],
      "execution_count": 19,
      "outputs": [
        {
          "output_type": "execute_result",
          "data": {
            "text/plain": [
              "array([0.0591716 , 0.04733728, 0.00591716])"
            ]
          },
          "metadata": {
            "tags": []
          },
          "execution_count": 19
        }
      ]
    },
    {
      "cell_type": "code",
      "metadata": {
        "colab": {
          "base_uri": "https://localhost:8080/"
        },
        "id": "dMJJIAg8gnlS",
        "outputId": "3680137c-18e0-4194-edbd-24d0747d7c30"
      },
      "source": [
        "np.unique(y_train)"
      ],
      "execution_count": 22,
      "outputs": [
        {
          "output_type": "execute_result",
          "data": {
            "text/plain": [
              "array([ 1,  2,  3,  4,  7,  8,  9, 10, 11])"
            ]
          },
          "metadata": {
            "tags": []
          },
          "execution_count": 22
        }
      ]
    },
    {
      "cell_type": "markdown",
      "metadata": {
        "id": "cm67N1h8XlV1"
      },
      "source": [
        "# make model"
      ]
    },
    {
      "cell_type": "code",
      "metadata": {
        "id": "sKN1RSAEXZ6m"
      },
      "source": [
        "import tensorflow as tf"
      ],
      "execution_count": 20,
      "outputs": []
    },
    {
      "cell_type": "code",
      "metadata": {
        "colab": {
          "base_uri": "https://localhost:8080/"
        },
        "id": "_Zkg7JW0X1ZL",
        "outputId": "8cca95f2-7c01-4b47-cace-c48c296deddf"
      },
      "source": [
        "model = tf.keras.models.Sequential()\n",
        "\n",
        "model.add(tf.keras.Input(shape=(3,1)))  # input layer\n",
        "model.add(tf.keras.layers.LSTM(128)) # hidden layer\n",
        "model.add(tf.keras.layers.Dense(13, activation='softmax')) # output layer\n",
        "\n",
        "model.compile(optimizer='adam', loss='sparse_categorical_crossentropy', metrics=['accuracy']) # gadget"
      ],
      "execution_count": 35,
      "outputs": [
        {
          "output_type": "stream",
          "text": [
            "WARNING:tensorflow:Please add `keras.layers.InputLayer` instead of `keras.Input` to Sequential model. `keras.Input` is intended to be used by Functional model.\n"
          ],
          "name": "stdout"
        }
      ]
    },
    {
      "cell_type": "code",
      "metadata": {
        "colab": {
          "base_uri": "https://localhost:8080/"
        },
        "id": "EGBsqgdwheQL",
        "outputId": "4c388f14-c914-4c97-d584-c0d34d2dd1b1"
      },
      "source": [
        "hist = model.fit(X_train, y_train, epochs=500, batch_size=10)  # 50 / 5 = 10"
      ],
      "execution_count": 51,
      "outputs": [
        {
          "output_type": "stream",
          "text": [
            "Epoch 1/500\n",
            "5/5 [==============================] - 0s 5ms/step - loss: 1.8257 - accuracy: 0.3400\n",
            "Epoch 2/500\n",
            "5/5 [==============================] - 0s 5ms/step - loss: 1.8270 - accuracy: 0.3400\n",
            "Epoch 3/500\n",
            "5/5 [==============================] - 0s 5ms/step - loss: 1.8214 - accuracy: 0.3400\n",
            "Epoch 4/500\n",
            "5/5 [==============================] - 0s 5ms/step - loss: 1.8200 - accuracy: 0.3400\n",
            "Epoch 5/500\n",
            "5/5 [==============================] - 0s 5ms/step - loss: 1.8194 - accuracy: 0.3400\n",
            "Epoch 6/500\n",
            "5/5 [==============================] - 0s 5ms/step - loss: 1.8208 - accuracy: 0.3400\n",
            "Epoch 7/500\n",
            "5/5 [==============================] - 0s 5ms/step - loss: 1.8193 - accuracy: 0.3400\n",
            "Epoch 8/500\n",
            "5/5 [==============================] - 0s 5ms/step - loss: 1.8198 - accuracy: 0.3400\n",
            "Epoch 9/500\n",
            "5/5 [==============================] - 0s 5ms/step - loss: 1.8142 - accuracy: 0.3400\n",
            "Epoch 10/500\n",
            "5/5 [==============================] - 0s 5ms/step - loss: 1.8138 - accuracy: 0.3400\n",
            "Epoch 11/500\n",
            "5/5 [==============================] - 0s 5ms/step - loss: 1.8119 - accuracy: 0.3400\n",
            "Epoch 12/500\n",
            "5/5 [==============================] - 0s 5ms/step - loss: 1.8179 - accuracy: 0.3400\n",
            "Epoch 13/500\n",
            "5/5 [==============================] - 0s 5ms/step - loss: 1.8104 - accuracy: 0.3400\n",
            "Epoch 14/500\n",
            "5/5 [==============================] - 0s 5ms/step - loss: 1.8077 - accuracy: 0.3400\n",
            "Epoch 15/500\n",
            "5/5 [==============================] - 0s 7ms/step - loss: 1.8075 - accuracy: 0.3200\n",
            "Epoch 16/500\n",
            "5/5 [==============================] - 0s 6ms/step - loss: 1.8078 - accuracy: 0.3400\n",
            "Epoch 17/500\n",
            "5/5 [==============================] - 0s 6ms/step - loss: 1.8051 - accuracy: 0.3400\n",
            "Epoch 18/500\n",
            "5/5 [==============================] - 0s 5ms/step - loss: 1.8112 - accuracy: 0.3400\n",
            "Epoch 19/500\n",
            "5/5 [==============================] - 0s 6ms/step - loss: 1.8027 - accuracy: 0.3400\n",
            "Epoch 20/500\n",
            "5/5 [==============================] - 0s 6ms/step - loss: 1.8010 - accuracy: 0.3200\n",
            "Epoch 21/500\n",
            "5/5 [==============================] - 0s 5ms/step - loss: 1.8035 - accuracy: 0.3400\n",
            "Epoch 22/500\n",
            "5/5 [==============================] - 0s 5ms/step - loss: 1.7997 - accuracy: 0.3400\n",
            "Epoch 23/500\n",
            "5/5 [==============================] - 0s 5ms/step - loss: 1.7969 - accuracy: 0.3200\n",
            "Epoch 24/500\n",
            "5/5 [==============================] - 0s 5ms/step - loss: 1.8025 - accuracy: 0.3400\n",
            "Epoch 25/500\n",
            "5/5 [==============================] - 0s 5ms/step - loss: 1.7951 - accuracy: 0.3400\n",
            "Epoch 26/500\n",
            "5/5 [==============================] - 0s 5ms/step - loss: 1.7994 - accuracy: 0.3200\n",
            "Epoch 27/500\n",
            "5/5 [==============================] - 0s 5ms/step - loss: 1.7988 - accuracy: 0.3200\n",
            "Epoch 28/500\n",
            "5/5 [==============================] - 0s 8ms/step - loss: 1.7890 - accuracy: 0.3200\n",
            "Epoch 29/500\n",
            "5/5 [==============================] - 0s 6ms/step - loss: 1.7883 - accuracy: 0.3200\n",
            "Epoch 30/500\n",
            "5/5 [==============================] - 0s 5ms/step - loss: 1.7930 - accuracy: 0.3400\n",
            "Epoch 31/500\n",
            "5/5 [==============================] - 0s 5ms/step - loss: 1.7888 - accuracy: 0.3400\n",
            "Epoch 32/500\n",
            "5/5 [==============================] - 0s 5ms/step - loss: 1.7864 - accuracy: 0.3200\n",
            "Epoch 33/500\n",
            "5/5 [==============================] - 0s 5ms/step - loss: 1.7895 - accuracy: 0.3400\n",
            "Epoch 34/500\n",
            "5/5 [==============================] - 0s 5ms/step - loss: 1.7919 - accuracy: 0.3400\n",
            "Epoch 35/500\n",
            "5/5 [==============================] - 0s 6ms/step - loss: 1.7818 - accuracy: 0.3200\n",
            "Epoch 36/500\n",
            "5/5 [==============================] - 0s 5ms/step - loss: 1.7826 - accuracy: 0.3200\n",
            "Epoch 37/500\n",
            "5/5 [==============================] - 0s 6ms/step - loss: 1.7846 - accuracy: 0.3200\n",
            "Epoch 38/500\n",
            "5/5 [==============================] - 0s 5ms/step - loss: 1.7785 - accuracy: 0.3200\n",
            "Epoch 39/500\n",
            "5/5 [==============================] - 0s 5ms/step - loss: 1.7766 - accuracy: 0.3200\n",
            "Epoch 40/500\n",
            "5/5 [==============================] - 0s 5ms/step - loss: 1.7773 - accuracy: 0.3200\n",
            "Epoch 41/500\n",
            "5/5 [==============================] - 0s 5ms/step - loss: 1.7746 - accuracy: 0.3200\n",
            "Epoch 42/500\n",
            "5/5 [==============================] - 0s 5ms/step - loss: 1.7714 - accuracy: 0.2800\n",
            "Epoch 43/500\n",
            "5/5 [==============================] - 0s 5ms/step - loss: 1.7730 - accuracy: 0.3400\n",
            "Epoch 44/500\n",
            "5/5 [==============================] - 0s 6ms/step - loss: 1.7674 - accuracy: 0.3200\n",
            "Epoch 45/500\n",
            "5/5 [==============================] - 0s 6ms/step - loss: 1.7715 - accuracy: 0.3000\n",
            "Epoch 46/500\n",
            "5/5 [==============================] - 0s 6ms/step - loss: 1.7722 - accuracy: 0.3000\n",
            "Epoch 47/500\n",
            "5/5 [==============================] - 0s 6ms/step - loss: 1.7633 - accuracy: 0.3200\n",
            "Epoch 48/500\n",
            "5/5 [==============================] - 0s 5ms/step - loss: 1.7638 - accuracy: 0.3200\n",
            "Epoch 49/500\n",
            "5/5 [==============================] - 0s 5ms/step - loss: 1.7717 - accuracy: 0.3200\n",
            "Epoch 50/500\n",
            "5/5 [==============================] - 0s 5ms/step - loss: 1.7601 - accuracy: 0.3200\n",
            "Epoch 51/500\n",
            "5/5 [==============================] - 0s 5ms/step - loss: 1.7612 - accuracy: 0.3200\n",
            "Epoch 52/500\n",
            "5/5 [==============================] - 0s 6ms/step - loss: 1.7628 - accuracy: 0.3400\n",
            "Epoch 53/500\n",
            "5/5 [==============================] - 0s 5ms/step - loss: 1.7581 - accuracy: 0.3000\n",
            "Epoch 54/500\n",
            "5/5 [==============================] - 0s 5ms/step - loss: 1.7550 - accuracy: 0.3200\n",
            "Epoch 55/500\n",
            "5/5 [==============================] - 0s 6ms/step - loss: 1.7510 - accuracy: 0.3200\n",
            "Epoch 56/500\n",
            "5/5 [==============================] - 0s 5ms/step - loss: 1.7624 - accuracy: 0.3400\n",
            "Epoch 57/500\n",
            "5/5 [==============================] - 0s 6ms/step - loss: 1.7488 - accuracy: 0.3200\n",
            "Epoch 58/500\n",
            "5/5 [==============================] - 0s 5ms/step - loss: 1.7489 - accuracy: 0.3000\n",
            "Epoch 59/500\n",
            "5/5 [==============================] - 0s 7ms/step - loss: 1.7515 - accuracy: 0.3200\n",
            "Epoch 60/500\n",
            "5/5 [==============================] - 0s 6ms/step - loss: 1.7579 - accuracy: 0.3200\n",
            "Epoch 61/500\n",
            "5/5 [==============================] - 0s 5ms/step - loss: 1.7478 - accuracy: 0.3000\n",
            "Epoch 62/500\n",
            "5/5 [==============================] - 0s 5ms/step - loss: 1.7537 - accuracy: 0.3000\n",
            "Epoch 63/500\n",
            "5/5 [==============================] - 0s 5ms/step - loss: 1.7450 - accuracy: 0.3200\n",
            "Epoch 64/500\n",
            "5/5 [==============================] - 0s 5ms/step - loss: 1.7434 - accuracy: 0.3200\n",
            "Epoch 65/500\n",
            "5/5 [==============================] - 0s 5ms/step - loss: 1.7465 - accuracy: 0.3000\n",
            "Epoch 66/500\n",
            "5/5 [==============================] - 0s 6ms/step - loss: 1.7445 - accuracy: 0.3200\n",
            "Epoch 67/500\n",
            "5/5 [==============================] - 0s 5ms/step - loss: 1.7372 - accuracy: 0.3200\n",
            "Epoch 68/500\n",
            "5/5 [==============================] - 0s 5ms/step - loss: 1.7574 - accuracy: 0.3000\n",
            "Epoch 69/500\n",
            "5/5 [==============================] - 0s 5ms/step - loss: 1.7358 - accuracy: 0.3000\n",
            "Epoch 70/500\n",
            "5/5 [==============================] - 0s 5ms/step - loss: 1.7391 - accuracy: 0.3400\n",
            "Epoch 71/500\n",
            "5/5 [==============================] - 0s 5ms/step - loss: 1.7400 - accuracy: 0.3200\n",
            "Epoch 72/500\n",
            "5/5 [==============================] - 0s 5ms/step - loss: 1.7337 - accuracy: 0.3000\n",
            "Epoch 73/500\n",
            "5/5 [==============================] - 0s 5ms/step - loss: 1.7351 - accuracy: 0.3000\n",
            "Epoch 74/500\n",
            "5/5 [==============================] - 0s 5ms/step - loss: 1.7422 - accuracy: 0.3200\n",
            "Epoch 75/500\n",
            "5/5 [==============================] - 0s 6ms/step - loss: 1.7365 - accuracy: 0.3000\n",
            "Epoch 76/500\n",
            "5/5 [==============================] - 0s 5ms/step - loss: 1.7295 - accuracy: 0.3000\n",
            "Epoch 77/500\n",
            "5/5 [==============================] - 0s 5ms/step - loss: 1.7301 - accuracy: 0.2800\n",
            "Epoch 78/500\n",
            "5/5 [==============================] - 0s 5ms/step - loss: 1.7264 - accuracy: 0.3000\n",
            "Epoch 79/500\n",
            "5/5 [==============================] - 0s 5ms/step - loss: 1.7252 - accuracy: 0.2800\n",
            "Epoch 80/500\n",
            "5/5 [==============================] - 0s 5ms/step - loss: 1.7312 - accuracy: 0.3000\n",
            "Epoch 81/500\n",
            "5/5 [==============================] - 0s 7ms/step - loss: 1.7296 - accuracy: 0.3000\n",
            "Epoch 82/500\n",
            "5/5 [==============================] - 0s 5ms/step - loss: 1.7325 - accuracy: 0.3200\n",
            "Epoch 83/500\n",
            "5/5 [==============================] - 0s 5ms/step - loss: 1.7271 - accuracy: 0.3400\n",
            "Epoch 84/500\n",
            "5/5 [==============================] - 0s 5ms/step - loss: 1.7277 - accuracy: 0.3000\n",
            "Epoch 85/500\n",
            "5/5 [==============================] - 0s 5ms/step - loss: 1.7360 - accuracy: 0.3400\n",
            "Epoch 86/500\n",
            "5/5 [==============================] - 0s 6ms/step - loss: 1.7311 - accuracy: 0.3400\n",
            "Epoch 87/500\n",
            "5/5 [==============================] - 0s 6ms/step - loss: 1.7246 - accuracy: 0.3000\n",
            "Epoch 88/500\n",
            "5/5 [==============================] - 0s 6ms/step - loss: 1.7236 - accuracy: 0.3000\n",
            "Epoch 89/500\n",
            "5/5 [==============================] - 0s 7ms/step - loss: 1.7219 - accuracy: 0.3200\n",
            "Epoch 90/500\n",
            "5/5 [==============================] - 0s 5ms/step - loss: 1.7189 - accuracy: 0.3400\n",
            "Epoch 91/500\n",
            "5/5 [==============================] - 0s 6ms/step - loss: 1.7227 - accuracy: 0.3400\n",
            "Epoch 92/500\n",
            "5/5 [==============================] - 0s 6ms/step - loss: 1.7224 - accuracy: 0.3400\n",
            "Epoch 93/500\n",
            "5/5 [==============================] - 0s 6ms/step - loss: 1.7166 - accuracy: 0.3000\n",
            "Epoch 94/500\n",
            "5/5 [==============================] - 0s 5ms/step - loss: 1.7136 - accuracy: 0.3000\n",
            "Epoch 95/500\n",
            "5/5 [==============================] - 0s 6ms/step - loss: 1.7211 - accuracy: 0.3400\n",
            "Epoch 96/500\n",
            "5/5 [==============================] - 0s 5ms/step - loss: 1.7088 - accuracy: 0.3400\n",
            "Epoch 97/500\n",
            "5/5 [==============================] - 0s 5ms/step - loss: 1.7150 - accuracy: 0.3400\n",
            "Epoch 98/500\n",
            "5/5 [==============================] - 0s 5ms/step - loss: 1.7242 - accuracy: 0.3400\n",
            "Epoch 99/500\n",
            "5/5 [==============================] - 0s 5ms/step - loss: 1.7332 - accuracy: 0.3800\n",
            "Epoch 100/500\n",
            "5/5 [==============================] - 0s 5ms/step - loss: 1.7160 - accuracy: 0.3600\n",
            "Epoch 101/500\n",
            "5/5 [==============================] - 0s 7ms/step - loss: 1.7115 - accuracy: 0.3400\n",
            "Epoch 102/500\n",
            "5/5 [==============================] - 0s 5ms/step - loss: 1.7089 - accuracy: 0.3400\n",
            "Epoch 103/500\n",
            "5/5 [==============================] - 0s 5ms/step - loss: 1.7148 - accuracy: 0.3200\n",
            "Epoch 104/500\n",
            "5/5 [==============================] - 0s 5ms/step - loss: 1.7065 - accuracy: 0.3200\n",
            "Epoch 105/500\n",
            "5/5 [==============================] - 0s 5ms/step - loss: 1.7108 - accuracy: 0.3400\n",
            "Epoch 106/500\n",
            "5/5 [==============================] - 0s 5ms/step - loss: 1.7100 - accuracy: 0.3400\n",
            "Epoch 107/500\n",
            "5/5 [==============================] - 0s 5ms/step - loss: 1.7192 - accuracy: 0.3200\n",
            "Epoch 108/500\n",
            "5/5 [==============================] - 0s 6ms/step - loss: 1.7130 - accuracy: 0.3600\n",
            "Epoch 109/500\n",
            "5/5 [==============================] - 0s 6ms/step - loss: 1.7055 - accuracy: 0.3600\n",
            "Epoch 110/500\n",
            "5/5 [==============================] - 0s 6ms/step - loss: 1.7161 - accuracy: 0.3400\n",
            "Epoch 111/500\n",
            "5/5 [==============================] - 0s 6ms/step - loss: 1.7096 - accuracy: 0.3600\n",
            "Epoch 112/500\n",
            "5/5 [==============================] - 0s 6ms/step - loss: 1.7197 - accuracy: 0.3400\n",
            "Epoch 113/500\n",
            "5/5 [==============================] - 0s 5ms/step - loss: 1.7054 - accuracy: 0.3400\n",
            "Epoch 114/500\n",
            "5/5 [==============================] - 0s 6ms/step - loss: 1.7037 - accuracy: 0.3400\n",
            "Epoch 115/500\n",
            "5/5 [==============================] - 0s 5ms/step - loss: 1.7053 - accuracy: 0.3400\n",
            "Epoch 116/500\n",
            "5/5 [==============================] - 0s 7ms/step - loss: 1.7105 - accuracy: 0.3400\n",
            "Epoch 117/500\n",
            "5/5 [==============================] - 0s 5ms/step - loss: 1.7028 - accuracy: 0.3400\n",
            "Epoch 118/500\n",
            "5/5 [==============================] - 0s 5ms/step - loss: 1.6961 - accuracy: 0.3400\n",
            "Epoch 119/500\n",
            "5/5 [==============================] - 0s 5ms/step - loss: 1.7063 - accuracy: 0.3400\n",
            "Epoch 120/500\n",
            "5/5 [==============================] - 0s 6ms/step - loss: 1.6984 - accuracy: 0.3400\n",
            "Epoch 121/500\n",
            "5/5 [==============================] - 0s 6ms/step - loss: 1.6930 - accuracy: 0.3600\n",
            "Epoch 122/500\n",
            "5/5 [==============================] - 0s 5ms/step - loss: 1.6967 - accuracy: 0.3600\n",
            "Epoch 123/500\n",
            "5/5 [==============================] - 0s 6ms/step - loss: 1.7063 - accuracy: 0.3000\n",
            "Epoch 124/500\n",
            "5/5 [==============================] - 0s 7ms/step - loss: 1.7137 - accuracy: 0.3400\n",
            "Epoch 125/500\n",
            "5/5 [==============================] - 0s 5ms/step - loss: 1.7135 - accuracy: 0.3400\n",
            "Epoch 126/500\n",
            "5/5 [==============================] - 0s 5ms/step - loss: 1.7087 - accuracy: 0.3200\n",
            "Epoch 127/500\n",
            "5/5 [==============================] - 0s 5ms/step - loss: 1.6977 - accuracy: 0.3600\n",
            "Epoch 128/500\n",
            "5/5 [==============================] - 0s 5ms/step - loss: 1.6952 - accuracy: 0.3400\n",
            "Epoch 129/500\n",
            "5/5 [==============================] - 0s 6ms/step - loss: 1.6994 - accuracy: 0.3400\n",
            "Epoch 130/500\n",
            "5/5 [==============================] - 0s 6ms/step - loss: 1.6951 - accuracy: 0.3600\n",
            "Epoch 131/500\n",
            "5/5 [==============================] - 0s 6ms/step - loss: 1.7004 - accuracy: 0.3400\n",
            "Epoch 132/500\n",
            "5/5 [==============================] - 0s 5ms/step - loss: 1.6994 - accuracy: 0.3400\n",
            "Epoch 133/500\n",
            "5/5 [==============================] - 0s 6ms/step - loss: 1.6943 - accuracy: 0.3400\n",
            "Epoch 134/500\n",
            "5/5 [==============================] - 0s 6ms/step - loss: 1.6993 - accuracy: 0.3600\n",
            "Epoch 135/500\n",
            "5/5 [==============================] - 0s 5ms/step - loss: 1.6897 - accuracy: 0.4000\n",
            "Epoch 136/500\n",
            "5/5 [==============================] - 0s 5ms/step - loss: 1.6938 - accuracy: 0.3400\n",
            "Epoch 137/500\n",
            "5/5 [==============================] - 0s 5ms/step - loss: 1.6938 - accuracy: 0.3400\n",
            "Epoch 138/500\n",
            "5/5 [==============================] - 0s 5ms/step - loss: 1.6942 - accuracy: 0.3600\n",
            "Epoch 139/500\n",
            "5/5 [==============================] - 0s 7ms/step - loss: 1.6878 - accuracy: 0.3600\n",
            "Epoch 140/500\n",
            "5/5 [==============================] - 0s 6ms/step - loss: 1.6917 - accuracy: 0.3400\n",
            "Epoch 141/500\n",
            "5/5 [==============================] - 0s 5ms/step - loss: 1.6923 - accuracy: 0.3400\n",
            "Epoch 142/500\n",
            "5/5 [==============================] - 0s 5ms/step - loss: 1.6937 - accuracy: 0.3400\n",
            "Epoch 143/500\n",
            "5/5 [==============================] - 0s 6ms/step - loss: 1.6883 - accuracy: 0.3600\n",
            "Epoch 144/500\n",
            "5/5 [==============================] - 0s 5ms/step - loss: 1.6931 - accuracy: 0.3600\n",
            "Epoch 145/500\n",
            "5/5 [==============================] - 0s 6ms/step - loss: 1.6925 - accuracy: 0.3600\n",
            "Epoch 146/500\n",
            "5/5 [==============================] - 0s 5ms/step - loss: 1.6848 - accuracy: 0.3400\n",
            "Epoch 147/500\n",
            "5/5 [==============================] - 0s 6ms/step - loss: 1.6883 - accuracy: 0.3800\n",
            "Epoch 148/500\n",
            "5/5 [==============================] - 0s 6ms/step - loss: 1.6861 - accuracy: 0.3800\n",
            "Epoch 149/500\n",
            "5/5 [==============================] - 0s 5ms/step - loss: 1.6844 - accuracy: 0.3400\n",
            "Epoch 150/500\n",
            "5/5 [==============================] - 0s 6ms/step - loss: 1.6909 - accuracy: 0.3400\n",
            "Epoch 151/500\n",
            "5/5 [==============================] - 0s 7ms/step - loss: 1.6798 - accuracy: 0.3800\n",
            "Epoch 152/500\n",
            "5/5 [==============================] - 0s 6ms/step - loss: 1.6885 - accuracy: 0.3600\n",
            "Epoch 153/500\n",
            "5/5 [==============================] - 0s 6ms/step - loss: 1.6866 - accuracy: 0.3200\n",
            "Epoch 154/500\n",
            "5/5 [==============================] - 0s 7ms/step - loss: 1.6832 - accuracy: 0.3600\n",
            "Epoch 155/500\n",
            "5/5 [==============================] - 0s 6ms/step - loss: 1.6805 - accuracy: 0.3600\n",
            "Epoch 156/500\n",
            "5/5 [==============================] - 0s 6ms/step - loss: 1.6772 - accuracy: 0.3600\n",
            "Epoch 157/500\n",
            "5/5 [==============================] - 0s 6ms/step - loss: 1.6813 - accuracy: 0.3600\n",
            "Epoch 158/500\n",
            "5/5 [==============================] - 0s 6ms/step - loss: 1.6819 - accuracy: 0.3600\n",
            "Epoch 159/500\n",
            "5/5 [==============================] - 0s 6ms/step - loss: 1.6809 - accuracy: 0.3600\n",
            "Epoch 160/500\n",
            "5/5 [==============================] - 0s 5ms/step - loss: 1.6823 - accuracy: 0.4000\n",
            "Epoch 161/500\n",
            "5/5 [==============================] - 0s 6ms/step - loss: 1.6761 - accuracy: 0.3800\n",
            "Epoch 162/500\n",
            "5/5 [==============================] - 0s 5ms/step - loss: 1.6769 - accuracy: 0.3800\n",
            "Epoch 163/500\n",
            "5/5 [==============================] - 0s 5ms/step - loss: 1.6802 - accuracy: 0.3800\n",
            "Epoch 164/500\n",
            "5/5 [==============================] - 0s 5ms/step - loss: 1.6748 - accuracy: 0.3800\n",
            "Epoch 165/500\n",
            "5/5 [==============================] - 0s 5ms/step - loss: 1.6736 - accuracy: 0.3800\n",
            "Epoch 166/500\n",
            "5/5 [==============================] - 0s 5ms/step - loss: 1.6828 - accuracy: 0.3800\n",
            "Epoch 167/500\n",
            "5/5 [==============================] - 0s 5ms/step - loss: 1.6720 - accuracy: 0.4000\n",
            "Epoch 168/500\n",
            "5/5 [==============================] - 0s 5ms/step - loss: 1.6907 - accuracy: 0.3600\n",
            "Epoch 169/500\n",
            "5/5 [==============================] - 0s 5ms/step - loss: 1.6865 - accuracy: 0.3800\n",
            "Epoch 170/500\n",
            "5/5 [==============================] - 0s 5ms/step - loss: 1.6824 - accuracy: 0.3200\n",
            "Epoch 171/500\n",
            "5/5 [==============================] - 0s 5ms/step - loss: 1.6758 - accuracy: 0.3800\n",
            "Epoch 172/500\n",
            "5/5 [==============================] - 0s 5ms/step - loss: 1.6816 - accuracy: 0.3400\n",
            "Epoch 173/500\n",
            "5/5 [==============================] - 0s 6ms/step - loss: 1.6949 - accuracy: 0.3600\n",
            "Epoch 174/500\n",
            "5/5 [==============================] - 0s 5ms/step - loss: 1.6855 - accuracy: 0.3200\n",
            "Epoch 175/500\n",
            "5/5 [==============================] - 0s 6ms/step - loss: 1.6778 - accuracy: 0.3600\n",
            "Epoch 176/500\n",
            "5/5 [==============================] - 0s 7ms/step - loss: 1.6721 - accuracy: 0.3400\n",
            "Epoch 177/500\n",
            "5/5 [==============================] - 0s 6ms/step - loss: 1.6736 - accuracy: 0.3600\n",
            "Epoch 178/500\n",
            "5/5 [==============================] - 0s 6ms/step - loss: 1.6713 - accuracy: 0.3800\n",
            "Epoch 179/500\n",
            "5/5 [==============================] - 0s 6ms/step - loss: 1.6733 - accuracy: 0.3400\n",
            "Epoch 180/500\n",
            "5/5 [==============================] - 0s 6ms/step - loss: 1.6679 - accuracy: 0.3400\n",
            "Epoch 181/500\n",
            "5/5 [==============================] - 0s 6ms/step - loss: 1.6677 - accuracy: 0.3800\n",
            "Epoch 182/500\n",
            "5/5 [==============================] - 0s 6ms/step - loss: 1.6677 - accuracy: 0.3200\n",
            "Epoch 183/500\n",
            "5/5 [==============================] - 0s 6ms/step - loss: 1.6648 - accuracy: 0.3800\n",
            "Epoch 184/500\n",
            "5/5 [==============================] - 0s 7ms/step - loss: 1.6690 - accuracy: 0.4000\n",
            "Epoch 185/500\n",
            "5/5 [==============================] - 0s 5ms/step - loss: 1.6714 - accuracy: 0.3800\n",
            "Epoch 186/500\n",
            "5/5 [==============================] - 0s 5ms/step - loss: 1.6674 - accuracy: 0.3800\n",
            "Epoch 187/500\n",
            "5/5 [==============================] - 0s 5ms/step - loss: 1.6801 - accuracy: 0.3600\n",
            "Epoch 188/500\n",
            "5/5 [==============================] - 0s 7ms/step - loss: 1.6889 - accuracy: 0.3200\n",
            "Epoch 189/500\n",
            "5/5 [==============================] - 0s 6ms/step - loss: 1.6681 - accuracy: 0.3800\n",
            "Epoch 190/500\n",
            "5/5 [==============================] - 0s 6ms/step - loss: 1.6882 - accuracy: 0.3800\n",
            "Epoch 191/500\n",
            "5/5 [==============================] - 0s 7ms/step - loss: 1.6736 - accuracy: 0.3800\n",
            "Epoch 192/500\n",
            "5/5 [==============================] - 0s 6ms/step - loss: 1.6599 - accuracy: 0.4000\n",
            "Epoch 193/500\n",
            "5/5 [==============================] - 0s 6ms/step - loss: 1.6619 - accuracy: 0.3400\n",
            "Epoch 194/500\n",
            "5/5 [==============================] - 0s 6ms/step - loss: 1.6644 - accuracy: 0.3800\n",
            "Epoch 195/500\n",
            "5/5 [==============================] - 0s 6ms/step - loss: 1.6628 - accuracy: 0.4000\n",
            "Epoch 196/500\n",
            "5/5 [==============================] - 0s 6ms/step - loss: 1.6588 - accuracy: 0.4000\n",
            "Epoch 197/500\n",
            "5/5 [==============================] - 0s 5ms/step - loss: 1.6638 - accuracy: 0.3800\n",
            "Epoch 198/500\n",
            "5/5 [==============================] - 0s 6ms/step - loss: 1.6600 - accuracy: 0.3600\n",
            "Epoch 199/500\n",
            "5/5 [==============================] - 0s 7ms/step - loss: 1.6632 - accuracy: 0.3600\n",
            "Epoch 200/500\n",
            "5/5 [==============================] - 0s 6ms/step - loss: 1.6585 - accuracy: 0.4000\n",
            "Epoch 201/500\n",
            "5/5 [==============================] - 0s 8ms/step - loss: 1.6748 - accuracy: 0.4000\n",
            "Epoch 202/500\n",
            "5/5 [==============================] - 0s 5ms/step - loss: 1.6584 - accuracy: 0.3600\n",
            "Epoch 203/500\n",
            "5/5 [==============================] - 0s 5ms/step - loss: 1.6589 - accuracy: 0.3600\n",
            "Epoch 204/500\n",
            "5/5 [==============================] - 0s 5ms/step - loss: 1.6579 - accuracy: 0.4000\n",
            "Epoch 205/500\n",
            "5/5 [==============================] - 0s 6ms/step - loss: 1.6587 - accuracy: 0.4000\n",
            "Epoch 206/500\n",
            "5/5 [==============================] - 0s 6ms/step - loss: 1.6597 - accuracy: 0.3600\n",
            "Epoch 207/500\n",
            "5/5 [==============================] - 0s 5ms/step - loss: 1.6568 - accuracy: 0.3800\n",
            "Epoch 208/500\n",
            "5/5 [==============================] - 0s 5ms/step - loss: 1.6585 - accuracy: 0.4000\n",
            "Epoch 209/500\n",
            "5/5 [==============================] - 0s 6ms/step - loss: 1.6584 - accuracy: 0.4000\n",
            "Epoch 210/500\n",
            "5/5 [==============================] - 0s 5ms/step - loss: 1.6722 - accuracy: 0.3600\n",
            "Epoch 211/500\n",
            "5/5 [==============================] - 0s 6ms/step - loss: 1.6579 - accuracy: 0.3800\n",
            "Epoch 212/500\n",
            "5/5 [==============================] - 0s 7ms/step - loss: 1.6609 - accuracy: 0.3800\n",
            "Epoch 213/500\n",
            "5/5 [==============================] - 0s 6ms/step - loss: 1.6523 - accuracy: 0.3800\n",
            "Epoch 214/500\n",
            "5/5 [==============================] - 0s 5ms/step - loss: 1.6583 - accuracy: 0.4000\n",
            "Epoch 215/500\n",
            "5/5 [==============================] - 0s 7ms/step - loss: 1.6587 - accuracy: 0.3800\n",
            "Epoch 216/500\n",
            "5/5 [==============================] - 0s 6ms/step - loss: 1.6531 - accuracy: 0.3800\n",
            "Epoch 217/500\n",
            "5/5 [==============================] - 0s 5ms/step - loss: 1.6573 - accuracy: 0.3800\n",
            "Epoch 218/500\n",
            "5/5 [==============================] - 0s 6ms/step - loss: 1.6538 - accuracy: 0.3400\n",
            "Epoch 219/500\n",
            "5/5 [==============================] - 0s 6ms/step - loss: 1.6536 - accuracy: 0.3200\n",
            "Epoch 220/500\n",
            "5/5 [==============================] - 0s 6ms/step - loss: 1.6676 - accuracy: 0.3800\n",
            "Epoch 221/500\n",
            "5/5 [==============================] - 0s 5ms/step - loss: 1.6537 - accuracy: 0.3800\n",
            "Epoch 222/500\n",
            "5/5 [==============================] - 0s 7ms/step - loss: 1.6509 - accuracy: 0.3600\n",
            "Epoch 223/500\n",
            "5/5 [==============================] - 0s 6ms/step - loss: 1.6525 - accuracy: 0.3200\n",
            "Epoch 224/500\n",
            "5/5 [==============================] - 0s 6ms/step - loss: 1.6513 - accuracy: 0.3800\n",
            "Epoch 225/500\n",
            "5/5 [==============================] - 0s 6ms/step - loss: 1.6674 - accuracy: 0.3600\n",
            "Epoch 226/500\n",
            "5/5 [==============================] - 0s 6ms/step - loss: 1.6527 - accuracy: 0.3400\n",
            "Epoch 227/500\n",
            "5/5 [==============================] - 0s 5ms/step - loss: 1.6557 - accuracy: 0.3800\n",
            "Epoch 228/500\n",
            "5/5 [==============================] - 0s 5ms/step - loss: 1.6576 - accuracy: 0.4000\n",
            "Epoch 229/500\n",
            "5/5 [==============================] - 0s 6ms/step - loss: 1.6487 - accuracy: 0.3400\n",
            "Epoch 230/500\n",
            "5/5 [==============================] - 0s 6ms/step - loss: 1.6528 - accuracy: 0.3600\n",
            "Epoch 231/500\n",
            "5/5 [==============================] - 0s 6ms/step - loss: 1.6473 - accuracy: 0.3800\n",
            "Epoch 232/500\n",
            "5/5 [==============================] - 0s 6ms/step - loss: 1.6419 - accuracy: 0.4000\n",
            "Epoch 233/500\n",
            "5/5 [==============================] - 0s 7ms/step - loss: 1.6499 - accuracy: 0.4000\n",
            "Epoch 234/500\n",
            "5/5 [==============================] - 0s 6ms/step - loss: 1.6448 - accuracy: 0.3600\n",
            "Epoch 235/500\n",
            "5/5 [==============================] - 0s 7ms/step - loss: 1.6436 - accuracy: 0.3600\n",
            "Epoch 236/500\n",
            "5/5 [==============================] - 0s 6ms/step - loss: 1.6483 - accuracy: 0.3600\n",
            "Epoch 237/500\n",
            "5/5 [==============================] - 0s 6ms/step - loss: 1.6521 - accuracy: 0.4000\n",
            "Epoch 238/500\n",
            "5/5 [==============================] - 0s 5ms/step - loss: 1.6630 - accuracy: 0.3600\n",
            "Epoch 239/500\n",
            "5/5 [==============================] - 0s 8ms/step - loss: 1.6452 - accuracy: 0.3800\n",
            "Epoch 240/500\n",
            "5/5 [==============================] - 0s 6ms/step - loss: 1.6470 - accuracy: 0.3400\n",
            "Epoch 241/500\n",
            "5/5 [==============================] - 0s 6ms/step - loss: 1.6490 - accuracy: 0.3800\n",
            "Epoch 242/500\n",
            "5/5 [==============================] - 0s 6ms/step - loss: 1.6533 - accuracy: 0.3400\n",
            "Epoch 243/500\n",
            "5/5 [==============================] - 0s 6ms/step - loss: 1.6443 - accuracy: 0.3400\n",
            "Epoch 244/500\n",
            "5/5 [==============================] - 0s 7ms/step - loss: 1.6417 - accuracy: 0.3800\n",
            "Epoch 245/500\n",
            "5/5 [==============================] - 0s 6ms/step - loss: 1.6475 - accuracy: 0.3800\n",
            "Epoch 246/500\n",
            "5/5 [==============================] - 0s 6ms/step - loss: 1.6507 - accuracy: 0.3600\n",
            "Epoch 247/500\n",
            "5/5 [==============================] - 0s 6ms/step - loss: 1.6380 - accuracy: 0.3800\n",
            "Epoch 248/500\n",
            "5/5 [==============================] - 0s 6ms/step - loss: 1.6389 - accuracy: 0.3600\n",
            "Epoch 249/500\n",
            "5/5 [==============================] - 0s 7ms/step - loss: 1.6404 - accuracy: 0.3600\n",
            "Epoch 250/500\n",
            "5/5 [==============================] - 0s 6ms/step - loss: 1.6337 - accuracy: 0.4000\n",
            "Epoch 251/500\n",
            "5/5 [==============================] - 0s 6ms/step - loss: 1.6384 - accuracy: 0.3800\n",
            "Epoch 252/500\n",
            "5/5 [==============================] - 0s 6ms/step - loss: 1.6389 - accuracy: 0.3600\n",
            "Epoch 253/500\n",
            "5/5 [==============================] - 0s 8ms/step - loss: 1.6374 - accuracy: 0.3600\n",
            "Epoch 254/500\n",
            "5/5 [==============================] - 0s 6ms/step - loss: 1.6562 - accuracy: 0.3600\n",
            "Epoch 255/500\n",
            "5/5 [==============================] - 0s 6ms/step - loss: 1.6359 - accuracy: 0.3600\n",
            "Epoch 256/500\n",
            "5/5 [==============================] - 0s 6ms/step - loss: 1.6642 - accuracy: 0.3400\n",
            "Epoch 257/500\n",
            "5/5 [==============================] - 0s 6ms/step - loss: 1.6616 - accuracy: 0.3400\n",
            "Epoch 258/500\n",
            "5/5 [==============================] - 0s 6ms/step - loss: 1.6451 - accuracy: 0.3400\n",
            "Epoch 259/500\n",
            "5/5 [==============================] - 0s 5ms/step - loss: 1.6388 - accuracy: 0.3600\n",
            "Epoch 260/500\n",
            "5/5 [==============================] - 0s 6ms/step - loss: 1.6381 - accuracy: 0.3800\n",
            "Epoch 261/500\n",
            "5/5 [==============================] - 0s 6ms/step - loss: 1.6334 - accuracy: 0.3400\n",
            "Epoch 262/500\n",
            "5/5 [==============================] - 0s 7ms/step - loss: 1.6488 - accuracy: 0.2800\n",
            "Epoch 263/500\n",
            "5/5 [==============================] - 0s 7ms/step - loss: 1.6391 - accuracy: 0.3600\n",
            "Epoch 264/500\n",
            "5/5 [==============================] - 0s 7ms/step - loss: 1.6310 - accuracy: 0.4000\n",
            "Epoch 265/500\n",
            "5/5 [==============================] - 0s 6ms/step - loss: 1.6362 - accuracy: 0.3400\n",
            "Epoch 266/500\n",
            "5/5 [==============================] - 0s 7ms/step - loss: 1.6359 - accuracy: 0.3400\n",
            "Epoch 267/500\n",
            "5/5 [==============================] - 0s 6ms/step - loss: 1.6376 - accuracy: 0.3400\n",
            "Epoch 268/500\n",
            "5/5 [==============================] - 0s 6ms/step - loss: 1.6363 - accuracy: 0.3400\n",
            "Epoch 269/500\n",
            "5/5 [==============================] - 0s 6ms/step - loss: 1.6298 - accuracy: 0.3800\n",
            "Epoch 270/500\n",
            "5/5 [==============================] - 0s 7ms/step - loss: 1.6804 - accuracy: 0.3400\n",
            "Epoch 271/500\n",
            "5/5 [==============================] - 0s 7ms/step - loss: 1.6287 - accuracy: 0.3400\n",
            "Epoch 272/500\n",
            "5/5 [==============================] - 0s 6ms/step - loss: 1.6582 - accuracy: 0.3200\n",
            "Epoch 273/500\n",
            "5/5 [==============================] - 0s 6ms/step - loss: 1.6472 - accuracy: 0.3200\n",
            "Epoch 274/500\n",
            "5/5 [==============================] - 0s 5ms/step - loss: 1.6282 - accuracy: 0.3800\n",
            "Epoch 275/500\n",
            "5/5 [==============================] - 0s 6ms/step - loss: 1.6324 - accuracy: 0.3800\n",
            "Epoch 276/500\n",
            "5/5 [==============================] - 0s 6ms/step - loss: 1.6360 - accuracy: 0.3800\n",
            "Epoch 277/500\n",
            "5/5 [==============================] - 0s 6ms/step - loss: 1.6323 - accuracy: 0.3400\n",
            "Epoch 278/500\n",
            "5/5 [==============================] - 0s 7ms/step - loss: 1.6321 - accuracy: 0.3800\n",
            "Epoch 279/500\n",
            "5/5 [==============================] - 0s 6ms/step - loss: 1.6263 - accuracy: 0.3400\n",
            "Epoch 280/500\n",
            "5/5 [==============================] - 0s 7ms/step - loss: 1.6297 - accuracy: 0.3400\n",
            "Epoch 281/500\n",
            "5/5 [==============================] - 0s 6ms/step - loss: 1.6267 - accuracy: 0.3400\n",
            "Epoch 282/500\n",
            "5/5 [==============================] - 0s 6ms/step - loss: 1.6279 - accuracy: 0.3400\n",
            "Epoch 283/500\n",
            "5/5 [==============================] - 0s 6ms/step - loss: 1.6290 - accuracy: 0.3400\n",
            "Epoch 284/500\n",
            "5/5 [==============================] - 0s 6ms/step - loss: 1.6351 - accuracy: 0.4000\n",
            "Epoch 285/500\n",
            "5/5 [==============================] - 0s 6ms/step - loss: 1.6364 - accuracy: 0.3600\n",
            "Epoch 286/500\n",
            "5/5 [==============================] - 0s 6ms/step - loss: 1.6427 - accuracy: 0.3000\n",
            "Epoch 287/500\n",
            "5/5 [==============================] - 0s 6ms/step - loss: 1.6236 - accuracy: 0.3600\n",
            "Epoch 288/500\n",
            "5/5 [==============================] - 0s 6ms/step - loss: 1.6278 - accuracy: 0.3800\n",
            "Epoch 289/500\n",
            "5/5 [==============================] - 0s 6ms/step - loss: 1.6252 - accuracy: 0.3800\n",
            "Epoch 290/500\n",
            "5/5 [==============================] - 0s 6ms/step - loss: 1.6305 - accuracy: 0.3800\n",
            "Epoch 291/500\n",
            "5/5 [==============================] - 0s 6ms/step - loss: 1.6248 - accuracy: 0.3600\n",
            "Epoch 292/500\n",
            "5/5 [==============================] - 0s 7ms/step - loss: 1.6371 - accuracy: 0.3400\n",
            "Epoch 293/500\n",
            "5/5 [==============================] - 0s 6ms/step - loss: 1.6191 - accuracy: 0.3600\n",
            "Epoch 294/500\n",
            "5/5 [==============================] - 0s 6ms/step - loss: 1.6314 - accuracy: 0.3200\n",
            "Epoch 295/500\n",
            "5/5 [==============================] - 0s 6ms/step - loss: 1.6312 - accuracy: 0.3400\n",
            "Epoch 296/500\n",
            "5/5 [==============================] - 0s 6ms/step - loss: 1.6315 - accuracy: 0.3800\n",
            "Epoch 297/500\n",
            "5/5 [==============================] - 0s 6ms/step - loss: 1.6328 - accuracy: 0.3400\n",
            "Epoch 298/500\n",
            "5/5 [==============================] - 0s 6ms/step - loss: 1.6233 - accuracy: 0.3600\n",
            "Epoch 299/500\n",
            "5/5 [==============================] - 0s 6ms/step - loss: 1.6167 - accuracy: 0.3600\n",
            "Epoch 300/500\n",
            "5/5 [==============================] - 0s 6ms/step - loss: 1.6181 - accuracy: 0.3600\n",
            "Epoch 301/500\n",
            "5/5 [==============================] - 0s 5ms/step - loss: 1.6294 - accuracy: 0.3600\n",
            "Epoch 302/500\n",
            "5/5 [==============================] - 0s 6ms/step - loss: 1.6139 - accuracy: 0.3600\n",
            "Epoch 303/500\n",
            "5/5 [==============================] - 0s 7ms/step - loss: 1.6183 - accuracy: 0.3600\n",
            "Epoch 304/500\n",
            "5/5 [==============================] - 0s 8ms/step - loss: 1.6293 - accuracy: 0.3400\n",
            "Epoch 305/500\n",
            "5/5 [==============================] - 0s 8ms/step - loss: 1.6182 - accuracy: 0.3400\n",
            "Epoch 306/500\n",
            "5/5 [==============================] - 0s 6ms/step - loss: 1.6185 - accuracy: 0.3400\n",
            "Epoch 307/500\n",
            "5/5 [==============================] - 0s 6ms/step - loss: 1.6279 - accuracy: 0.3400\n",
            "Epoch 308/500\n",
            "5/5 [==============================] - 0s 7ms/step - loss: 1.6236 - accuracy: 0.3600\n",
            "Epoch 309/500\n",
            "5/5 [==============================] - 0s 7ms/step - loss: 1.6141 - accuracy: 0.3600\n",
            "Epoch 310/500\n",
            "5/5 [==============================] - 0s 6ms/step - loss: 1.6172 - accuracy: 0.3800\n",
            "Epoch 311/500\n",
            "5/5 [==============================] - 0s 7ms/step - loss: 1.6180 - accuracy: 0.3400\n",
            "Epoch 312/500\n",
            "5/5 [==============================] - 0s 7ms/step - loss: 1.6147 - accuracy: 0.3400\n",
            "Epoch 313/500\n",
            "5/5 [==============================] - 0s 6ms/step - loss: 1.6235 - accuracy: 0.3400\n",
            "Epoch 314/500\n",
            "5/5 [==============================] - 0s 6ms/step - loss: 1.6163 - accuracy: 0.3400\n",
            "Epoch 315/500\n",
            "5/5 [==============================] - 0s 7ms/step - loss: 1.6128 - accuracy: 0.3400\n",
            "Epoch 316/500\n",
            "5/5 [==============================] - 0s 6ms/step - loss: 1.6193 - accuracy: 0.3600\n",
            "Epoch 317/500\n",
            "5/5 [==============================] - 0s 6ms/step - loss: 1.6276 - accuracy: 0.3600\n",
            "Epoch 318/500\n",
            "5/5 [==============================] - 0s 6ms/step - loss: 1.6346 - accuracy: 0.3400\n",
            "Epoch 319/500\n",
            "5/5 [==============================] - 0s 7ms/step - loss: 1.6115 - accuracy: 0.3600\n",
            "Epoch 320/500\n",
            "5/5 [==============================] - 0s 6ms/step - loss: 1.6198 - accuracy: 0.3200\n",
            "Epoch 321/500\n",
            "5/5 [==============================] - 0s 5ms/step - loss: 1.6190 - accuracy: 0.3200\n",
            "Epoch 322/500\n",
            "5/5 [==============================] - 0s 7ms/step - loss: 1.6105 - accuracy: 0.3400\n",
            "Epoch 323/500\n",
            "5/5 [==============================] - 0s 6ms/step - loss: 1.6210 - accuracy: 0.3200\n",
            "Epoch 324/500\n",
            "5/5 [==============================] - 0s 6ms/step - loss: 1.6101 - accuracy: 0.3800\n",
            "Epoch 325/500\n",
            "5/5 [==============================] - 0s 7ms/step - loss: 1.6269 - accuracy: 0.3800\n",
            "Epoch 326/500\n",
            "5/5 [==============================] - 0s 6ms/step - loss: 1.6114 - accuracy: 0.3600\n",
            "Epoch 327/500\n",
            "5/5 [==============================] - 0s 6ms/step - loss: 1.6222 - accuracy: 0.3400\n",
            "Epoch 328/500\n",
            "5/5 [==============================] - 0s 7ms/step - loss: 1.6107 - accuracy: 0.3400\n",
            "Epoch 329/500\n",
            "5/5 [==============================] - 0s 7ms/step - loss: 1.6183 - accuracy: 0.3400\n",
            "Epoch 330/500\n",
            "5/5 [==============================] - 0s 7ms/step - loss: 1.6142 - accuracy: 0.3400\n",
            "Epoch 331/500\n",
            "5/5 [==============================] - 0s 6ms/step - loss: 1.6052 - accuracy: 0.3600\n",
            "Epoch 332/500\n",
            "5/5 [==============================] - 0s 6ms/step - loss: 1.6076 - accuracy: 0.3400\n",
            "Epoch 333/500\n",
            "5/5 [==============================] - 0s 6ms/step - loss: 1.6225 - accuracy: 0.3200\n",
            "Epoch 334/500\n",
            "5/5 [==============================] - 0s 6ms/step - loss: 1.6181 - accuracy: 0.3600\n",
            "Epoch 335/500\n",
            "5/5 [==============================] - 0s 6ms/step - loss: 1.6200 - accuracy: 0.3600\n",
            "Epoch 336/500\n",
            "5/5 [==============================] - 0s 6ms/step - loss: 1.6087 - accuracy: 0.3600\n",
            "Epoch 337/500\n",
            "5/5 [==============================] - 0s 7ms/step - loss: 1.6181 - accuracy: 0.3400\n",
            "Epoch 338/500\n",
            "5/5 [==============================] - 0s 7ms/step - loss: 1.6166 - accuracy: 0.3600\n",
            "Epoch 339/500\n",
            "5/5 [==============================] - 0s 7ms/step - loss: 1.6088 - accuracy: 0.3600\n",
            "Epoch 340/500\n",
            "5/5 [==============================] - 0s 6ms/step - loss: 1.6032 - accuracy: 0.3400\n",
            "Epoch 341/500\n",
            "5/5 [==============================] - 0s 7ms/step - loss: 1.6082 - accuracy: 0.3600\n",
            "Epoch 342/500\n",
            "5/5 [==============================] - 0s 6ms/step - loss: 1.6095 - accuracy: 0.3600\n",
            "Epoch 343/500\n",
            "5/5 [==============================] - 0s 6ms/step - loss: 1.6247 - accuracy: 0.3400\n",
            "Epoch 344/500\n",
            "5/5 [==============================] - 0s 6ms/step - loss: 1.6087 - accuracy: 0.3400\n",
            "Epoch 345/500\n",
            "5/5 [==============================] - 0s 7ms/step - loss: 1.6123 - accuracy: 0.3400\n",
            "Epoch 346/500\n",
            "5/5 [==============================] - 0s 5ms/step - loss: 1.6199 - accuracy: 0.3800\n",
            "Epoch 347/500\n",
            "5/5 [==============================] - 0s 7ms/step - loss: 1.6045 - accuracy: 0.3600\n",
            "Epoch 348/500\n",
            "5/5 [==============================] - 0s 6ms/step - loss: 1.6055 - accuracy: 0.3600\n",
            "Epoch 349/500\n",
            "5/5 [==============================] - 0s 6ms/step - loss: 1.6090 - accuracy: 0.3600\n",
            "Epoch 350/500\n",
            "5/5 [==============================] - 0s 6ms/step - loss: 1.6077 - accuracy: 0.3400\n",
            "Epoch 351/500\n",
            "5/5 [==============================] - 0s 6ms/step - loss: 1.6068 - accuracy: 0.3600\n",
            "Epoch 352/500\n",
            "5/5 [==============================] - 0s 8ms/step - loss: 1.6085 - accuracy: 0.3400\n",
            "Epoch 353/500\n",
            "5/5 [==============================] - 0s 6ms/step - loss: 1.6027 - accuracy: 0.3600\n",
            "Epoch 354/500\n",
            "5/5 [==============================] - 0s 6ms/step - loss: 1.6021 - accuracy: 0.3600\n",
            "Epoch 355/500\n",
            "5/5 [==============================] - 0s 7ms/step - loss: 1.6086 - accuracy: 0.3800\n",
            "Epoch 356/500\n",
            "5/5 [==============================] - 0s 6ms/step - loss: 1.6013 - accuracy: 0.3400\n",
            "Epoch 357/500\n",
            "5/5 [==============================] - 0s 6ms/step - loss: 1.6166 - accuracy: 0.3400\n",
            "Epoch 358/500\n",
            "5/5 [==============================] - 0s 6ms/step - loss: 1.6052 - accuracy: 0.3600\n",
            "Epoch 359/500\n",
            "5/5 [==============================] - 0s 7ms/step - loss: 1.5988 - accuracy: 0.3400\n",
            "Epoch 360/500\n",
            "5/5 [==============================] - 0s 6ms/step - loss: 1.6057 - accuracy: 0.3200\n",
            "Epoch 361/500\n",
            "5/5 [==============================] - 0s 6ms/step - loss: 1.5979 - accuracy: 0.3600\n",
            "Epoch 362/500\n",
            "5/5 [==============================] - 0s 7ms/step - loss: 1.5979 - accuracy: 0.3400\n",
            "Epoch 363/500\n",
            "5/5 [==============================] - 0s 9ms/step - loss: 1.5964 - accuracy: 0.3600\n",
            "Epoch 364/500\n",
            "5/5 [==============================] - 0s 6ms/step - loss: 1.6018 - accuracy: 0.3600\n",
            "Epoch 365/500\n",
            "5/5 [==============================] - 0s 7ms/step - loss: 1.5975 - accuracy: 0.3400\n",
            "Epoch 366/500\n",
            "5/5 [==============================] - 0s 7ms/step - loss: 1.6093 - accuracy: 0.3400\n",
            "Epoch 367/500\n",
            "5/5 [==============================] - 0s 6ms/step - loss: 1.6016 - accuracy: 0.3400\n",
            "Epoch 368/500\n",
            "5/5 [==============================] - 0s 6ms/step - loss: 1.5968 - accuracy: 0.3200\n",
            "Epoch 369/500\n",
            "5/5 [==============================] - 0s 6ms/step - loss: 1.5956 - accuracy: 0.3400\n",
            "Epoch 370/500\n",
            "5/5 [==============================] - 0s 6ms/step - loss: 1.5920 - accuracy: 0.3400\n",
            "Epoch 371/500\n",
            "5/5 [==============================] - 0s 6ms/step - loss: 1.5989 - accuracy: 0.3600\n",
            "Epoch 372/500\n",
            "5/5 [==============================] - 0s 6ms/step - loss: 1.5944 - accuracy: 0.3600\n",
            "Epoch 373/500\n",
            "5/5 [==============================] - 0s 6ms/step - loss: 1.6066 - accuracy: 0.3400\n",
            "Epoch 374/500\n",
            "5/5 [==============================] - 0s 6ms/step - loss: 1.6055 - accuracy: 0.3600\n",
            "Epoch 375/500\n",
            "5/5 [==============================] - 0s 7ms/step - loss: 1.6073 - accuracy: 0.3400\n",
            "Epoch 376/500\n",
            "5/5 [==============================] - 0s 6ms/step - loss: 1.6016 - accuracy: 0.3600\n",
            "Epoch 377/500\n",
            "5/5 [==============================] - 0s 6ms/step - loss: 1.6138 - accuracy: 0.3200\n",
            "Epoch 378/500\n",
            "5/5 [==============================] - 0s 7ms/step - loss: 1.6154 - accuracy: 0.2800\n",
            "Epoch 379/500\n",
            "5/5 [==============================] - 0s 8ms/step - loss: 1.5957 - accuracy: 0.3600\n",
            "Epoch 380/500\n",
            "5/5 [==============================] - 0s 6ms/step - loss: 1.6100 - accuracy: 0.3800\n",
            "Epoch 381/500\n",
            "5/5 [==============================] - 0s 6ms/step - loss: 1.5945 - accuracy: 0.3600\n",
            "Epoch 382/500\n",
            "5/5 [==============================] - 0s 7ms/step - loss: 1.5934 - accuracy: 0.3400\n",
            "Epoch 383/500\n",
            "5/5 [==============================] - 0s 7ms/step - loss: 1.5891 - accuracy: 0.3400\n",
            "Epoch 384/500\n",
            "5/5 [==============================] - 0s 8ms/step - loss: 1.5889 - accuracy: 0.3400\n",
            "Epoch 385/500\n",
            "5/5 [==============================] - 0s 6ms/step - loss: 1.5966 - accuracy: 0.3400\n",
            "Epoch 386/500\n",
            "5/5 [==============================] - 0s 6ms/step - loss: 1.5927 - accuracy: 0.3400\n",
            "Epoch 387/500\n",
            "5/5 [==============================] - 0s 8ms/step - loss: 1.5950 - accuracy: 0.3800\n",
            "Epoch 388/500\n",
            "5/5 [==============================] - 0s 6ms/step - loss: 1.5882 - accuracy: 0.3400\n",
            "Epoch 389/500\n",
            "5/5 [==============================] - 0s 6ms/step - loss: 1.5995 - accuracy: 0.3600\n",
            "Epoch 390/500\n",
            "5/5 [==============================] - 0s 7ms/step - loss: 1.6034 - accuracy: 0.3800\n",
            "Epoch 391/500\n",
            "5/5 [==============================] - 0s 6ms/step - loss: 1.5916 - accuracy: 0.3600\n",
            "Epoch 392/500\n",
            "5/5 [==============================] - 0s 6ms/step - loss: 1.5924 - accuracy: 0.3400\n",
            "Epoch 393/500\n",
            "5/5 [==============================] - 0s 6ms/step - loss: 1.5869 - accuracy: 0.3400\n",
            "Epoch 394/500\n",
            "5/5 [==============================] - 0s 6ms/step - loss: 1.5925 - accuracy: 0.3400\n",
            "Epoch 395/500\n",
            "5/5 [==============================] - 0s 6ms/step - loss: 1.6060 - accuracy: 0.3200\n",
            "Epoch 396/500\n",
            "5/5 [==============================] - 0s 6ms/step - loss: 1.6050 - accuracy: 0.3600\n",
            "Epoch 397/500\n",
            "5/5 [==============================] - 0s 6ms/step - loss: 1.5892 - accuracy: 0.3400\n",
            "Epoch 398/500\n",
            "5/5 [==============================] - 0s 7ms/step - loss: 1.6072 - accuracy: 0.3400\n",
            "Epoch 399/500\n",
            "5/5 [==============================] - 0s 6ms/step - loss: 1.5875 - accuracy: 0.3600\n",
            "Epoch 400/500\n",
            "5/5 [==============================] - 0s 7ms/step - loss: 1.5923 - accuracy: 0.3400\n",
            "Epoch 401/500\n",
            "5/5 [==============================] - 0s 7ms/step - loss: 1.5943 - accuracy: 0.3800\n",
            "Epoch 402/500\n",
            "5/5 [==============================] - 0s 6ms/step - loss: 1.5962 - accuracy: 0.3400\n",
            "Epoch 403/500\n",
            "5/5 [==============================] - 0s 7ms/step - loss: 1.5807 - accuracy: 0.3200\n",
            "Epoch 404/500\n",
            "5/5 [==============================] - 0s 7ms/step - loss: 1.5977 - accuracy: 0.3200\n",
            "Epoch 405/500\n",
            "5/5 [==============================] - 0s 6ms/step - loss: 1.5930 - accuracy: 0.3600\n",
            "Epoch 406/500\n",
            "5/5 [==============================] - 0s 7ms/step - loss: 1.5855 - accuracy: 0.3400\n",
            "Epoch 407/500\n",
            "5/5 [==============================] - 0s 6ms/step - loss: 1.5805 - accuracy: 0.3400\n",
            "Epoch 408/500\n",
            "5/5 [==============================] - 0s 6ms/step - loss: 1.5810 - accuracy: 0.3200\n",
            "Epoch 409/500\n",
            "5/5 [==============================] - 0s 6ms/step - loss: 1.5893 - accuracy: 0.3400\n",
            "Epoch 410/500\n",
            "5/5 [==============================] - 0s 6ms/step - loss: 1.5803 - accuracy: 0.3400\n",
            "Epoch 411/500\n",
            "5/5 [==============================] - 0s 6ms/step - loss: 1.5873 - accuracy: 0.3600\n",
            "Epoch 412/500\n",
            "5/5 [==============================] - 0s 7ms/step - loss: 1.5798 - accuracy: 0.3200\n",
            "Epoch 413/500\n",
            "5/5 [==============================] - 0s 6ms/step - loss: 1.5873 - accuracy: 0.3400\n",
            "Epoch 414/500\n",
            "5/5 [==============================] - 0s 7ms/step - loss: 1.5867 - accuracy: 0.3400\n",
            "Epoch 415/500\n",
            "5/5 [==============================] - 0s 6ms/step - loss: 1.5977 - accuracy: 0.3400\n",
            "Epoch 416/500\n",
            "5/5 [==============================] - 0s 6ms/step - loss: 1.5790 - accuracy: 0.3400\n",
            "Epoch 417/500\n",
            "5/5 [==============================] - 0s 6ms/step - loss: 1.5839 - accuracy: 0.3000\n",
            "Epoch 418/500\n",
            "5/5 [==============================] - 0s 6ms/step - loss: 1.5801 - accuracy: 0.3200\n",
            "Epoch 419/500\n",
            "5/5 [==============================] - 0s 7ms/step - loss: 1.5782 - accuracy: 0.3400\n",
            "Epoch 420/500\n",
            "5/5 [==============================] - 0s 6ms/step - loss: 1.5763 - accuracy: 0.3400\n",
            "Epoch 421/500\n",
            "5/5 [==============================] - 0s 9ms/step - loss: 1.5792 - accuracy: 0.3400\n",
            "Epoch 422/500\n",
            "5/5 [==============================] - 0s 6ms/step - loss: 1.5833 - accuracy: 0.3600\n",
            "Epoch 423/500\n",
            "5/5 [==============================] - 0s 6ms/step - loss: 1.5799 - accuracy: 0.3400\n",
            "Epoch 424/500\n",
            "5/5 [==============================] - 0s 6ms/step - loss: 1.5773 - accuracy: 0.3400\n",
            "Epoch 425/500\n",
            "5/5 [==============================] - 0s 7ms/step - loss: 1.5720 - accuracy: 0.3600\n",
            "Epoch 426/500\n",
            "5/5 [==============================] - 0s 6ms/step - loss: 1.5724 - accuracy: 0.3400\n",
            "Epoch 427/500\n",
            "5/5 [==============================] - 0s 6ms/step - loss: 1.5796 - accuracy: 0.3400\n",
            "Epoch 428/500\n",
            "5/5 [==============================] - 0s 6ms/step - loss: 1.5753 - accuracy: 0.3400\n",
            "Epoch 429/500\n",
            "5/5 [==============================] - 0s 7ms/step - loss: 1.5724 - accuracy: 0.3400\n",
            "Epoch 430/500\n",
            "5/5 [==============================] - 0s 6ms/step - loss: 1.5813 - accuracy: 0.3400\n",
            "Epoch 431/500\n",
            "5/5 [==============================] - 0s 7ms/step - loss: 1.5831 - accuracy: 0.3800\n",
            "Epoch 432/500\n",
            "5/5 [==============================] - 0s 8ms/step - loss: 1.5889 - accuracy: 0.3800\n",
            "Epoch 433/500\n",
            "5/5 [==============================] - 0s 7ms/step - loss: 1.5786 - accuracy: 0.3400\n",
            "Epoch 434/500\n",
            "5/5 [==============================] - 0s 7ms/step - loss: 1.5808 - accuracy: 0.3400\n",
            "Epoch 435/500\n",
            "5/5 [==============================] - 0s 6ms/step - loss: 1.5709 - accuracy: 0.3400\n",
            "Epoch 436/500\n",
            "5/5 [==============================] - 0s 7ms/step - loss: 1.5792 - accuracy: 0.3400\n",
            "Epoch 437/500\n",
            "5/5 [==============================] - 0s 6ms/step - loss: 1.5960 - accuracy: 0.3400\n",
            "Epoch 438/500\n",
            "5/5 [==============================] - 0s 8ms/step - loss: 1.5724 - accuracy: 0.3200\n",
            "Epoch 439/500\n",
            "5/5 [==============================] - 0s 6ms/step - loss: 1.5912 - accuracy: 0.3400\n",
            "Epoch 440/500\n",
            "5/5 [==============================] - 0s 6ms/step - loss: 1.5775 - accuracy: 0.3800\n",
            "Epoch 441/500\n",
            "5/5 [==============================] - 0s 7ms/step - loss: 1.5744 - accuracy: 0.3600\n",
            "Epoch 442/500\n",
            "5/5 [==============================] - 0s 6ms/step - loss: 1.5677 - accuracy: 0.3600\n",
            "Epoch 443/500\n",
            "5/5 [==============================] - 0s 7ms/step - loss: 1.5799 - accuracy: 0.3400\n",
            "Epoch 444/500\n",
            "5/5 [==============================] - 0s 6ms/step - loss: 1.5740 - accuracy: 0.3600\n",
            "Epoch 445/500\n",
            "5/5 [==============================] - 0s 9ms/step - loss: 1.5748 - accuracy: 0.3600\n",
            "Epoch 446/500\n",
            "5/5 [==============================] - 0s 6ms/step - loss: 1.5726 - accuracy: 0.3600\n",
            "Epoch 447/500\n",
            "5/5 [==============================] - 0s 7ms/step - loss: 1.5663 - accuracy: 0.3200\n",
            "Epoch 448/500\n",
            "5/5 [==============================] - 0s 6ms/step - loss: 1.5824 - accuracy: 0.3400\n",
            "Epoch 449/500\n",
            "5/5 [==============================] - 0s 6ms/step - loss: 1.5706 - accuracy: 0.3400\n",
            "Epoch 450/500\n",
            "5/5 [==============================] - 0s 6ms/step - loss: 1.5661 - accuracy: 0.3200\n",
            "Epoch 451/500\n",
            "5/5 [==============================] - 0s 6ms/step - loss: 1.5728 - accuracy: 0.3400\n",
            "Epoch 452/500\n",
            "5/5 [==============================] - 0s 9ms/step - loss: 1.5748 - accuracy: 0.3400\n",
            "Epoch 453/500\n",
            "5/5 [==============================] - 0s 6ms/step - loss: 1.5725 - accuracy: 0.3400\n",
            "Epoch 454/500\n",
            "5/5 [==============================] - 0s 6ms/step - loss: 1.5717 - accuracy: 0.3400\n",
            "Epoch 455/500\n",
            "5/5 [==============================] - 0s 6ms/step - loss: 1.5739 - accuracy: 0.3200\n",
            "Epoch 456/500\n",
            "5/5 [==============================] - 0s 6ms/step - loss: 1.5645 - accuracy: 0.3400\n",
            "Epoch 457/500\n",
            "5/5 [==============================] - 0s 6ms/step - loss: 1.5726 - accuracy: 0.3200\n",
            "Epoch 458/500\n",
            "5/5 [==============================] - 0s 8ms/step - loss: 1.5834 - accuracy: 0.3200\n",
            "Epoch 459/500\n",
            "5/5 [==============================] - 0s 6ms/step - loss: 1.5622 - accuracy: 0.3000\n",
            "Epoch 460/500\n",
            "5/5 [==============================] - 0s 6ms/step - loss: 1.5622 - accuracy: 0.3200\n",
            "Epoch 461/500\n",
            "5/5 [==============================] - 0s 7ms/step - loss: 1.5627 - accuracy: 0.3200\n",
            "Epoch 462/500\n",
            "5/5 [==============================] - 0s 7ms/step - loss: 1.5636 - accuracy: 0.3200\n",
            "Epoch 463/500\n",
            "5/5 [==============================] - 0s 7ms/step - loss: 1.5664 - accuracy: 0.3200\n",
            "Epoch 464/500\n",
            "5/5 [==============================] - 0s 6ms/step - loss: 1.5828 - accuracy: 0.3200\n",
            "Epoch 465/500\n",
            "5/5 [==============================] - 0s 7ms/step - loss: 1.5783 - accuracy: 0.3400\n",
            "Epoch 466/500\n",
            "5/5 [==============================] - 0s 7ms/step - loss: 1.5744 - accuracy: 0.3600\n",
            "Epoch 467/500\n",
            "5/5 [==============================] - 0s 6ms/step - loss: 1.5514 - accuracy: 0.3600\n",
            "Epoch 468/500\n",
            "5/5 [==============================] - 0s 6ms/step - loss: 1.5715 - accuracy: 0.3400\n",
            "Epoch 469/500\n",
            "5/5 [==============================] - 0s 7ms/step - loss: 1.5594 - accuracy: 0.3400\n",
            "Epoch 470/500\n",
            "5/5 [==============================] - 0s 6ms/step - loss: 1.5689 - accuracy: 0.3200\n",
            "Epoch 471/500\n",
            "5/5 [==============================] - 0s 7ms/step - loss: 1.5614 - accuracy: 0.3400\n",
            "Epoch 472/500\n",
            "5/5 [==============================] - 0s 7ms/step - loss: 1.5598 - accuracy: 0.3400\n",
            "Epoch 473/500\n",
            "5/5 [==============================] - 0s 6ms/step - loss: 1.5727 - accuracy: 0.3000\n",
            "Epoch 474/500\n",
            "5/5 [==============================] - 0s 7ms/step - loss: 1.5569 - accuracy: 0.3400\n",
            "Epoch 475/500\n",
            "5/5 [==============================] - 0s 6ms/step - loss: 1.5717 - accuracy: 0.3400\n",
            "Epoch 476/500\n",
            "5/5 [==============================] - 0s 8ms/step - loss: 1.5671 - accuracy: 0.3400\n",
            "Epoch 477/500\n",
            "5/5 [==============================] - 0s 6ms/step - loss: 1.5760 - accuracy: 0.3400\n",
            "Epoch 478/500\n",
            "5/5 [==============================] - 0s 7ms/step - loss: 1.6014 - accuracy: 0.3200\n",
            "Epoch 479/500\n",
            "5/5 [==============================] - 0s 7ms/step - loss: 1.5629 - accuracy: 0.3400\n",
            "Epoch 480/500\n",
            "5/5 [==============================] - 0s 7ms/step - loss: 1.5666 - accuracy: 0.3400\n",
            "Epoch 481/500\n",
            "5/5 [==============================] - 0s 7ms/step - loss: 1.5584 - accuracy: 0.3400\n",
            "Epoch 482/500\n",
            "5/5 [==============================] - 0s 7ms/step - loss: 1.5609 - accuracy: 0.3400\n",
            "Epoch 483/500\n",
            "5/5 [==============================] - 0s 7ms/step - loss: 1.5575 - accuracy: 0.3400\n",
            "Epoch 484/500\n",
            "5/5 [==============================] - 0s 7ms/step - loss: 1.5570 - accuracy: 0.3400\n",
            "Epoch 485/500\n",
            "5/5 [==============================] - 0s 6ms/step - loss: 1.5581 - accuracy: 0.3200\n",
            "Epoch 486/500\n",
            "5/5 [==============================] - 0s 6ms/step - loss: 1.5575 - accuracy: 0.3400\n",
            "Epoch 487/500\n",
            "5/5 [==============================] - 0s 6ms/step - loss: 1.5493 - accuracy: 0.3400\n",
            "Epoch 488/500\n",
            "5/5 [==============================] - 0s 6ms/step - loss: 1.5544 - accuracy: 0.3400\n",
            "Epoch 489/500\n",
            "5/5 [==============================] - 0s 6ms/step - loss: 1.5619 - accuracy: 0.3400\n",
            "Epoch 490/500\n",
            "5/5 [==============================] - 0s 7ms/step - loss: 1.5606 - accuracy: 0.3200\n",
            "Epoch 491/500\n",
            "5/5 [==============================] - 0s 6ms/step - loss: 1.5626 - accuracy: 0.3400\n",
            "Epoch 492/500\n",
            "5/5 [==============================] - 0s 7ms/step - loss: 1.5472 - accuracy: 0.3000\n",
            "Epoch 493/500\n",
            "5/5 [==============================] - 0s 6ms/step - loss: 1.5506 - accuracy: 0.3400\n",
            "Epoch 494/500\n",
            "5/5 [==============================] - 0s 7ms/step - loss: 1.5507 - accuracy: 0.3400\n",
            "Epoch 495/500\n",
            "5/5 [==============================] - 0s 7ms/step - loss: 1.5520 - accuracy: 0.3400\n",
            "Epoch 496/500\n",
            "5/5 [==============================] - 0s 8ms/step - loss: 1.5516 - accuracy: 0.3800\n",
            "Epoch 497/500\n",
            "5/5 [==============================] - 0s 7ms/step - loss: 1.5490 - accuracy: 0.3000\n",
            "Epoch 498/500\n",
            "5/5 [==============================] - 0s 6ms/step - loss: 1.5551 - accuracy: 0.3400\n",
            "Epoch 499/500\n",
            "5/5 [==============================] - 0s 6ms/step - loss: 1.5453 - accuracy: 0.3200\n",
            "Epoch 500/500\n",
            "5/5 [==============================] - 0s 8ms/step - loss: 1.5541 - accuracy: 0.3400\n"
          ],
          "name": "stdout"
        }
      ]
    },
    {
      "cell_type": "code",
      "metadata": {
        "colab": {
          "base_uri": "https://localhost:8080/"
        },
        "id": "39IG-R5VisHA",
        "outputId": "f12f550d-f1c1-46a1-e901-1e80f12beb39"
      },
      "source": [
        "model.evaluate(X_train, y_train)"
      ],
      "execution_count": 39,
      "outputs": [
        {
          "output_type": "stream",
          "text": [
            "2/2 [==============================] - 0s 7ms/step - loss: 1.9258 - accuracy: 0.3400\n"
          ],
          "name": "stdout"
        },
        {
          "output_type": "execute_result",
          "data": {
            "text/plain": [
              "[1.9257965087890625, 0.3400000035762787]"
            ]
          },
          "metadata": {
            "tags": []
          },
          "execution_count": 39
        }
      ]
    },
    {
      "cell_type": "code",
      "metadata": {
        "colab": {
          "base_uri": "https://localhost:8080/"
        },
        "id": "dsO97ceMrX8f",
        "outputId": "6ba6ffdb-92c2-4f4a-925c-7b59a7e36852"
      },
      "source": [
        "X_train[4:5]"
      ],
      "execution_count": 41,
      "outputs": [
        {
          "output_type": "execute_result",
          "data": {
            "text/plain": [
              "array([[[0.04733728],\n",
              "        [0.00591716],\n",
              "        [0.04142012]]])"
            ]
          },
          "metadata": {
            "tags": []
          },
          "execution_count": 41
        }
      ]
    },
    {
      "cell_type": "code",
      "metadata": {
        "colab": {
          "base_uri": "https://localhost:8080/"
        },
        "id": "J20YkRwgl0jy",
        "outputId": "dc798563-27b1-4d64-ad70-62da66301828"
      },
      "source": [
        "model.predict(X_train[4:5])"
      ],
      "execution_count": 42,
      "outputs": [
        {
          "output_type": "execute_result",
          "data": {
            "text/plain": [
              "array([[0.01117667, 0.05753594, 0.02594022, 0.02560124, 0.04001329,\n",
              "        0.01130049, 0.01275296, 0.06112053, 0.16438071, 0.34505776,\n",
              "        0.09525719, 0.1375045 , 0.0123585 ]], dtype=float32)"
            ]
          },
          "metadata": {
            "tags": []
          },
          "execution_count": 42
        }
      ]
    },
    {
      "cell_type": "code",
      "metadata": {
        "id": "I3K0dKr-rPxn"
      },
      "source": [
        "first = 0.04733728\n",
        "second = 0.00591716\n",
        "third = 0.04142012"
      ],
      "execution_count": 45,
      "outputs": []
    },
    {
      "cell_type": "code",
      "metadata": {
        "id": "I4wMYwC0sSVh"
      },
      "source": [
        "pred = model.predict([[[first],[second],[third]]])"
      ],
      "execution_count": 48,
      "outputs": []
    },
    {
      "cell_type": "code",
      "metadata": {
        "colab": {
          "base_uri": "https://localhost:8080/"
        },
        "id": "Q-N4pnfIsffP",
        "outputId": "fa417be9-ad3d-4094-9b40-fcb40604fbeb"
      },
      "source": [
        "np.argmax(pred)"
      ],
      "execution_count": 49,
      "outputs": [
        {
          "output_type": "execute_result",
          "data": {
            "text/plain": [
              "9"
            ]
          },
          "metadata": {
            "tags": []
          },
          "execution_count": 49
        }
      ]
    },
    {
      "cell_type": "code",
      "metadata": {
        "id": "psQxg2twskw_"
      },
      "source": [
        ""
      ],
      "execution_count": null,
      "outputs": []
    }
  ]
}