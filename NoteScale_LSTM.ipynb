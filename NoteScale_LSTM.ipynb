{
  "nbformat": 4,
  "nbformat_minor": 0,
  "metadata": {
    "colab": {
      "name": "NoteScale_LSTM.ipynb",
      "provenance": [],
      "authorship_tag": "ABX9TyOcnRpUmnsfVoxYv4uRw7ut"
    },
    "kernelspec": {
      "name": "python3",
      "display_name": "Python 3"
    },
    "language_info": {
      "name": "python"
    }
  },
  "cells": [
    {
      "cell_type": "code",
      "metadata": {
        "id": "kBMQ_S2TlFvh"
      },
      "source": [
        "note_seq = ['g8', 'e8', 'e4', 'f8', 'd8', 'd4', 'c8', 'd8', 'e8', 'f8', 'g8', 'g8', 'g4',\n",
        "       'g8', 'e8', 'e8', 'e8', 'f8', 'd8', 'd4', 'c8', 'e8', 'g8', 'g8', 'e8', 'e8', 'e4',\n",
        "       'd8', 'd8', 'd8', 'd8', 'd8', 'e8', 'f4', 'e8', 'e8', 'e8', 'e8', 'e8', 'f8', 'g4',\n",
        "       'g8', 'e8', 'e4', 'f8', 'd8', 'd4', 'c8', 'e8', 'g8', 'g8', 'e8', 'e8', 'e4']"
      ],
      "execution_count": 1,
      "outputs": []
    },
    {
      "cell_type": "code",
      "metadata": {
        "colab": {
          "base_uri": "https://localhost:8080/"
        },
        "id": "mr-zk9ryn_6R",
        "outputId": "deffe449-5aa9-401f-c5a3-997156694a74"
      },
      "source": [
        "note_seq[0:4], note_seq[1:5], note_seq[2:6]"
      ],
      "execution_count": 4,
      "outputs": [
        {
          "output_type": "execute_result",
          "data": {
            "text/plain": [
              "(['g8', 'e8', 'e4', 'f8'], ['e8', 'e4', 'f8', 'd8'], ['e4', 'f8', 'd8', 'd4'])"
            ]
          },
          "metadata": {
            "tags": []
          },
          "execution_count": 4
        }
      ]
    },
    {
      "cell_type": "code",
      "metadata": {
        "id": "I2BBEqmWleTI"
      },
      "source": [
        "code2idx = {'c4':0, 'd4':1, 'e4':2, 'f4':3, 'g4':4, 'a4':5, 'b4':6,\n",
        "            'c8':7, 'd8':8, 'e8':9, 'f8':10, 'g8':11, 'a8':12, 'b8':13}"
      ],
      "execution_count": 2,
      "outputs": []
    },
    {
      "cell_type": "code",
      "metadata": {
        "colab": {
          "base_uri": "https://localhost:8080/"
        },
        "id": "R51Pgd93njQe",
        "outputId": "29323853-e9c4-4004-87db-1731e933ffc7"
      },
      "source": [
        "range(len(note_seq)-4) # [4,8,12,...]"
      ],
      "execution_count": 3,
      "outputs": [
        {
          "output_type": "execute_result",
          "data": {
            "text/plain": [
              "range(0, 50)"
            ]
          },
          "metadata": {
            "tags": []
          },
          "execution_count": 3
        }
      ]
    },
    {
      "cell_type": "code",
      "metadata": {
        "colab": {
          "base_uri": "https://localhost:8080/"
        },
        "id": "LcPseyKelf6z",
        "outputId": "6cb5c766-ec5b-4807-8cd3-325be9bd502f"
      },
      "source": [
        "for i in range(len(note_seq)-4):\n",
        "  subset = note_seq[i:i+4]\n",
        "  print(subset)\n",
        "  for item in subset:\n",
        "    print(code2idx[item]) # item = key, value 값이 나옴"
      ],
      "execution_count": 7,
      "outputs": [
        {
          "output_type": "stream",
          "text": [
            "['g8', 'e8', 'e4', 'f8']\n",
            "11\n",
            "9\n",
            "2\n",
            "10\n",
            "['e8', 'e4', 'f8', 'd8']\n",
            "9\n",
            "2\n",
            "10\n",
            "8\n",
            "['e4', 'f8', 'd8', 'd4']\n",
            "2\n",
            "10\n",
            "8\n",
            "1\n",
            "['f8', 'd8', 'd4', 'c8']\n",
            "10\n",
            "8\n",
            "1\n",
            "7\n",
            "['d8', 'd4', 'c8', 'd8']\n",
            "8\n",
            "1\n",
            "7\n",
            "8\n",
            "['d4', 'c8', 'd8', 'e8']\n",
            "1\n",
            "7\n",
            "8\n",
            "9\n",
            "['c8', 'd8', 'e8', 'f8']\n",
            "7\n",
            "8\n",
            "9\n",
            "10\n",
            "['d8', 'e8', 'f8', 'g8']\n",
            "8\n",
            "9\n",
            "10\n",
            "11\n",
            "['e8', 'f8', 'g8', 'g8']\n",
            "9\n",
            "10\n",
            "11\n",
            "11\n",
            "['f8', 'g8', 'g8', 'g4']\n",
            "10\n",
            "11\n",
            "11\n",
            "4\n",
            "['g8', 'g8', 'g4', 'g8']\n",
            "11\n",
            "11\n",
            "4\n",
            "11\n",
            "['g8', 'g4', 'g8', 'e8']\n",
            "11\n",
            "4\n",
            "11\n",
            "9\n",
            "['g4', 'g8', 'e8', 'e8']\n",
            "4\n",
            "11\n",
            "9\n",
            "9\n",
            "['g8', 'e8', 'e8', 'e8']\n",
            "11\n",
            "9\n",
            "9\n",
            "9\n",
            "['e8', 'e8', 'e8', 'f8']\n",
            "9\n",
            "9\n",
            "9\n",
            "10\n",
            "['e8', 'e8', 'f8', 'd8']\n",
            "9\n",
            "9\n",
            "10\n",
            "8\n",
            "['e8', 'f8', 'd8', 'd4']\n",
            "9\n",
            "10\n",
            "8\n",
            "1\n",
            "['f8', 'd8', 'd4', 'c8']\n",
            "10\n",
            "8\n",
            "1\n",
            "7\n",
            "['d8', 'd4', 'c8', 'e8']\n",
            "8\n",
            "1\n",
            "7\n",
            "9\n",
            "['d4', 'c8', 'e8', 'g8']\n",
            "1\n",
            "7\n",
            "9\n",
            "11\n",
            "['c8', 'e8', 'g8', 'g8']\n",
            "7\n",
            "9\n",
            "11\n",
            "11\n",
            "['e8', 'g8', 'g8', 'e8']\n",
            "9\n",
            "11\n",
            "11\n",
            "9\n",
            "['g8', 'g8', 'e8', 'e8']\n",
            "11\n",
            "11\n",
            "9\n",
            "9\n",
            "['g8', 'e8', 'e8', 'e4']\n",
            "11\n",
            "9\n",
            "9\n",
            "2\n",
            "['e8', 'e8', 'e4', 'd8']\n",
            "9\n",
            "9\n",
            "2\n",
            "8\n",
            "['e8', 'e4', 'd8', 'd8']\n",
            "9\n",
            "2\n",
            "8\n",
            "8\n",
            "['e4', 'd8', 'd8', 'd8']\n",
            "2\n",
            "8\n",
            "8\n",
            "8\n",
            "['d8', 'd8', 'd8', 'd8']\n",
            "8\n",
            "8\n",
            "8\n",
            "8\n",
            "['d8', 'd8', 'd8', 'd8']\n",
            "8\n",
            "8\n",
            "8\n",
            "8\n",
            "['d8', 'd8', 'd8', 'e8']\n",
            "8\n",
            "8\n",
            "8\n",
            "9\n",
            "['d8', 'd8', 'e8', 'f4']\n",
            "8\n",
            "8\n",
            "9\n",
            "3\n",
            "['d8', 'e8', 'f4', 'e8']\n",
            "8\n",
            "9\n",
            "3\n",
            "9\n",
            "['e8', 'f4', 'e8', 'e8']\n",
            "9\n",
            "3\n",
            "9\n",
            "9\n",
            "['f4', 'e8', 'e8', 'e8']\n",
            "3\n",
            "9\n",
            "9\n",
            "9\n",
            "['e8', 'e8', 'e8', 'e8']\n",
            "9\n",
            "9\n",
            "9\n",
            "9\n",
            "['e8', 'e8', 'e8', 'e8']\n",
            "9\n",
            "9\n",
            "9\n",
            "9\n",
            "['e8', 'e8', 'e8', 'f8']\n",
            "9\n",
            "9\n",
            "9\n",
            "10\n",
            "['e8', 'e8', 'f8', 'g4']\n",
            "9\n",
            "9\n",
            "10\n",
            "4\n",
            "['e8', 'f8', 'g4', 'g8']\n",
            "9\n",
            "10\n",
            "4\n",
            "11\n",
            "['f8', 'g4', 'g8', 'e8']\n",
            "10\n",
            "4\n",
            "11\n",
            "9\n",
            "['g4', 'g8', 'e8', 'e4']\n",
            "4\n",
            "11\n",
            "9\n",
            "2\n",
            "['g8', 'e8', 'e4', 'f8']\n",
            "11\n",
            "9\n",
            "2\n",
            "10\n",
            "['e8', 'e4', 'f8', 'd8']\n",
            "9\n",
            "2\n",
            "10\n",
            "8\n",
            "['e4', 'f8', 'd8', 'd4']\n",
            "2\n",
            "10\n",
            "8\n",
            "1\n",
            "['f8', 'd8', 'd4', 'c8']\n",
            "10\n",
            "8\n",
            "1\n",
            "7\n",
            "['d8', 'd4', 'c8', 'e8']\n",
            "8\n",
            "1\n",
            "7\n",
            "9\n",
            "['d4', 'c8', 'e8', 'g8']\n",
            "1\n",
            "7\n",
            "9\n",
            "11\n",
            "['c8', 'e8', 'g8', 'g8']\n",
            "7\n",
            "9\n",
            "11\n",
            "11\n",
            "['e8', 'g8', 'g8', 'e8']\n",
            "9\n",
            "11\n",
            "11\n",
            "9\n",
            "['g8', 'g8', 'e8', 'e8']\n",
            "11\n",
            "11\n",
            "9\n",
            "9\n"
          ],
          "name": "stdout"
        }
      ]
    },
    {
      "cell_type": "code",
      "metadata": {
        "id": "7VYzAZwQoxUU"
      },
      "source": [
        ""
      ],
      "execution_count": null,
      "outputs": []
    }
  ]
}