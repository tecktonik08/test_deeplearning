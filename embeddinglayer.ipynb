{
  "nbformat": 4,
  "nbformat_minor": 0,
  "metadata": {
    "colab": {
      "name": "embeddinglayer.ipynb",
      "provenance": [],
      "authorship_tag": "ABX9TyOs0ZNUSpuXgL+13KPMqLjF"
    },
    "kernelspec": {
      "name": "python3",
      "display_name": "Python 3"
    },
    "language_info": {
      "name": "python"
    }
  },
  "cells": [
    {
      "cell_type": "code",
      "metadata": {
        "id": "S9CWDFI0uLnK"
      },
      "source": [
        "import tensorflow as tf"
      ],
      "execution_count": 1,
      "outputs": []
    },
    {
      "cell_type": "code",
      "metadata": {
        "colab": {
          "base_uri": "https://localhost:8080/"
        },
        "id": "jf8RyHgFvPuj",
        "outputId": "74b35bdf-04b2-494c-d0ab-238bc1573b02"
      },
      "source": [
        "import numpy as np\n",
        "x_data = np.array([[4],[20]])\n",
        "x_data, x_data.shape"
      ],
      "execution_count": 2,
      "outputs": [
        {
          "output_type": "execute_result",
          "data": {
            "text/plain": [
              "(array([[ 4],\n",
              "        [20]]), (2, 1))"
            ]
          },
          "metadata": {
            "tags": []
          },
          "execution_count": 2
        }
      ]
    },
    {
      "cell_type": "code",
      "metadata": {
        "id": "qCNKPy8AuZPU"
      },
      "source": [
        "model = tf.keras.Sequential()\n",
        "\n",
        "model.add(tf.keras.layers.Embedding(50.2, input_length=1)) # input layer\n",
        "model.add() # hidden layer\n",
        "model.add() # ouput layer\n",
        "\n",
        "model.compile(optimizer='adam', loss='mse')"
      ],
      "execution_count": null,
      "outputs": []
    },
    {
      "cell_type": "code",
      "metadata": {
        "id": "mc24DaJ3yIM_"
      },
      "source": [
        "model.predict(x_data)"
      ],
      "execution_count": null,
      "outputs": []
    }
  ]
}